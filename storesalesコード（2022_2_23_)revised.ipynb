{
  "nbformat": 4,
  "nbformat_minor": 0,
  "metadata": {
    "colab": {
      "name": "storesalesコード（2022/2/23-)revised",
      "provenance": []
    },
    "kernelspec": {
      "name": "python3",
      "display_name": "Python 3"
    },
    "language_info": {
      "name": "python"
    }
  },
  "cells": [
    {
      "cell_type": "code",
      "execution_count": null,
      "metadata": {
        "id": "vx98JVZzKX9P"
      },
      "outputs": [],
      "source": [
        "import pandas as pd\n",
        "import numpy as np"
      ]
    },
    {
      "cell_type": "code",
      "source": [
        "from google.colab import drive\n",
        "drive.mount('/content/drive')"
      ],
      "metadata": {
        "id": "CdXaYIC_OzjU",
        "outputId": "ea497dba-4cf9-476c-f917-3d87d906deb4",
        "colab": {
          "base_uri": "https://localhost:8080/"
        }
      },
      "execution_count": null,
      "outputs": [
        {
          "output_type": "stream",
          "name": "stdout",
          "text": [
            "Drive already mounted at /content/drive; to attempt to forcibly remount, call drive.mount(\"/content/drive\", force_remount=True).\n"
          ]
        }
      ]
    },
    {
      "cell_type": "code",
      "source": [
        "train = pd.read_csv('/content/drive/MyDrive/Neuro DIve関係/kaggleチーム用/store-sales-time-series-forecasting (1)/train.csv')\n",
        "test = pd.read_csv('/content/drive/MyDrive/Neuro DIve関係/kaggleチーム用/store-sales-time-series-forecasting (1)/test.csv')\n",
        "stores = pd.read_csv('/content/drive/MyDrive/Neuro DIve関係/kaggleチーム用/store-sales-time-series-forecasting (1)/stores.csv')\n",
        "oil = pd.read_csv('/content/drive/MyDrive/Neuro DIve関係/kaggleチーム用/store-sales-time-series-forecasting (1)/oil.csv')\n",
        "transactions = pd.read_csv('/content/drive/MyDrive/Neuro DIve関係/kaggleチーム用/store-sales-time-series-forecasting (1)/transactions.csv').sort_values([\"store_nbr\", \"date\"])\n",
        "holidays = pd.read_csv('/content/drive/MyDrive/Neuro DIve関係/kaggleチーム用/store-sales-time-series-forecasting (1)/holidays_events.csv')"
      ],
      "metadata": {
        "id": "NNS0YDG6KfSL"
      },
      "execution_count": null,
      "outputs": []
    },
    {
      "cell_type": "code",
      "source": [
        "print('train;',train.head())\n",
        "print('test;',test.head())\n",
        "print('stores;',stores.head())\n",
        "print('oil;',oil.head())\n",
        "print('transactions;',transactions.head())\n",
        "print('holidays;',holidays.head())"
      ],
      "metadata": {
        "colab": {
          "base_uri": "https://localhost:8080/"
        },
        "id": "eDYTfL1UKiZI",
        "outputId": "409a23d1-6a57-43b4-f381-9299c6675708"
      },
      "execution_count": null,
      "outputs": [
        {
          "output_type": "stream",
          "name": "stdout",
          "text": [
            "train;    id        date  store_nbr      family  sales  onpromotion\n",
            "0   0  2013-01-01          1  AUTOMOTIVE    0.0            0\n",
            "1   1  2013-01-01          1   BABY CARE    0.0            0\n",
            "2   2  2013-01-01          1      BEAUTY    0.0            0\n",
            "3   3  2013-01-01          1   BEVERAGES    0.0            0\n",
            "4   4  2013-01-01          1       BOOKS    0.0            0\n",
            "test;         id        date  store_nbr      family  onpromotion\n",
            "0  3000888  2017-08-16          1  AUTOMOTIVE            0\n",
            "1  3000889  2017-08-16          1   BABY CARE            0\n",
            "2  3000890  2017-08-16          1      BEAUTY            2\n",
            "3  3000891  2017-08-16          1   BEVERAGES           20\n",
            "4  3000892  2017-08-16          1       BOOKS            0\n",
            "stores;    store_nbr           city                           state type  cluster\n",
            "0          1          Quito                       Pichincha    D       13\n",
            "1          2          Quito                       Pichincha    D       13\n",
            "2          3          Quito                       Pichincha    D        8\n",
            "3          4          Quito                       Pichincha    D        9\n",
            "4          5  Santo Domingo  Santo Domingo de los Tsachilas    D        4\n",
            "oil;          date  dcoilwtico\n",
            "0  2013-01-01         NaN\n",
            "1  2013-01-02       93.14\n",
            "2  2013-01-03       92.97\n",
            "3  2013-01-04       93.12\n",
            "4  2013-01-07       93.20\n",
            "transactions;            date  store_nbr  transactions\n",
            "1    2013-01-02          1          2111\n",
            "47   2013-01-03          1          1833\n",
            "93   2013-01-04          1          1863\n",
            "139  2013-01-05          1          1509\n",
            "185  2013-01-06          1           520\n",
            "holidays;          date     type  ...                    description transferred\n",
            "0  2012-03-02  Holiday  ...             Fundacion de Manta       False\n",
            "1  2012-04-01  Holiday  ...  Provincializacion de Cotopaxi       False\n",
            "2  2012-04-12  Holiday  ...            Fundacion de Cuenca       False\n",
            "3  2012-04-14  Holiday  ...      Cantonizacion de Libertad       False\n",
            "4  2012-04-21  Holiday  ...      Cantonizacion de Riobamba       False\n",
            "\n",
            "[5 rows x 6 columns]\n"
          ]
        }
      ]
    },
    {
      "cell_type": "code",
      "source": [
        "m1=pd.merge(train,stores,on='store_nbr',how='left')"
      ],
      "metadata": {
        "id": "XLAz80bYQCTr"
      },
      "execution_count": null,
      "outputs": []
    },
    {
      "cell_type": "code",
      "source": [
        "m2=pd.merge(oil,holidays,on='date',how='left')"
      ],
      "metadata": {
        "id": "Wkn_GK6HSM2i"
      },
      "execution_count": null,
      "outputs": []
    },
    {
      "cell_type": "code",
      "source": [
        "m1.head()"
      ],
      "metadata": {
        "colab": {
          "base_uri": "https://localhost:8080/",
          "height": 206
        },
        "id": "5qCZfiCsSNBb",
        "outputId": "83515a32-68c3-4046-d4cf-6c476ba62f47"
      },
      "execution_count": null,
      "outputs": [
        {
          "output_type": "execute_result",
          "data": {
            "text/html": [
              "\n",
              "  <div id=\"df-11a3e135-c21f-4297-b476-b8e86a73e240\">\n",
              "    <div class=\"colab-df-container\">\n",
              "      <div>\n",
              "<style scoped>\n",
              "    .dataframe tbody tr th:only-of-type {\n",
              "        vertical-align: middle;\n",
              "    }\n",
              "\n",
              "    .dataframe tbody tr th {\n",
              "        vertical-align: top;\n",
              "    }\n",
              "\n",
              "    .dataframe thead th {\n",
              "        text-align: right;\n",
              "    }\n",
              "</style>\n",
              "<table border=\"1\" class=\"dataframe\">\n",
              "  <thead>\n",
              "    <tr style=\"text-align: right;\">\n",
              "      <th></th>\n",
              "      <th>id</th>\n",
              "      <th>date</th>\n",
              "      <th>store_nbr</th>\n",
              "      <th>family</th>\n",
              "      <th>sales</th>\n",
              "      <th>onpromotion</th>\n",
              "      <th>city</th>\n",
              "      <th>state</th>\n",
              "      <th>type</th>\n",
              "      <th>cluster</th>\n",
              "    </tr>\n",
              "  </thead>\n",
              "  <tbody>\n",
              "    <tr>\n",
              "      <th>0</th>\n",
              "      <td>0</td>\n",
              "      <td>2013-01-01</td>\n",
              "      <td>1</td>\n",
              "      <td>AUTOMOTIVE</td>\n",
              "      <td>0.0</td>\n",
              "      <td>0</td>\n",
              "      <td>Quito</td>\n",
              "      <td>Pichincha</td>\n",
              "      <td>D</td>\n",
              "      <td>13</td>\n",
              "    </tr>\n",
              "    <tr>\n",
              "      <th>1</th>\n",
              "      <td>1</td>\n",
              "      <td>2013-01-01</td>\n",
              "      <td>1</td>\n",
              "      <td>BABY CARE</td>\n",
              "      <td>0.0</td>\n",
              "      <td>0</td>\n",
              "      <td>Quito</td>\n",
              "      <td>Pichincha</td>\n",
              "      <td>D</td>\n",
              "      <td>13</td>\n",
              "    </tr>\n",
              "    <tr>\n",
              "      <th>2</th>\n",
              "      <td>2</td>\n",
              "      <td>2013-01-01</td>\n",
              "      <td>1</td>\n",
              "      <td>BEAUTY</td>\n",
              "      <td>0.0</td>\n",
              "      <td>0</td>\n",
              "      <td>Quito</td>\n",
              "      <td>Pichincha</td>\n",
              "      <td>D</td>\n",
              "      <td>13</td>\n",
              "    </tr>\n",
              "    <tr>\n",
              "      <th>3</th>\n",
              "      <td>3</td>\n",
              "      <td>2013-01-01</td>\n",
              "      <td>1</td>\n",
              "      <td>BEVERAGES</td>\n",
              "      <td>0.0</td>\n",
              "      <td>0</td>\n",
              "      <td>Quito</td>\n",
              "      <td>Pichincha</td>\n",
              "      <td>D</td>\n",
              "      <td>13</td>\n",
              "    </tr>\n",
              "    <tr>\n",
              "      <th>4</th>\n",
              "      <td>4</td>\n",
              "      <td>2013-01-01</td>\n",
              "      <td>1</td>\n",
              "      <td>BOOKS</td>\n",
              "      <td>0.0</td>\n",
              "      <td>0</td>\n",
              "      <td>Quito</td>\n",
              "      <td>Pichincha</td>\n",
              "      <td>D</td>\n",
              "      <td>13</td>\n",
              "    </tr>\n",
              "  </tbody>\n",
              "</table>\n",
              "</div>\n",
              "      <button class=\"colab-df-convert\" onclick=\"convertToInteractive('df-11a3e135-c21f-4297-b476-b8e86a73e240')\"\n",
              "              title=\"Convert this dataframe to an interactive table.\"\n",
              "              style=\"display:none;\">\n",
              "        \n",
              "  <svg xmlns=\"http://www.w3.org/2000/svg\" height=\"24px\"viewBox=\"0 0 24 24\"\n",
              "       width=\"24px\">\n",
              "    <path d=\"M0 0h24v24H0V0z\" fill=\"none\"/>\n",
              "    <path d=\"M18.56 5.44l.94 2.06.94-2.06 2.06-.94-2.06-.94-.94-2.06-.94 2.06-2.06.94zm-11 1L8.5 8.5l.94-2.06 2.06-.94-2.06-.94L8.5 2.5l-.94 2.06-2.06.94zm10 10l.94 2.06.94-2.06 2.06-.94-2.06-.94-.94-2.06-.94 2.06-2.06.94z\"/><path d=\"M17.41 7.96l-1.37-1.37c-.4-.4-.92-.59-1.43-.59-.52 0-1.04.2-1.43.59L10.3 9.45l-7.72 7.72c-.78.78-.78 2.05 0 2.83L4 21.41c.39.39.9.59 1.41.59.51 0 1.02-.2 1.41-.59l7.78-7.78 2.81-2.81c.8-.78.8-2.07 0-2.86zM5.41 20L4 18.59l7.72-7.72 1.47 1.35L5.41 20z\"/>\n",
              "  </svg>\n",
              "      </button>\n",
              "      \n",
              "  <style>\n",
              "    .colab-df-container {\n",
              "      display:flex;\n",
              "      flex-wrap:wrap;\n",
              "      gap: 12px;\n",
              "    }\n",
              "\n",
              "    .colab-df-convert {\n",
              "      background-color: #E8F0FE;\n",
              "      border: none;\n",
              "      border-radius: 50%;\n",
              "      cursor: pointer;\n",
              "      display: none;\n",
              "      fill: #1967D2;\n",
              "      height: 32px;\n",
              "      padding: 0 0 0 0;\n",
              "      width: 32px;\n",
              "    }\n",
              "\n",
              "    .colab-df-convert:hover {\n",
              "      background-color: #E2EBFA;\n",
              "      box-shadow: 0px 1px 2px rgba(60, 64, 67, 0.3), 0px 1px 3px 1px rgba(60, 64, 67, 0.15);\n",
              "      fill: #174EA6;\n",
              "    }\n",
              "\n",
              "    [theme=dark] .colab-df-convert {\n",
              "      background-color: #3B4455;\n",
              "      fill: #D2E3FC;\n",
              "    }\n",
              "\n",
              "    [theme=dark] .colab-df-convert:hover {\n",
              "      background-color: #434B5C;\n",
              "      box-shadow: 0px 1px 3px 1px rgba(0, 0, 0, 0.15);\n",
              "      filter: drop-shadow(0px 1px 2px rgba(0, 0, 0, 0.3));\n",
              "      fill: #FFFFFF;\n",
              "    }\n",
              "  </style>\n",
              "\n",
              "      <script>\n",
              "        const buttonEl =\n",
              "          document.querySelector('#df-11a3e135-c21f-4297-b476-b8e86a73e240 button.colab-df-convert');\n",
              "        buttonEl.style.display =\n",
              "          google.colab.kernel.accessAllowed ? 'block' : 'none';\n",
              "\n",
              "        async function convertToInteractive(key) {\n",
              "          const element = document.querySelector('#df-11a3e135-c21f-4297-b476-b8e86a73e240');\n",
              "          const dataTable =\n",
              "            await google.colab.kernel.invokeFunction('convertToInteractive',\n",
              "                                                     [key], {});\n",
              "          if (!dataTable) return;\n",
              "\n",
              "          const docLinkHtml = 'Like what you see? Visit the ' +\n",
              "            '<a target=\"_blank\" href=https://colab.research.google.com/notebooks/data_table.ipynb>data table notebook</a>'\n",
              "            + ' to learn more about interactive tables.';\n",
              "          element.innerHTML = '';\n",
              "          dataTable['output_type'] = 'display_data';\n",
              "          await google.colab.output.renderOutput(dataTable, element);\n",
              "          const docLink = document.createElement('div');\n",
              "          docLink.innerHTML = docLinkHtml;\n",
              "          element.appendChild(docLink);\n",
              "        }\n",
              "      </script>\n",
              "    </div>\n",
              "  </div>\n",
              "  "
            ],
            "text/plain": [
              "   id        date  store_nbr      family  ...   city      state type cluster\n",
              "0   0  2013-01-01          1  AUTOMOTIVE  ...  Quito  Pichincha    D      13\n",
              "1   1  2013-01-01          1   BABY CARE  ...  Quito  Pichincha    D      13\n",
              "2   2  2013-01-01          1      BEAUTY  ...  Quito  Pichincha    D      13\n",
              "3   3  2013-01-01          1   BEVERAGES  ...  Quito  Pichincha    D      13\n",
              "4   4  2013-01-01          1       BOOKS  ...  Quito  Pichincha    D      13\n",
              "\n",
              "[5 rows x 10 columns]"
            ]
          },
          "metadata": {},
          "execution_count": 7
        }
      ]
    },
    {
      "cell_type": "code",
      "source": [
        "m1=pd.merge(holidays,oil)\n",
        "m2=pd.merge(train,stores)\n",
        "m3=pd.merge(m2,transactions)\n",
        "df=pd.merge(m3,m1,on=\"date\")"
      ],
      "metadata": {
        "id": "gWzHGEEpSmty"
      },
      "execution_count": null,
      "outputs": []
    },
    {
      "cell_type": "code",
      "source": [
        "df.head()"
      ],
      "metadata": {
        "colab": {
          "base_uri": "https://localhost:8080/",
          "height": 357
        },
        "id": "TAGRv4a_R4vh",
        "outputId": "cb89eeba-b880-403a-b090-a8a939d79298"
      },
      "execution_count": null,
      "outputs": [
        {
          "output_type": "execute_result",
          "data": {
            "text/html": [
              "\n",
              "  <div id=\"df-3fc8b96a-facc-49e2-85f2-974166de9422\">\n",
              "    <div class=\"colab-df-container\">\n",
              "      <div>\n",
              "<style scoped>\n",
              "    .dataframe tbody tr th:only-of-type {\n",
              "        vertical-align: middle;\n",
              "    }\n",
              "\n",
              "    .dataframe tbody tr th {\n",
              "        vertical-align: top;\n",
              "    }\n",
              "\n",
              "    .dataframe thead th {\n",
              "        text-align: right;\n",
              "    }\n",
              "</style>\n",
              "<table border=\"1\" class=\"dataframe\">\n",
              "  <thead>\n",
              "    <tr style=\"text-align: right;\">\n",
              "      <th></th>\n",
              "      <th>id</th>\n",
              "      <th>date</th>\n",
              "      <th>store_nbr</th>\n",
              "      <th>family</th>\n",
              "      <th>sales</th>\n",
              "      <th>onpromotion</th>\n",
              "      <th>city</th>\n",
              "      <th>state</th>\n",
              "      <th>type_x</th>\n",
              "      <th>cluster</th>\n",
              "      <th>transactions</th>\n",
              "      <th>type_y</th>\n",
              "      <th>locale</th>\n",
              "      <th>locale_name</th>\n",
              "      <th>description</th>\n",
              "      <th>transferred</th>\n",
              "      <th>dcoilwtico</th>\n",
              "    </tr>\n",
              "  </thead>\n",
              "  <tbody>\n",
              "    <tr>\n",
              "      <th>0</th>\n",
              "      <td>73062</td>\n",
              "      <td>2013-02-11</td>\n",
              "      <td>1</td>\n",
              "      <td>AUTOMOTIVE</td>\n",
              "      <td>0.0</td>\n",
              "      <td>0</td>\n",
              "      <td>Quito</td>\n",
              "      <td>Pichincha</td>\n",
              "      <td>D</td>\n",
              "      <td>13</td>\n",
              "      <td>396</td>\n",
              "      <td>Holiday</td>\n",
              "      <td>National</td>\n",
              "      <td>Ecuador</td>\n",
              "      <td>Carnaval</td>\n",
              "      <td>False</td>\n",
              "      <td>97.01</td>\n",
              "    </tr>\n",
              "    <tr>\n",
              "      <th>1</th>\n",
              "      <td>73063</td>\n",
              "      <td>2013-02-11</td>\n",
              "      <td>1</td>\n",
              "      <td>BABY CARE</td>\n",
              "      <td>0.0</td>\n",
              "      <td>0</td>\n",
              "      <td>Quito</td>\n",
              "      <td>Pichincha</td>\n",
              "      <td>D</td>\n",
              "      <td>13</td>\n",
              "      <td>396</td>\n",
              "      <td>Holiday</td>\n",
              "      <td>National</td>\n",
              "      <td>Ecuador</td>\n",
              "      <td>Carnaval</td>\n",
              "      <td>False</td>\n",
              "      <td>97.01</td>\n",
              "    </tr>\n",
              "    <tr>\n",
              "      <th>2</th>\n",
              "      <td>73064</td>\n",
              "      <td>2013-02-11</td>\n",
              "      <td>1</td>\n",
              "      <td>BEAUTY</td>\n",
              "      <td>0.0</td>\n",
              "      <td>0</td>\n",
              "      <td>Quito</td>\n",
              "      <td>Pichincha</td>\n",
              "      <td>D</td>\n",
              "      <td>13</td>\n",
              "      <td>396</td>\n",
              "      <td>Holiday</td>\n",
              "      <td>National</td>\n",
              "      <td>Ecuador</td>\n",
              "      <td>Carnaval</td>\n",
              "      <td>False</td>\n",
              "      <td>97.01</td>\n",
              "    </tr>\n",
              "    <tr>\n",
              "      <th>3</th>\n",
              "      <td>73065</td>\n",
              "      <td>2013-02-11</td>\n",
              "      <td>1</td>\n",
              "      <td>BEVERAGES</td>\n",
              "      <td>172.0</td>\n",
              "      <td>0</td>\n",
              "      <td>Quito</td>\n",
              "      <td>Pichincha</td>\n",
              "      <td>D</td>\n",
              "      <td>13</td>\n",
              "      <td>396</td>\n",
              "      <td>Holiday</td>\n",
              "      <td>National</td>\n",
              "      <td>Ecuador</td>\n",
              "      <td>Carnaval</td>\n",
              "      <td>False</td>\n",
              "      <td>97.01</td>\n",
              "    </tr>\n",
              "    <tr>\n",
              "      <th>4</th>\n",
              "      <td>73066</td>\n",
              "      <td>2013-02-11</td>\n",
              "      <td>1</td>\n",
              "      <td>BOOKS</td>\n",
              "      <td>0.0</td>\n",
              "      <td>0</td>\n",
              "      <td>Quito</td>\n",
              "      <td>Pichincha</td>\n",
              "      <td>D</td>\n",
              "      <td>13</td>\n",
              "      <td>396</td>\n",
              "      <td>Holiday</td>\n",
              "      <td>National</td>\n",
              "      <td>Ecuador</td>\n",
              "      <td>Carnaval</td>\n",
              "      <td>False</td>\n",
              "      <td>97.01</td>\n",
              "    </tr>\n",
              "  </tbody>\n",
              "</table>\n",
              "</div>\n",
              "      <button class=\"colab-df-convert\" onclick=\"convertToInteractive('df-3fc8b96a-facc-49e2-85f2-974166de9422')\"\n",
              "              title=\"Convert this dataframe to an interactive table.\"\n",
              "              style=\"display:none;\">\n",
              "        \n",
              "  <svg xmlns=\"http://www.w3.org/2000/svg\" height=\"24px\"viewBox=\"0 0 24 24\"\n",
              "       width=\"24px\">\n",
              "    <path d=\"M0 0h24v24H0V0z\" fill=\"none\"/>\n",
              "    <path d=\"M18.56 5.44l.94 2.06.94-2.06 2.06-.94-2.06-.94-.94-2.06-.94 2.06-2.06.94zm-11 1L8.5 8.5l.94-2.06 2.06-.94-2.06-.94L8.5 2.5l-.94 2.06-2.06.94zm10 10l.94 2.06.94-2.06 2.06-.94-2.06-.94-.94-2.06-.94 2.06-2.06.94z\"/><path d=\"M17.41 7.96l-1.37-1.37c-.4-.4-.92-.59-1.43-.59-.52 0-1.04.2-1.43.59L10.3 9.45l-7.72 7.72c-.78.78-.78 2.05 0 2.83L4 21.41c.39.39.9.59 1.41.59.51 0 1.02-.2 1.41-.59l7.78-7.78 2.81-2.81c.8-.78.8-2.07 0-2.86zM5.41 20L4 18.59l7.72-7.72 1.47 1.35L5.41 20z\"/>\n",
              "  </svg>\n",
              "      </button>\n",
              "      \n",
              "  <style>\n",
              "    .colab-df-container {\n",
              "      display:flex;\n",
              "      flex-wrap:wrap;\n",
              "      gap: 12px;\n",
              "    }\n",
              "\n",
              "    .colab-df-convert {\n",
              "      background-color: #E8F0FE;\n",
              "      border: none;\n",
              "      border-radius: 50%;\n",
              "      cursor: pointer;\n",
              "      display: none;\n",
              "      fill: #1967D2;\n",
              "      height: 32px;\n",
              "      padding: 0 0 0 0;\n",
              "      width: 32px;\n",
              "    }\n",
              "\n",
              "    .colab-df-convert:hover {\n",
              "      background-color: #E2EBFA;\n",
              "      box-shadow: 0px 1px 2px rgba(60, 64, 67, 0.3), 0px 1px 3px 1px rgba(60, 64, 67, 0.15);\n",
              "      fill: #174EA6;\n",
              "    }\n",
              "\n",
              "    [theme=dark] .colab-df-convert {\n",
              "      background-color: #3B4455;\n",
              "      fill: #D2E3FC;\n",
              "    }\n",
              "\n",
              "    [theme=dark] .colab-df-convert:hover {\n",
              "      background-color: #434B5C;\n",
              "      box-shadow: 0px 1px 3px 1px rgba(0, 0, 0, 0.15);\n",
              "      filter: drop-shadow(0px 1px 2px rgba(0, 0, 0, 0.3));\n",
              "      fill: #FFFFFF;\n",
              "    }\n",
              "  </style>\n",
              "\n",
              "      <script>\n",
              "        const buttonEl =\n",
              "          document.querySelector('#df-3fc8b96a-facc-49e2-85f2-974166de9422 button.colab-df-convert');\n",
              "        buttonEl.style.display =\n",
              "          google.colab.kernel.accessAllowed ? 'block' : 'none';\n",
              "\n",
              "        async function convertToInteractive(key) {\n",
              "          const element = document.querySelector('#df-3fc8b96a-facc-49e2-85f2-974166de9422');\n",
              "          const dataTable =\n",
              "            await google.colab.kernel.invokeFunction('convertToInteractive',\n",
              "                                                     [key], {});\n",
              "          if (!dataTable) return;\n",
              "\n",
              "          const docLinkHtml = 'Like what you see? Visit the ' +\n",
              "            '<a target=\"_blank\" href=https://colab.research.google.com/notebooks/data_table.ipynb>data table notebook</a>'\n",
              "            + ' to learn more about interactive tables.';\n",
              "          element.innerHTML = '';\n",
              "          dataTable['output_type'] = 'display_data';\n",
              "          await google.colab.output.renderOutput(dataTable, element);\n",
              "          const docLink = document.createElement('div');\n",
              "          docLink.innerHTML = docLinkHtml;\n",
              "          element.appendChild(docLink);\n",
              "        }\n",
              "      </script>\n",
              "    </div>\n",
              "  </div>\n",
              "  "
            ],
            "text/plain": [
              "      id        date  store_nbr  ... description  transferred  dcoilwtico\n",
              "0  73062  2013-02-11          1  ...    Carnaval        False       97.01\n",
              "1  73063  2013-02-11          1  ...    Carnaval        False       97.01\n",
              "2  73064  2013-02-11          1  ...    Carnaval        False       97.01\n",
              "3  73065  2013-02-11          1  ...    Carnaval        False       97.01\n",
              "4  73066  2013-02-11          1  ...    Carnaval        False       97.01\n",
              "\n",
              "[5 rows x 17 columns]"
            ]
          },
          "metadata": {},
          "execution_count": 9
        }
      ]
    },
    {
      "cell_type": "code",
      "source": [
        "df.isnull().sum()"
      ],
      "metadata": {
        "colab": {
          "base_uri": "https://localhost:8080/"
        },
        "id": "AUgC1BQTUbtn",
        "outputId": "a7a7ad19-561f-4e77-fcec-ef0e9346ea02"
      },
      "execution_count": null,
      "outputs": [
        {
          "output_type": "execute_result",
          "data": {
            "text/plain": [
              "id                  0\n",
              "date                0\n",
              "store_nbr           0\n",
              "family              0\n",
              "sales               0\n",
              "onpromotion         0\n",
              "city                0\n",
              "state               0\n",
              "type_x              0\n",
              "cluster             0\n",
              "transactions        0\n",
              "type_y              0\n",
              "locale              0\n",
              "locale_name         0\n",
              "description         0\n",
              "transferred         0\n",
              "dcoilwtico      22044\n",
              "dtype: int64"
            ]
          },
          "metadata": {},
          "execution_count": 10
        }
      ]
    },
    {
      "cell_type": "code",
      "source": [
        "df['dcoilwtico'].value_counts()"
      ],
      "metadata": {
        "colab": {
          "base_uri": "https://localhost:8080/"
        },
        "id": "gjihKmKaUbvq",
        "outputId": "8f504704-e077-419a-dd99-5fe8cbc57c57"
      },
      "execution_count": null,
      "outputs": [
        {
          "output_type": "execute_result",
          "data": {
            "text/plain": [
              "107.04    6204\n",
              "59.59     4950\n",
              "95.25     4653\n",
              "46.21     3531\n",
              "36.12     3498\n",
              "          ... \n",
              "90.74     1518\n",
              "94.09     1518\n",
              "91.23     1518\n",
              "97.10     1518\n",
              "97.01     1518\n",
              "Name: dcoilwtico, Length: 163, dtype: int64"
            ]
          },
          "metadata": {},
          "execution_count": 11
        }
      ]
    },
    {
      "cell_type": "code",
      "source": [
        "df['dcoilwtico'].describe()"
      ],
      "metadata": {
        "colab": {
          "base_uri": "https://localhost:8080/"
        },
        "id": "q7ki9KLCUbxm",
        "outputId": "e6a710c2-2cab-4595-8374-878b499a104d"
      },
      "execution_count": null,
      "outputs": [
        {
          "output_type": "execute_result",
          "data": {
            "text/plain": [
              "count    300003.000000\n",
              "mean         64.077912\n",
              "std          25.147682\n",
              "min          27.960000\n",
              "25%          44.660000\n",
              "50%          51.440000\n",
              "75%          94.740000\n",
              "max         107.950000\n",
              "Name: dcoilwtico, dtype: float64"
            ]
          },
          "metadata": {},
          "execution_count": 12
        }
      ]
    },
    {
      "cell_type": "code",
      "source": [
        "df['dcoilwtico'].fillna(df['dcoilwtico'].mean(),inplace=True)"
      ],
      "metadata": {
        "id": "X_1J7yt8Ubzh"
      },
      "execution_count": null,
      "outputs": []
    },
    {
      "cell_type": "code",
      "source": [
        "df.isnull().sum()"
      ],
      "metadata": {
        "colab": {
          "base_uri": "https://localhost:8080/"
        },
        "id": "iyIiPwrYVWtV",
        "outputId": "34ce3f84-e23e-41fe-c3fd-8d8b7437fbbc"
      },
      "execution_count": null,
      "outputs": [
        {
          "output_type": "execute_result",
          "data": {
            "text/plain": [
              "id              0\n",
              "date            0\n",
              "store_nbr       0\n",
              "family          0\n",
              "sales           0\n",
              "onpromotion     0\n",
              "city            0\n",
              "state           0\n",
              "type_x          0\n",
              "cluster         0\n",
              "transactions    0\n",
              "type_y          0\n",
              "locale          0\n",
              "locale_name     0\n",
              "description     0\n",
              "transferred     0\n",
              "dcoilwtico      0\n",
              "dtype: int64"
            ]
          },
          "metadata": {},
          "execution_count": 14
        }
      ]
    },
    {
      "cell_type": "code",
      "source": [
        "df.dtypes"
      ],
      "metadata": {
        "colab": {
          "base_uri": "https://localhost:8080/"
        },
        "id": "A1TMBYD8Va9O",
        "outputId": "a91fe957-2f47-4e8f-cc4e-830e13c8709a"
      },
      "execution_count": null,
      "outputs": [
        {
          "output_type": "execute_result",
          "data": {
            "text/plain": [
              "id                int64\n",
              "date             object\n",
              "store_nbr         int64\n",
              "family           object\n",
              "sales           float64\n",
              "onpromotion       int64\n",
              "city             object\n",
              "state            object\n",
              "type_x           object\n",
              "cluster           int64\n",
              "transactions      int64\n",
              "type_y           object\n",
              "locale           object\n",
              "locale_name      object\n",
              "description      object\n",
              "transferred        bool\n",
              "dcoilwtico      float64\n",
              "dtype: object"
            ]
          },
          "metadata": {},
          "execution_count": 15
        }
      ]
    },
    {
      "cell_type": "code",
      "source": [
        "df.describe()"
      ],
      "metadata": {
        "colab": {
          "base_uri": "https://localhost:8080/",
          "height": 364
        },
        "id": "tA21BpYuVpjl",
        "outputId": "db6b0e43-48a6-46c0-e046-b4030873048e"
      },
      "execution_count": null,
      "outputs": [
        {
          "output_type": "execute_result",
          "data": {
            "text/html": [
              "\n",
              "  <div id=\"df-8f9b3a6c-81af-4160-b124-112993233b40\">\n",
              "    <div class=\"colab-df-container\">\n",
              "      <div>\n",
              "<style scoped>\n",
              "    .dataframe tbody tr th:only-of-type {\n",
              "        vertical-align: middle;\n",
              "    }\n",
              "\n",
              "    .dataframe tbody tr th {\n",
              "        vertical-align: top;\n",
              "    }\n",
              "\n",
              "    .dataframe thead th {\n",
              "        text-align: right;\n",
              "    }\n",
              "</style>\n",
              "<table border=\"1\" class=\"dataframe\">\n",
              "  <thead>\n",
              "    <tr style=\"text-align: right;\">\n",
              "      <th></th>\n",
              "      <th>id</th>\n",
              "      <th>store_nbr</th>\n",
              "      <th>sales</th>\n",
              "      <th>onpromotion</th>\n",
              "      <th>cluster</th>\n",
              "      <th>transactions</th>\n",
              "      <th>dcoilwtico</th>\n",
              "    </tr>\n",
              "  </thead>\n",
              "  <tbody>\n",
              "    <tr>\n",
              "      <th>count</th>\n",
              "      <td>3.220470e+05</td>\n",
              "      <td>322047.000000</td>\n",
              "      <td>322047.000000</td>\n",
              "      <td>322047.000000</td>\n",
              "      <td>322047.000000</td>\n",
              "      <td>322047.000000</td>\n",
              "      <td>322047.000000</td>\n",
              "    </tr>\n",
              "    <tr>\n",
              "      <th>mean</th>\n",
              "      <td>1.682979e+06</td>\n",
              "      <td>26.994672</td>\n",
              "      <td>406.383452</td>\n",
              "      <td>3.727136</td>\n",
              "      <td>8.531202</td>\n",
              "      <td>1734.117840</td>\n",
              "      <td>64.077912</td>\n",
              "    </tr>\n",
              "    <tr>\n",
              "      <th>std</th>\n",
              "      <td>7.862493e+05</td>\n",
              "      <td>15.595174</td>\n",
              "      <td>1246.881240</td>\n",
              "      <td>15.512095</td>\n",
              "      <td>4.713809</td>\n",
              "      <td>1050.335018</td>\n",
              "      <td>24.271750</td>\n",
              "    </tr>\n",
              "    <tr>\n",
              "      <th>min</th>\n",
              "      <td>5.610000e+02</td>\n",
              "      <td>1.000000</td>\n",
              "      <td>0.000000</td>\n",
              "      <td>0.000000</td>\n",
              "      <td>1.000000</td>\n",
              "      <td>54.000000</td>\n",
              "      <td>27.960000</td>\n",
              "    </tr>\n",
              "    <tr>\n",
              "      <th>25%</th>\n",
              "      <td>1.010616e+06</td>\n",
              "      <td>13.000000</td>\n",
              "      <td>1.000000</td>\n",
              "      <td>0.000000</td>\n",
              "      <td>4.000000</td>\n",
              "      <td>1030.000000</td>\n",
              "      <td>44.940000</td>\n",
              "    </tr>\n",
              "    <tr>\n",
              "      <th>50%</th>\n",
              "      <td>1.842406e+06</td>\n",
              "      <td>27.000000</td>\n",
              "      <td>19.000000</td>\n",
              "      <td>0.000000</td>\n",
              "      <td>9.000000</td>\n",
              "      <td>1409.000000</td>\n",
              "      <td>52.720000</td>\n",
              "    </tr>\n",
              "    <tr>\n",
              "      <th>75%</th>\n",
              "      <td>2.209556e+06</td>\n",
              "      <td>40.000000</td>\n",
              "      <td>241.260505</td>\n",
              "      <td>1.000000</td>\n",
              "      <td>13.000000</td>\n",
              "      <td>2148.000000</td>\n",
              "      <td>93.120000</td>\n",
              "    </tr>\n",
              "    <tr>\n",
              "      <th>max</th>\n",
              "      <td>3.000887e+06</td>\n",
              "      <td>54.000000</td>\n",
              "      <td>124717.000000</td>\n",
              "      <td>716.000000</td>\n",
              "      <td>17.000000</td>\n",
              "      <td>8359.000000</td>\n",
              "      <td>107.950000</td>\n",
              "    </tr>\n",
              "  </tbody>\n",
              "</table>\n",
              "</div>\n",
              "      <button class=\"colab-df-convert\" onclick=\"convertToInteractive('df-8f9b3a6c-81af-4160-b124-112993233b40')\"\n",
              "              title=\"Convert this dataframe to an interactive table.\"\n",
              "              style=\"display:none;\">\n",
              "        \n",
              "  <svg xmlns=\"http://www.w3.org/2000/svg\" height=\"24px\"viewBox=\"0 0 24 24\"\n",
              "       width=\"24px\">\n",
              "    <path d=\"M0 0h24v24H0V0z\" fill=\"none\"/>\n",
              "    <path d=\"M18.56 5.44l.94 2.06.94-2.06 2.06-.94-2.06-.94-.94-2.06-.94 2.06-2.06.94zm-11 1L8.5 8.5l.94-2.06 2.06-.94-2.06-.94L8.5 2.5l-.94 2.06-2.06.94zm10 10l.94 2.06.94-2.06 2.06-.94-2.06-.94-.94-2.06-.94 2.06-2.06.94z\"/><path d=\"M17.41 7.96l-1.37-1.37c-.4-.4-.92-.59-1.43-.59-.52 0-1.04.2-1.43.59L10.3 9.45l-7.72 7.72c-.78.78-.78 2.05 0 2.83L4 21.41c.39.39.9.59 1.41.59.51 0 1.02-.2 1.41-.59l7.78-7.78 2.81-2.81c.8-.78.8-2.07 0-2.86zM5.41 20L4 18.59l7.72-7.72 1.47 1.35L5.41 20z\"/>\n",
              "  </svg>\n",
              "      </button>\n",
              "      \n",
              "  <style>\n",
              "    .colab-df-container {\n",
              "      display:flex;\n",
              "      flex-wrap:wrap;\n",
              "      gap: 12px;\n",
              "    }\n",
              "\n",
              "    .colab-df-convert {\n",
              "      background-color: #E8F0FE;\n",
              "      border: none;\n",
              "      border-radius: 50%;\n",
              "      cursor: pointer;\n",
              "      display: none;\n",
              "      fill: #1967D2;\n",
              "      height: 32px;\n",
              "      padding: 0 0 0 0;\n",
              "      width: 32px;\n",
              "    }\n",
              "\n",
              "    .colab-df-convert:hover {\n",
              "      background-color: #E2EBFA;\n",
              "      box-shadow: 0px 1px 2px rgba(60, 64, 67, 0.3), 0px 1px 3px 1px rgba(60, 64, 67, 0.15);\n",
              "      fill: #174EA6;\n",
              "    }\n",
              "\n",
              "    [theme=dark] .colab-df-convert {\n",
              "      background-color: #3B4455;\n",
              "      fill: #D2E3FC;\n",
              "    }\n",
              "\n",
              "    [theme=dark] .colab-df-convert:hover {\n",
              "      background-color: #434B5C;\n",
              "      box-shadow: 0px 1px 3px 1px rgba(0, 0, 0, 0.15);\n",
              "      filter: drop-shadow(0px 1px 2px rgba(0, 0, 0, 0.3));\n",
              "      fill: #FFFFFF;\n",
              "    }\n",
              "  </style>\n",
              "\n",
              "      <script>\n",
              "        const buttonEl =\n",
              "          document.querySelector('#df-8f9b3a6c-81af-4160-b124-112993233b40 button.colab-df-convert');\n",
              "        buttonEl.style.display =\n",
              "          google.colab.kernel.accessAllowed ? 'block' : 'none';\n",
              "\n",
              "        async function convertToInteractive(key) {\n",
              "          const element = document.querySelector('#df-8f9b3a6c-81af-4160-b124-112993233b40');\n",
              "          const dataTable =\n",
              "            await google.colab.kernel.invokeFunction('convertToInteractive',\n",
              "                                                     [key], {});\n",
              "          if (!dataTable) return;\n",
              "\n",
              "          const docLinkHtml = 'Like what you see? Visit the ' +\n",
              "            '<a target=\"_blank\" href=https://colab.research.google.com/notebooks/data_table.ipynb>data table notebook</a>'\n",
              "            + ' to learn more about interactive tables.';\n",
              "          element.innerHTML = '';\n",
              "          dataTable['output_type'] = 'display_data';\n",
              "          await google.colab.output.renderOutput(dataTable, element);\n",
              "          const docLink = document.createElement('div');\n",
              "          docLink.innerHTML = docLinkHtml;\n",
              "          element.appendChild(docLink);\n",
              "        }\n",
              "      </script>\n",
              "    </div>\n",
              "  </div>\n",
              "  "
            ],
            "text/plain": [
              "                 id      store_nbr  ...   transactions     dcoilwtico\n",
              "count  3.220470e+05  322047.000000  ...  322047.000000  322047.000000\n",
              "mean   1.682979e+06      26.994672  ...    1734.117840      64.077912\n",
              "std    7.862493e+05      15.595174  ...    1050.335018      24.271750\n",
              "min    5.610000e+02       1.000000  ...      54.000000      27.960000\n",
              "25%    1.010616e+06      13.000000  ...    1030.000000      44.940000\n",
              "50%    1.842406e+06      27.000000  ...    1409.000000      52.720000\n",
              "75%    2.209556e+06      40.000000  ...    2148.000000      93.120000\n",
              "max    3.000887e+06      54.000000  ...    8359.000000     107.950000\n",
              "\n",
              "[8 rows x 7 columns]"
            ]
          },
          "metadata": {},
          "execution_count": 16
        }
      ]
    },
    {
      "cell_type": "code",
      "source": [
        "df['date']=pd.to_datetime(df['date'])"
      ],
      "metadata": {
        "id": "2kbXotpvVtwW"
      },
      "execution_count": null,
      "outputs": []
    },
    {
      "cell_type": "code",
      "source": [
        "df.dtypes"
      ],
      "metadata": {
        "colab": {
          "base_uri": "https://localhost:8080/"
        },
        "id": "CnqMY2wLV0Am",
        "outputId": "d57c4c99-997f-4ea9-f93a-81f43d6c5a83"
      },
      "execution_count": null,
      "outputs": [
        {
          "output_type": "execute_result",
          "data": {
            "text/plain": [
              "id                       int64\n",
              "date            datetime64[ns]\n",
              "store_nbr                int64\n",
              "family                  object\n",
              "sales                  float64\n",
              "onpromotion              int64\n",
              "city                    object\n",
              "state                   object\n",
              "type_x                  object\n",
              "cluster                  int64\n",
              "transactions             int64\n",
              "type_y                  object\n",
              "locale                  object\n",
              "locale_name             object\n",
              "description             object\n",
              "transferred               bool\n",
              "dcoilwtico             float64\n",
              "dtype: object"
            ]
          },
          "metadata": {},
          "execution_count": 18
        }
      ]
    },
    {
      "cell_type": "code",
      "source": [
        "import datetime "
      ],
      "metadata": {
        "id": "LhjBUkQ_YKlD"
      },
      "execution_count": null,
      "outputs": []
    },
    {
      "cell_type": "code",
      "source": [
        "df['year']=df['date'].dt.year\n",
        "df['month']=df['date'].dt.month\n",
        "df['day']=df['date'].dt.day\n",
        "df['dayofweek']=df['date'].dt.dayofweek"
      ],
      "metadata": {
        "id": "R_wEytf5V1cV"
      },
      "execution_count": null,
      "outputs": []
    },
    {
      "cell_type": "code",
      "source": [
        "df.dtypes"
      ],
      "metadata": {
        "colab": {
          "base_uri": "https://localhost:8080/"
        },
        "id": "UZ0peNn7YfT2",
        "outputId": "dd5efa6b-73ad-4d65-c1e5-ab735511e92c"
      },
      "execution_count": null,
      "outputs": [
        {
          "output_type": "execute_result",
          "data": {
            "text/plain": [
              "id                       int64\n",
              "date            datetime64[ns]\n",
              "store_nbr                int64\n",
              "family                  object\n",
              "sales                  float64\n",
              "onpromotion              int64\n",
              "city                    object\n",
              "state                   object\n",
              "type_x                  object\n",
              "cluster                  int64\n",
              "transactions             int64\n",
              "type_y                  object\n",
              "locale                  object\n",
              "locale_name             object\n",
              "description             object\n",
              "transferred               bool\n",
              "dcoilwtico             float64\n",
              "year                     int64\n",
              "month                    int64\n",
              "day                      int64\n",
              "dayofweek                int64\n",
              "dtype: object"
            ]
          },
          "metadata": {},
          "execution_count": 21
        }
      ]
    },
    {
      "cell_type": "code",
      "source": [
        "import seaborn as sns\n",
        "import matplotlib.pyplot as plt"
      ],
      "metadata": {
        "id": "WXrRi8wUY8fD"
      },
      "execution_count": null,
      "outputs": []
    },
    {
      "cell_type": "code",
      "source": [
        "sns.lineplot(x='date',y='sales',data=df,estimator='mean')\n",
        "plt.show()"
      ],
      "metadata": {
        "colab": {
          "base_uri": "https://localhost:8080/",
          "height": 279
        },
        "id": "jhIjLucjZFdq",
        "outputId": "83df1d44-4118-49c2-edf0-e3dedec57679"
      },
      "execution_count": null,
      "outputs": [
        {
          "output_type": "display_data",
          "data": {
            "image/png": "[encoded data removed]",
            "text/plain": [
              "<Figure size 432x288 with 1 Axes>"
            ]
          },
          "metadata": {
            "needs_background": "light"
          }
        }
      ]
    },
    {
      "cell_type": "markdown",
      "source": [
        "dateが増えるにつれて、salesも増えている"
      ],
      "metadata": {
        "id": "XagoByeLZgg8"
      }
    },
    {
      "cell_type": "code",
      "source": [
        "f,ax=plt.subplots(1,2,figsize=(25,15))\n",
        "sns.lineplot(x='year',y='sales',data=df,estimator='mean',ax=ax[0])\n",
        "sns.lineplot(x='month',y='sales',data=df,estimator='mean',ax=ax[1])"
      ],
      "metadata": {
        "colab": {
          "base_uri": "https://localhost:8080/",
          "height": 526
        },
        "id": "VAxuYTnfZTUL",
        "outputId": "23a833ea-d630-47c8-faf0-842ff974ede5"
      },
      "execution_count": null,
      "outputs": [
        {
          "output_type": "execute_result",
          "data": {
            "text/plain": [
              "<matplotlib.axes._subplots.AxesSubplot at 0x7f82e83cc110>"
            ]
          },
          "metadata": {},
          "execution_count": 24
        },
        {
          "output_type": "display_data",
          "data": {
            "image/png": "[encoded data removed]",
            "text/plain": [
              "<Figure size 1800x1080 with 2 Axes>"
            ]
          },
          "metadata": {
            "needs_background": "light"
          }
        }
      ]
    },
    {
      "cell_type": "markdown",
      "source": [
        "年単位では、毎年salesが上がっている\n",
        "月単位では、12月と1月など、年末年始に高いが、2月と6月に急激に下がることが分かる。"
      ],
      "metadata": {
        "id": "OIh9-8pDaxWA"
      }
    },
    {
      "cell_type": "code",
      "source": [
        "df['family'].unique()"
      ],
      "metadata": {
        "colab": {
          "base_uri": "https://localhost:8080/"
        },
        "id": "lr85Ujl_ZxPj",
        "outputId": "cdd77e44-2a61-47c3-e26c-21259c34d230"
      },
      "execution_count": null,
      "outputs": [
        {
          "output_type": "execute_result",
          "data": {
            "text/plain": [
              "array(['AUTOMOTIVE', 'BABY CARE', 'BEAUTY', 'BEVERAGES', 'BOOKS',\n",
              "       'BREAD/BAKERY', 'CELEBRATION', 'CLEANING', 'DAIRY', 'DELI', 'EGGS',\n",
              "       'FROZEN FOODS', 'GROCERY I', 'GROCERY II', 'HARDWARE',\n",
              "       'HOME AND KITCHEN I', 'HOME AND KITCHEN II', 'HOME APPLIANCES',\n",
              "       'HOME CARE', 'LADIESWEAR', 'LAWN AND GARDEN', 'LINGERIE',\n",
              "       'LIQUOR,WINE,BEER', 'MAGAZINES', 'MEATS', 'PERSONAL CARE',\n",
              "       'PET SUPPLIES', 'PLAYERS AND ELECTRONICS', 'POULTRY',\n",
              "       'PREPARED FOODS', 'PRODUCE', 'SCHOOL AND OFFICE SUPPLIES',\n",
              "       'SEAFOOD'], dtype=object)"
            ]
          },
          "metadata": {},
          "execution_count": 25
        }
      ]
    },
    {
      "cell_type": "code",
      "source": [
        "d=df.groupby('family')['sales'].mean().sort_values(ascending=False)"
      ],
      "metadata": {
        "id": "F2Rre_4-aWrC"
      },
      "execution_count": null,
      "outputs": []
    },
    {
      "cell_type": "code",
      "source": [
        "type(d)"
      ],
      "metadata": {
        "colab": {
          "base_uri": "https://localhost:8080/"
        },
        "id": "HPE_EIrXcL83",
        "outputId": "72fd11df-df3f-477d-ea62-daee3abcff3a"
      },
      "execution_count": null,
      "outputs": [
        {
          "output_type": "execute_result",
          "data": {
            "text/plain": [
              "pandas.core.series.Series"
            ]
          },
          "metadata": {},
          "execution_count": 27
        }
      ]
    },
    {
      "cell_type": "code",
      "source": [
        "d=pd.DataFrame(d)\n",
        "print(d)"
      ],
      "metadata": {
        "colab": {
          "base_uri": "https://localhost:8080/"
        },
        "id": "_OyIn68_cN2-",
        "outputId": "7f535747-e3d1-4a64-cf71-878ecd1e4fd4"
      },
      "execution_count": null,
      "outputs": [
        {
          "output_type": "stream",
          "name": "stdout",
          "text": [
            "                                  sales\n",
            "family                                 \n",
            "GROCERY I                   4301.025262\n",
            "BEVERAGES                   2670.760324\n",
            "PRODUCE                     1648.232187\n",
            "CLEANING                    1146.483144\n",
            "DAIRY                        768.193770\n",
            "BREAD/BAKERY                 477.391889\n",
            "POULTRY                      390.903089\n",
            "MEATS                        376.115072\n",
            "PERSONAL CARE                294.060355\n",
            "DELI                         283.041453\n",
            "FROZEN FOODS                 272.382093\n",
            "HOME CARE                    211.202787\n",
            "EGGS                         182.421355\n",
            "LIQUOR,WINE,BEER             126.858387\n",
            "PREPARED FOODS               101.983938\n",
            "GROCERY II                    26.342556\n",
            "HOME AND KITCHEN I            26.237319\n",
            "SEAFOOD                       22.750368\n",
            "HOME AND KITCHEN II           19.404652\n",
            "CELEBRATION                   10.604160\n",
            "PLAYERS AND ELECTRONICS        8.076955\n",
            "LADIESWEAR                     7.771083\n",
            "LINGERIE                       7.584486\n",
            "AUTOMOTIVE                     6.558151\n",
            "LAWN AND GARDEN                6.447587\n",
            "PET SUPPLIES                   4.706220\n",
            "BEAUTY                         4.077877\n",
            "MAGAZINES                      3.770878\n",
            "SCHOOL AND OFFICE SUPPLIES     3.352598\n",
            "HARDWARE                       1.226355\n",
            "HOME APPLIANCES                0.469618\n",
            "BABY CARE                      0.128702\n",
            "BOOKS                          0.089251\n"
          ]
        }
      ]
    },
    {
      "cell_type": "code",
      "source": [
        "d.dtypes\n",
        "d.shape"
      ],
      "metadata": {
        "colab": {
          "base_uri": "https://localhost:8080/"
        },
        "id": "43eyIceScXLI",
        "outputId": "6363b749-41ff-41d8-cfc4-7f7abf845d41"
      },
      "execution_count": null,
      "outputs": [
        {
          "output_type": "execute_result",
          "data": {
            "text/plain": [
              "(33, 1)"
            ]
          },
          "metadata": {},
          "execution_count": 29
        }
      ]
    },
    {
      "cell_type": "code",
      "source": [
        "ax,f=plt.subplots(figsize=(25,15))\n",
        "sns.barpalot(x='sales',y=d.index,data=d)\n",
        "plt.show()"
      ],
      "metadata": {
        "colab": {
          "base_uri": "https://localhost:8080/",
          "height": 465
        },
        "id": "2JcgLoxDcYu4",
        "outputId": "319e8244-caac-46db-ffc6-26ac70d9e901"
      },
      "execution_count": null,
      "outputs": [
        {
          "output_type": "display_data",
          "data": {
            "image/png": "[encoded data removed]",
            "text/plain": [
              "<Figure size 1800x1080 with 1 Axes>"
            ]
          },
          "metadata": {
            "needs_background": "light"
          }
        }
      ]
    },
    {
      "cell_type": "markdown",
      "source": [
        "製品別の売り上げを見ると、食べものの売り上げが多いことが分かる。"
      ],
      "metadata": {
        "id": "tYjcjngadVh7"
      }
    },
    {
      "cell_type": "code",
      "source": [
        "df.columns"
      ],
      "metadata": {
        "colab": {
          "base_uri": "https://localhost:8080/"
        },
        "id": "wHihe07GdLxE",
        "outputId": "52973b85-a878-4b00-8fe4-b391c2b38e1d"
      },
      "execution_count": null,
      "outputs": [
        {
          "output_type": "execute_result",
          "data": {
            "text/plain": [
              "Index(['id', 'date', 'store_nbr', 'family', 'sales', 'onpromotion', 'city',\n",
              "       'state', 'type_x', 'cluster', 'transactions', 'type_y', 'locale',\n",
              "       'locale_name', 'description', 'transferred', 'dcoilwtico', 'year',\n",
              "       'month', 'day', 'dayofweek'],\n",
              "      dtype='object')"
            ]
          },
          "metadata": {},
          "execution_count": 31
        }
      ]
    },
    {
      "cell_type": "code",
      "source": [
        "df.head()\n",
        "df['onpromotion'].value_counts()"
      ],
      "metadata": {
        "colab": {
          "base_uri": "https://localhost:8080/"
        },
        "id": "t1fxe0_w5jXs",
        "outputId": "aea433d5-03bc-4604-95f1-1b080e899644"
      },
      "execution_count": null,
      "outputs": [
        {
          "output_type": "execute_result",
          "data": {
            "text/plain": [
              "0      238596\n",
              "1       23351\n",
              "2       10068\n",
              "3        5900\n",
              "4        4381\n",
              "        ...  \n",
              "317         1\n",
              "474         1\n",
              "672         1\n",
              "293         1\n",
              "229         1\n",
              "Name: onpromotion, Length: 285, dtype: int64"
            ]
          },
          "metadata": {},
          "execution_count": 32
        }
      ]
    },
    {
      "cell_type": "code",
      "source": [
        "s = df.groupby('store_nbr')['sales'].mean().sort_values(ascending=False)\n",
        "s=pd.DataFrame(s)\n",
        "print(s)\n",
        "s.shape\n"
      ],
      "metadata": {
        "colab": {
          "base_uri": "https://localhost:8080/"
        },
        "id": "rB4-XsFH59Ib",
        "outputId": "7765622e-2123-4064-eab4-d54f20965b66"
      },
      "execution_count": null,
      "outputs": [
        {
          "output_type": "stream",
          "name": "stdout",
          "text": [
            "                 sales\n",
            "store_nbr             \n",
            "44         1139.854249\n",
            "45         1038.203442\n",
            "47          945.397136\n",
            "3           934.942982\n",
            "49          841.675567\n",
            "46          783.518644\n",
            "52          733.925760\n",
            "48          663.533389\n",
            "51          628.050591\n",
            "8           557.810344\n",
            "11          544.435887\n",
            "50          537.672207\n",
            "7           522.635862\n",
            "24          497.831769\n",
            "9           490.732723\n",
            "20          476.172817\n",
            "6           464.664831\n",
            "2           442.265443\n",
            "39          380.190031\n",
            "37          376.752052\n",
            "21          367.922874\n",
            "27          363.083175\n",
            "42          355.880876\n",
            "4           347.446046\n",
            "28          345.525828\n",
            "31          345.274752\n",
            "38          342.945624\n",
            "40          340.196888\n",
            "29          337.686697\n",
            "17          336.169970\n",
            "34          328.067855\n",
            "36          318.488751\n",
            "43          317.407731\n",
            "53          312.430660\n",
            "5           296.173511\n",
            "41          285.916646\n",
            "1           275.260882\n",
            "25          269.214030\n",
            "18          262.438319\n",
            "33          262.107702\n",
            "19          242.828496\n",
            "23          222.457597\n",
            "15          219.867314\n",
            "14          218.689234\n",
            "12          210.436220\n",
            "16          199.482388\n",
            "54          197.197933\n",
            "13          195.620585\n",
            "22          192.268585\n",
            "10          179.621431\n",
            "35          157.849462\n",
            "26          154.340440\n",
            "30          147.386704\n",
            "32          115.325811\n"
          ]
        },
        {
          "output_type": "execute_result",
          "data": {
            "text/plain": [
              "(54, 1)"
            ]
          },
          "metadata": {},
          "execution_count": 33
        }
      ]
    },
    {
      "cell_type": "code",
      "source": [
        "ax,f =plt.subplots(figsize=(25,15))\n",
        "sns.barplot(x=s.index,y='sales',data=s,order=s.index)\n",
        "plt.show()"
      ],
      "metadata": {
        "colab": {
          "base_uri": "https://localhost:8080/",
          "height": 506
        },
        "id": "pRGtENDS6eOF",
        "outputId": "cb43c0c3-9eb2-43d5-f647-fffcab0ea5fb"
      },
      "execution_count": null,
      "outputs": [
        {
          "output_type": "display_data",
          "data": {
            "image/png": "[encoded data removed]",
            "text/plain": [
              "<Figure size 1800x1080 with 1 Axes>"
            ]
          },
          "metadata": {
            "needs_background": "light"
          }
        }
      ]
    },
    {
      "cell_type": "markdown",
      "source": [
        "売上が高いのは44,45,47\n",
        "低いのは32,30など\n",
        "→どの州、都市に店舗があるのか？"
      ],
      "metadata": {
        "id": "JjjZ-Uvm69yD"
      }
    },
    {
      "cell_type": "code",
      "source": [
        "c=df.groupby('city')['sales'].mean().sort_values(ascending=False)\n",
        "c=pd.DataFrame(c)\n",
        "d.shape"
      ],
      "metadata": {
        "colab": {
          "base_uri": "https://localhost:8080/"
        },
        "id": "N-pahFpK6zOK",
        "outputId": "1f528341-a165-43e0-be00-3e3462c46e00"
      },
      "execution_count": null,
      "outputs": [
        {
          "output_type": "execute_result",
          "data": {
            "text/plain": [
              "(33, 1)"
            ]
          },
          "metadata": {},
          "execution_count": 35
        }
      ]
    },
    {
      "cell_type": "code",
      "source": [
        "ax,f=plt.subplots(figsize=(25,15))\n",
        "sns.barplot(x='sales',y=c.index,data=c)\n",
        "plt.show()"
      ],
      "metadata": {
        "colab": {
          "base_uri": "https://localhost:8080/",
          "height": 489
        },
        "id": "sIGJyC_o7EjL",
        "outputId": "08757d3e-c520-40fa-a2a7-c27367459a76"
      },
      "execution_count": null,
      "outputs": [
        {
          "output_type": "display_data",
          "data": {
            "image/png": "[encoded data removed]",
            "text/plain": [
              "<Figure size 1800x1080 with 1 Axes>"
            ]
          },
          "metadata": {
            "needs_background": "light"
          }
        }
      ]
    },
    {
      "cell_type": "code",
      "source": [
        "state2 =df.groupby('state')['sales'].mean().sort_values(ascending=False)\n",
        "state2 = pd.DataFrame(state2)"
      ],
      "metadata": {
        "id": "NdGRGrRc7Ela"
      },
      "execution_count": null,
      "outputs": []
    },
    {
      "cell_type": "code",
      "source": [
        "ax,f = plt.subplots(figsize=(25,15))\n",
        "sns.barplot(x='sales',y=state2.index,data=state2)\n",
        "plt.show()"
      ],
      "metadata": {
        "colab": {
          "base_uri": "https://localhost:8080/",
          "height": 465
        },
        "id": "pmwReWYx8XGp",
        "outputId": "611e2258-97d5-478f-ebbe-9cf0a708a2c6"
      },
      "execution_count": null,
      "outputs": [
        {
          "output_type": "display_data",
          "data": {
            "image/png": "[encoded data removed]",
            "text/plain": [
              "<Figure size 1800x1080 with 1 Axes>"
            ]
          },
          "metadata": {
            "needs_background": "light"
          }
        }
      ]
    },
    {
      "cell_type": "code",
      "source": [
        "df.groupby(['city','state'])['sales'].mean().sort_values(ascending=False)"
      ],
      "metadata": {
        "colab": {
          "base_uri": "https://localhost:8080/"
        },
        "id": "3eHUnzz18jFB",
        "outputId": "6818a331-a0f6-4147-b191-d142ac1f4323"
      },
      "execution_count": null,
      "outputs": [
        {
          "output_type": "execute_result",
          "data": {
            "text/plain": [
              "city           state                         \n",
              "Quito          Pichincha                         598.460909\n",
              "Cayambe        Pichincha                         544.435887\n",
              "Ambato         Tungurahua                        380.064902\n",
              "Cuenca         Azuay                             373.953008\n",
              "Daule          Guayas                            363.083175\n",
              "Babahoyo       Los Rios                          345.274752\n",
              "Manta          Manabi                            344.853360\n",
              "Loja           Loja                              342.945624\n",
              "Libertad       Guayas                            318.488751\n",
              "Esmeraldas     Esmeraldas                        317.407731\n",
              "Guayaquil      Guayas                            316.137035\n",
              "Machala        El Oro                            313.056767\n",
              "Santo Domingo  Santo Domingo de los Tsachilas    272.437565\n",
              "Salinas        Santa Elena                       269.214030\n",
              "Quevedo        Los Rios                          262.107702\n",
              "Guaranda       Bolivar                           242.828496\n",
              "Ibarra         Imbabura                          219.867314\n",
              "Riobamba       Chimborazo                        218.689234\n",
              "Latacunga      Cotopaxi                          202.912049\n",
              "El Carmen      Manabi                            197.197933\n",
              "Puyo           Pastaza                           192.268585\n",
              "Playas         Guayas                            157.849462\n",
              "Name: sales, dtype: float64"
            ]
          },
          "metadata": {},
          "execution_count": 39
        }
      ]
    },
    {
      "cell_type": "markdown",
      "source": [
        "cityはQuito         stateは Pichincha の売り上げが多いことが分かる"
      ],
      "metadata": {
        "id": "blcYn1y084cg"
      }
    },
    {
      "cell_type": "code",
      "source": [
        "df.head()"
      ],
      "metadata": {
        "colab": {
          "base_uri": "https://localhost:8080/",
          "height": 357
        },
        "id": "QJZCG6z38vAz",
        "outputId": "4424fbbd-fa67-45e7-fb42-730389da8df0"
      },
      "execution_count": null,
      "outputs": [
        {
          "output_type": "execute_result",
          "data": {
            "text/html": [
              "\n",
              "  <div id=\"df-841d6568-39c8-4ad2-9226-205fdc17057b\">\n",
              "    <div class=\"colab-df-container\">\n",
              "      <div>\n",
              "<style scoped>\n",
              "    .dataframe tbody tr th:only-of-type {\n",
              "        vertical-align: middle;\n",
              "    }\n",
              "\n",
              "    .dataframe tbody tr th {\n",
              "        vertical-align: top;\n",
              "    }\n",
              "\n",
              "    .dataframe thead th {\n",
              "        text-align: right;\n",
              "    }\n",
              "</style>\n",
              "<table border=\"1\" class=\"dataframe\">\n",
              "  <thead>\n",
              "    <tr style=\"text-align: right;\">\n",
              "      <th></th>\n",
              "      <th>id</th>\n",
              "      <th>date</th>\n",
              "      <th>store_nbr</th>\n",
              "      <th>family</th>\n",
              "      <th>sales</th>\n",
              "      <th>onpromotion</th>\n",
              "      <th>city</th>\n",
              "      <th>state</th>\n",
              "      <th>type_x</th>\n",
              "      <th>cluster</th>\n",
              "      <th>transactions</th>\n",
              "      <th>type_y</th>\n",
              "      <th>locale</th>\n",
              "      <th>locale_name</th>\n",
              "      <th>description</th>\n",
              "      <th>transferred</th>\n",
              "      <th>dcoilwtico</th>\n",
              "      <th>year</th>\n",
              "      <th>month</th>\n",
              "      <th>day</th>\n",
              "      <th>dayofweek</th>\n",
              "    </tr>\n",
              "  </thead>\n",
              "  <tbody>\n",
              "    <tr>\n",
              "      <th>0</th>\n",
              "      <td>73062</td>\n",
              "      <td>2013-02-11</td>\n",
              "      <td>1</td>\n",
              "      <td>AUTOMOTIVE</td>\n",
              "      <td>0.0</td>\n",
              "      <td>0</td>\n",
              "      <td>Quito</td>\n",
              "      <td>Pichincha</td>\n",
              "      <td>D</td>\n",
              "      <td>13</td>\n",
              "      <td>396</td>\n",
              "      <td>Holiday</td>\n",
              "      <td>National</td>\n",
              "      <td>Ecuador</td>\n",
              "      <td>Carnaval</td>\n",
              "      <td>False</td>\n",
              "      <td>97.01</td>\n",
              "      <td>2013</td>\n",
              "      <td>2</td>\n",
              "      <td>11</td>\n",
              "      <td>0</td>\n",
              "    </tr>\n",
              "    <tr>\n",
              "      <th>1</th>\n",
              "      <td>73063</td>\n",
              "      <td>2013-02-11</td>\n",
              "      <td>1</td>\n",
              "      <td>BABY CARE</td>\n",
              "      <td>0.0</td>\n",
              "      <td>0</td>\n",
              "      <td>Quito</td>\n",
              "      <td>Pichincha</td>\n",
              "      <td>D</td>\n",
              "      <td>13</td>\n",
              "      <td>396</td>\n",
              "      <td>Holiday</td>\n",
              "      <td>National</td>\n",
              "      <td>Ecuador</td>\n",
              "      <td>Carnaval</td>\n",
              "      <td>False</td>\n",
              "      <td>97.01</td>\n",
              "      <td>2013</td>\n",
              "      <td>2</td>\n",
              "      <td>11</td>\n",
              "      <td>0</td>\n",
              "    </tr>\n",
              "    <tr>\n",
              "      <th>2</th>\n",
              "      <td>73064</td>\n",
              "      <td>2013-02-11</td>\n",
              "      <td>1</td>\n",
              "      <td>BEAUTY</td>\n",
              "      <td>0.0</td>\n",
              "      <td>0</td>\n",
              "      <td>Quito</td>\n",
              "      <td>Pichincha</td>\n",
              "      <td>D</td>\n",
              "      <td>13</td>\n",
              "      <td>396</td>\n",
              "      <td>Holiday</td>\n",
              "      <td>National</td>\n",
              "      <td>Ecuador</td>\n",
              "      <td>Carnaval</td>\n",
              "      <td>False</td>\n",
              "      <td>97.01</td>\n",
              "      <td>2013</td>\n",
              "      <td>2</td>\n",
              "      <td>11</td>\n",
              "      <td>0</td>\n",
              "    </tr>\n",
              "    <tr>\n",
              "      <th>3</th>\n",
              "      <td>73065</td>\n",
              "      <td>2013-02-11</td>\n",
              "      <td>1</td>\n",
              "      <td>BEVERAGES</td>\n",
              "      <td>172.0</td>\n",
              "      <td>0</td>\n",
              "      <td>Quito</td>\n",
              "      <td>Pichincha</td>\n",
              "      <td>D</td>\n",
              "      <td>13</td>\n",
              "      <td>396</td>\n",
              "      <td>Holiday</td>\n",
              "      <td>National</td>\n",
              "      <td>Ecuador</td>\n",
              "      <td>Carnaval</td>\n",
              "      <td>False</td>\n",
              "      <td>97.01</td>\n",
              "      <td>2013</td>\n",
              "      <td>2</td>\n",
              "      <td>11</td>\n",
              "      <td>0</td>\n",
              "    </tr>\n",
              "    <tr>\n",
              "      <th>4</th>\n",
              "      <td>73066</td>\n",
              "      <td>2013-02-11</td>\n",
              "      <td>1</td>\n",
              "      <td>BOOKS</td>\n",
              "      <td>0.0</td>\n",
              "      <td>0</td>\n",
              "      <td>Quito</td>\n",
              "      <td>Pichincha</td>\n",
              "      <td>D</td>\n",
              "      <td>13</td>\n",
              "      <td>396</td>\n",
              "      <td>Holiday</td>\n",
              "      <td>National</td>\n",
              "      <td>Ecuador</td>\n",
              "      <td>Carnaval</td>\n",
              "      <td>False</td>\n",
              "      <td>97.01</td>\n",
              "      <td>2013</td>\n",
              "      <td>2</td>\n",
              "      <td>11</td>\n",
              "      <td>0</td>\n",
              "    </tr>\n",
              "  </tbody>\n",
              "</table>\n",
              "</div>\n",
              "      <button class=\"colab-df-convert\" onclick=\"convertToInteractive('df-841d6568-39c8-4ad2-9226-205fdc17057b')\"\n",
              "              title=\"Convert this dataframe to an interactive table.\"\n",
              "              style=\"display:none;\">\n",
              "        \n",
              "  <svg xmlns=\"http://www.w3.org/2000/svg\" height=\"24px\"viewBox=\"0 0 24 24\"\n",
              "       width=\"24px\">\n",
              "    <path d=\"M0 0h24v24H0V0z\" fill=\"none\"/>\n",
              "    <path d=\"M18.56 5.44l.94 2.06.94-2.06 2.06-.94-2.06-.94-.94-2.06-.94 2.06-2.06.94zm-11 1L8.5 8.5l.94-2.06 2.06-.94-2.06-.94L8.5 2.5l-.94 2.06-2.06.94zm10 10l.94 2.06.94-2.06 2.06-.94-2.06-.94-.94-2.06-.94 2.06-2.06.94z\"/><path d=\"M17.41 7.96l-1.37-1.37c-.4-.4-.92-.59-1.43-.59-.52 0-1.04.2-1.43.59L10.3 9.45l-7.72 7.72c-.78.78-.78 2.05 0 2.83L4 21.41c.39.39.9.59 1.41.59.51 0 1.02-.2 1.41-.59l7.78-7.78 2.81-2.81c.8-.78.8-2.07 0-2.86zM5.41 20L4 18.59l7.72-7.72 1.47 1.35L5.41 20z\"/>\n",
              "  </svg>\n",
              "      </button>\n",
              "      \n",
              "  <style>\n",
              "    .colab-df-container {\n",
              "      display:flex;\n",
              "      flex-wrap:wrap;\n",
              "      gap: 12px;\n",
              "    }\n",
              "\n",
              "    .colab-df-convert {\n",
              "      background-color: #E8F0FE;\n",
              "      border: none;\n",
              "      border-radius: 50%;\n",
              "      cursor: pointer;\n",
              "      display: none;\n",
              "      fill: #1967D2;\n",
              "      height: 32px;\n",
              "      padding: 0 0 0 0;\n",
              "      width: 32px;\n",
              "    }\n",
              "\n",
              "    .colab-df-convert:hover {\n",
              "      background-color: #E2EBFA;\n",
              "      box-shadow: 0px 1px 2px rgba(60, 64, 67, 0.3), 0px 1px 3px 1px rgba(60, 64, 67, 0.15);\n",
              "      fill: #174EA6;\n",
              "    }\n",
              "\n",
              "    [theme=dark] .colab-df-convert {\n",
              "      background-color: #3B4455;\n",
              "      fill: #D2E3FC;\n",
              "    }\n",
              "\n",
              "    [theme=dark] .colab-df-convert:hover {\n",
              "      background-color: #434B5C;\n",
              "      box-shadow: 0px 1px 3px 1px rgba(0, 0, 0, 0.15);\n",
              "      filter: drop-shadow(0px 1px 2px rgba(0, 0, 0, 0.3));\n",
              "      fill: #FFFFFF;\n",
              "    }\n",
              "  </style>\n",
              "\n",
              "      <script>\n",
              "        const buttonEl =\n",
              "          document.querySelector('#df-841d6568-39c8-4ad2-9226-205fdc17057b button.colab-df-convert');\n",
              "        buttonEl.style.display =\n",
              "          google.colab.kernel.accessAllowed ? 'block' : 'none';\n",
              "\n",
              "        async function convertToInteractive(key) {\n",
              "          const element = document.querySelector('#df-841d6568-39c8-4ad2-9226-205fdc17057b');\n",
              "          const dataTable =\n",
              "            await google.colab.kernel.invokeFunction('convertToInteractive',\n",
              "                                                     [key], {});\n",
              "          if (!dataTable) return;\n",
              "\n",
              "          const docLinkHtml = 'Like what you see? Visit the ' +\n",
              "            '<a target=\"_blank\" href=https://colab.research.google.com/notebooks/data_table.ipynb>data table notebook</a>'\n",
              "            + ' to learn more about interactive tables.';\n",
              "          element.innerHTML = '';\n",
              "          dataTable['output_type'] = 'display_data';\n",
              "          await google.colab.output.renderOutput(dataTable, element);\n",
              "          const docLink = document.createElement('div');\n",
              "          docLink.innerHTML = docLinkHtml;\n",
              "          element.appendChild(docLink);\n",
              "        }\n",
              "      </script>\n",
              "    </div>\n",
              "  </div>\n",
              "  "
            ],
            "text/plain": [
              "      id       date  store_nbr      family  ...  year  month day dayofweek\n",
              "0  73062 2013-02-11          1  AUTOMOTIVE  ...  2013      2  11         0\n",
              "1  73063 2013-02-11          1   BABY CARE  ...  2013      2  11         0\n",
              "2  73064 2013-02-11          1      BEAUTY  ...  2013      2  11         0\n",
              "3  73065 2013-02-11          1   BEVERAGES  ...  2013      2  11         0\n",
              "4  73066 2013-02-11          1       BOOKS  ...  2013      2  11         0\n",
              "\n",
              "[5 rows x 21 columns]"
            ]
          },
          "metadata": {},
          "execution_count": 40
        }
      ]
    },
    {
      "cell_type": "code",
      "source": [
        "g=df.groupby(['type_y','locale'])['sales'].mean().sort_values(ascending=False)\n",
        "g.plot(kind='pie',autopct='%1.1f%%')\n",
        "plt.show()"
      ],
      "metadata": {
        "colab": {
          "base_uri": "https://localhost:8080/",
          "height": 248
        },
        "id": "7Uhk54cA9laa",
        "outputId": "0185a3e7-7648-4b87-d9e1-89bb73ebb15a"
      },
      "execution_count": null,
      "outputs": [
        {
          "output_type": "display_data",
          "data": {
            "image/png": "[encoded data removed]",
            "text/plain": [
              "<Figure size 432x288 with 1 Axes>"
            ]
          },
          "metadata": {}
        }
      ]
    },
    {
      "cell_type": "markdown",
      "source": [
        "localeがnationalで、type_yがAdditional,Transfer,Bridge,Eventの時にsalesが大きいことが分かる"
      ],
      "metadata": {
        "id": "5nuOQoWr-ger"
      }
    },
    {
      "cell_type": "code",
      "source": [
        "df.dtypes"
      ],
      "metadata": {
        "colab": {
          "base_uri": "https://localhost:8080/"
        },
        "id": "xDZsK-OGD7cQ",
        "outputId": "f8591db0-ae05-4a03-a503-d5196a7f86ef"
      },
      "execution_count": null,
      "outputs": [
        {
          "output_type": "execute_result",
          "data": {
            "text/plain": [
              "id                       int64\n",
              "date            datetime64[ns]\n",
              "store_nbr                int64\n",
              "family                  object\n",
              "sales                  float64\n",
              "onpromotion              int64\n",
              "city                    object\n",
              "state                   object\n",
              "type_x                  object\n",
              "cluster                  int64\n",
              "transactions             int64\n",
              "type_y                  object\n",
              "locale                  object\n",
              "locale_name             object\n",
              "description             object\n",
              "transferred               bool\n",
              "dcoilwtico             float64\n",
              "year                     int64\n",
              "month                    int64\n",
              "day                      int64\n",
              "dayofweek                int64\n",
              "dtype: object"
            ]
          },
          "metadata": {},
          "execution_count": 42
        }
      ]
    },
    {
      "cell_type": "code",
      "source": [
        "df.set_index('date',inplace=True)"
      ],
      "metadata": {
        "id": "Ic1w8u0ND7ee"
      },
      "execution_count": null,
      "outputs": []
    },
    {
      "cell_type": "code",
      "source": [
        "df.head()"
      ],
      "metadata": {
        "colab": {
          "base_uri": "https://localhost:8080/",
          "height": 388
        },
        "id": "DDPYunvzD7g4",
        "outputId": "a9d333b2-cbde-4adb-ea7a-043c860aa55d"
      },
      "execution_count": null,
      "outputs": [
        {
          "output_type": "execute_result",
          "data": {
            "text/html": [
              "\n",
              "  <div id=\"df-dc31a38b-ad1a-428f-8b96-6c9a765bc750\">\n",
              "    <div class=\"colab-df-container\">\n",
              "      <div>\n",
              "<style scoped>\n",
              "    .dataframe tbody tr th:only-of-type {\n",
              "        vertical-align: middle;\n",
              "    }\n",
              "\n",
              "    .dataframe tbody tr th {\n",
              "        vertical-align: top;\n",
              "    }\n",
              "\n",
              "    .dataframe thead th {\n",
              "        text-align: right;\n",
              "    }\n",
              "</style>\n",
              "<table border=\"1\" class=\"dataframe\">\n",
              "  <thead>\n",
              "    <tr style=\"text-align: right;\">\n",
              "      <th></th>\n",
              "      <th>id</th>\n",
              "      <th>store_nbr</th>\n",
              "      <th>family</th>\n",
              "      <th>sales</th>\n",
              "      <th>onpromotion</th>\n",
              "      <th>city</th>\n",
              "      <th>state</th>\n",
              "      <th>type_x</th>\n",
              "      <th>cluster</th>\n",
              "      <th>transactions</th>\n",
              "      <th>type_y</th>\n",
              "      <th>locale</th>\n",
              "      <th>locale_name</th>\n",
              "      <th>description</th>\n",
              "      <th>transferred</th>\n",
              "      <th>dcoilwtico</th>\n",
              "      <th>year</th>\n",
              "      <th>month</th>\n",
              "      <th>day</th>\n",
              "      <th>dayofweek</th>\n",
              "    </tr>\n",
              "    <tr>\n",
              "      <th>date</th>\n",
              "      <th></th>\n",
              "      <th></th>\n",
              "      <th></th>\n",
              "      <th></th>\n",
              "      <th></th>\n",
              "      <th></th>\n",
              "      <th></th>\n",
              "      <th></th>\n",
              "      <th></th>\n",
              "      <th></th>\n",
              "      <th></th>\n",
              "      <th></th>\n",
              "      <th></th>\n",
              "      <th></th>\n",
              "      <th></th>\n",
              "      <th></th>\n",
              "      <th></th>\n",
              "      <th></th>\n",
              "      <th></th>\n",
              "      <th></th>\n",
              "    </tr>\n",
              "  </thead>\n",
              "  <tbody>\n",
              "    <tr>\n",
              "      <th>2013-02-11</th>\n",
              "      <td>73062</td>\n",
              "      <td>1</td>\n",
              "      <td>AUTOMOTIVE</td>\n",
              "      <td>0.0</td>\n",
              "      <td>0</td>\n",
              "      <td>Quito</td>\n",
              "      <td>Pichincha</td>\n",
              "      <td>D</td>\n",
              "      <td>13</td>\n",
              "      <td>396</td>\n",
              "      <td>Holiday</td>\n",
              "      <td>National</td>\n",
              "      <td>Ecuador</td>\n",
              "      <td>Carnaval</td>\n",
              "      <td>False</td>\n",
              "      <td>97.01</td>\n",
              "      <td>2013</td>\n",
              "      <td>2</td>\n",
              "      <td>11</td>\n",
              "      <td>0</td>\n",
              "    </tr>\n",
              "    <tr>\n",
              "      <th>2013-02-11</th>\n",
              "      <td>73063</td>\n",
              "      <td>1</td>\n",
              "      <td>BABY CARE</td>\n",
              "      <td>0.0</td>\n",
              "      <td>0</td>\n",
              "      <td>Quito</td>\n",
              "      <td>Pichincha</td>\n",
              "      <td>D</td>\n",
              "      <td>13</td>\n",
              "      <td>396</td>\n",
              "      <td>Holiday</td>\n",
              "      <td>National</td>\n",
              "      <td>Ecuador</td>\n",
              "      <td>Carnaval</td>\n",
              "      <td>False</td>\n",
              "      <td>97.01</td>\n",
              "      <td>2013</td>\n",
              "      <td>2</td>\n",
              "      <td>11</td>\n",
              "      <td>0</td>\n",
              "    </tr>\n",
              "    <tr>\n",
              "      <th>2013-02-11</th>\n",
              "      <td>73064</td>\n",
              "      <td>1</td>\n",
              "      <td>BEAUTY</td>\n",
              "      <td>0.0</td>\n",
              "      <td>0</td>\n",
              "      <td>Quito</td>\n",
              "      <td>Pichincha</td>\n",
              "      <td>D</td>\n",
              "      <td>13</td>\n",
              "      <td>396</td>\n",
              "      <td>Holiday</td>\n",
              "      <td>National</td>\n",
              "      <td>Ecuador</td>\n",
              "      <td>Carnaval</td>\n",
              "      <td>False</td>\n",
              "      <td>97.01</td>\n",
              "      <td>2013</td>\n",
              "      <td>2</td>\n",
              "      <td>11</td>\n",
              "      <td>0</td>\n",
              "    </tr>\n",
              "    <tr>\n",
              "      <th>2013-02-11</th>\n",
              "      <td>73065</td>\n",
              "      <td>1</td>\n",
              "      <td>BEVERAGES</td>\n",
              "      <td>172.0</td>\n",
              "      <td>0</td>\n",
              "      <td>Quito</td>\n",
              "      <td>Pichincha</td>\n",
              "      <td>D</td>\n",
              "      <td>13</td>\n",
              "      <td>396</td>\n",
              "      <td>Holiday</td>\n",
              "      <td>National</td>\n",
              "      <td>Ecuador</td>\n",
              "      <td>Carnaval</td>\n",
              "      <td>False</td>\n",
              "      <td>97.01</td>\n",
              "      <td>2013</td>\n",
              "      <td>2</td>\n",
              "      <td>11</td>\n",
              "      <td>0</td>\n",
              "    </tr>\n",
              "    <tr>\n",
              "      <th>2013-02-11</th>\n",
              "      <td>73066</td>\n",
              "      <td>1</td>\n",
              "      <td>BOOKS</td>\n",
              "      <td>0.0</td>\n",
              "      <td>0</td>\n",
              "      <td>Quito</td>\n",
              "      <td>Pichincha</td>\n",
              "      <td>D</td>\n",
              "      <td>13</td>\n",
              "      <td>396</td>\n",
              "      <td>Holiday</td>\n",
              "      <td>National</td>\n",
              "      <td>Ecuador</td>\n",
              "      <td>Carnaval</td>\n",
              "      <td>False</td>\n",
              "      <td>97.01</td>\n",
              "      <td>2013</td>\n",
              "      <td>2</td>\n",
              "      <td>11</td>\n",
              "      <td>0</td>\n",
              "    </tr>\n",
              "  </tbody>\n",
              "</table>\n",
              "</div>\n",
              "      <button class=\"colab-df-convert\" onclick=\"convertToInteractive('df-dc31a38b-ad1a-428f-8b96-6c9a765bc750')\"\n",
              "              title=\"Convert this dataframe to an interactive table.\"\n",
              "              style=\"display:none;\">\n",
              "        \n",
              "  <svg xmlns=\"http://www.w3.org/2000/svg\" height=\"24px\"viewBox=\"0 0 24 24\"\n",
              "       width=\"24px\">\n",
              "    <path d=\"M0 0h24v24H0V0z\" fill=\"none\"/>\n",
              "    <path d=\"M18.56 5.44l.94 2.06.94-2.06 2.06-.94-2.06-.94-.94-2.06-.94 2.06-2.06.94zm-11 1L8.5 8.5l.94-2.06 2.06-.94-2.06-.94L8.5 2.5l-.94 2.06-2.06.94zm10 10l.94 2.06.94-2.06 2.06-.94-2.06-.94-.94-2.06-.94 2.06-2.06.94z\"/><path d=\"M17.41 7.96l-1.37-1.37c-.4-.4-.92-.59-1.43-.59-.52 0-1.04.2-1.43.59L10.3 9.45l-7.72 7.72c-.78.78-.78 2.05 0 2.83L4 21.41c.39.39.9.59 1.41.59.51 0 1.02-.2 1.41-.59l7.78-7.78 2.81-2.81c.8-.78.8-2.07 0-2.86zM5.41 20L4 18.59l7.72-7.72 1.47 1.35L5.41 20z\"/>\n",
              "  </svg>\n",
              "      </button>\n",
              "      \n",
              "  <style>\n",
              "    .colab-df-container {\n",
              "      display:flex;\n",
              "      flex-wrap:wrap;\n",
              "      gap: 12px;\n",
              "    }\n",
              "\n",
              "    .colab-df-convert {\n",
              "      background-color: #E8F0FE;\n",
              "      border: none;\n",
              "      border-radius: 50%;\n",
              "      cursor: pointer;\n",
              "      display: none;\n",
              "      fill: #1967D2;\n",
              "      height: 32px;\n",
              "      padding: 0 0 0 0;\n",
              "      width: 32px;\n",
              "    }\n",
              "\n",
              "    .colab-df-convert:hover {\n",
              "      background-color: #E2EBFA;\n",
              "      box-shadow: 0px 1px 2px rgba(60, 64, 67, 0.3), 0px 1px 3px 1px rgba(60, 64, 67, 0.15);\n",
              "      fill: #174EA6;\n",
              "    }\n",
              "\n",
              "    [theme=dark] .colab-df-convert {\n",
              "      background-color: #3B4455;\n",
              "      fill: #D2E3FC;\n",
              "    }\n",
              "\n",
              "    [theme=dark] .colab-df-convert:hover {\n",
              "      background-color: #434B5C;\n",
              "      box-shadow: 0px 1px 3px 1px rgba(0, 0, 0, 0.15);\n",
              "      filter: drop-shadow(0px 1px 2px rgba(0, 0, 0, 0.3));\n",
              "      fill: #FFFFFF;\n",
              "    }\n",
              "  </style>\n",
              "\n",
              "      <script>\n",
              "        const buttonEl =\n",
              "          document.querySelector('#df-dc31a38b-ad1a-428f-8b96-6c9a765bc750 button.colab-df-convert');\n",
              "        buttonEl.style.display =\n",
              "          google.colab.kernel.accessAllowed ? 'block' : 'none';\n",
              "\n",
              "        async function convertToInteractive(key) {\n",
              "          const element = document.querySelector('#df-dc31a38b-ad1a-428f-8b96-6c9a765bc750');\n",
              "          const dataTable =\n",
              "            await google.colab.kernel.invokeFunction('convertToInteractive',\n",
              "                                                     [key], {});\n",
              "          if (!dataTable) return;\n",
              "\n",
              "          const docLinkHtml = 'Like what you see? Visit the ' +\n",
              "            '<a target=\"_blank\" href=https://colab.research.google.com/notebooks/data_table.ipynb>data table notebook</a>'\n",
              "            + ' to learn more about interactive tables.';\n",
              "          element.innerHTML = '';\n",
              "          dataTable['output_type'] = 'display_data';\n",
              "          await google.colab.output.renderOutput(dataTable, element);\n",
              "          const docLink = document.createElement('div');\n",
              "          docLink.innerHTML = docLinkHtml;\n",
              "          element.appendChild(docLink);\n",
              "        }\n",
              "      </script>\n",
              "    </div>\n",
              "  </div>\n",
              "  "
            ],
            "text/plain": [
              "               id  store_nbr      family  sales  ...  year month day dayofweek\n",
              "date                                             ...                          \n",
              "2013-02-11  73062          1  AUTOMOTIVE    0.0  ...  2013     2  11         0\n",
              "2013-02-11  73063          1   BABY CARE    0.0  ...  2013     2  11         0\n",
              "2013-02-11  73064          1      BEAUTY    0.0  ...  2013     2  11         0\n",
              "2013-02-11  73065          1   BEVERAGES  172.0  ...  2013     2  11         0\n",
              "2013-02-11  73066          1       BOOKS    0.0  ...  2013     2  11         0\n",
              "\n",
              "[5 rows x 20 columns]"
            ]
          },
          "metadata": {},
          "execution_count": 44
        }
      ]
    },
    {
      "cell_type": "code",
      "source": [
        "df.drop('id',axis=1,inplace=True)"
      ],
      "metadata": {
        "id": "xPs9CuQbD7i1"
      },
      "execution_count": null,
      "outputs": []
    },
    {
      "cell_type": "code",
      "source": [
        "object_columns =df.select_dtypes(include='object').columns"
      ],
      "metadata": {
        "id": "q1OCkcqNEXcW"
      },
      "execution_count": null,
      "outputs": []
    },
    {
      "cell_type": "code",
      "source": [
        "object_columns"
      ],
      "metadata": {
        "colab": {
          "base_uri": "https://localhost:8080/"
        },
        "id": "uKtwqULsoel0",
        "outputId": "a0a8ccaf-2d30-452a-b318-e8a1300e272b"
      },
      "execution_count": null,
      "outputs": [
        {
          "output_type": "execute_result",
          "data": {
            "text/plain": [
              "Index(['family', 'city', 'state', 'type_x', 'type_y', 'locale', 'locale_name',\n",
              "       'description'],\n",
              "      dtype='object')"
            ]
          },
          "metadata": {},
          "execution_count": 60
        }
      ]
    },
    {
      "cell_type": "code",
      "source": [
        "from sklearn import preprocessing\n",
        "le = preprocessing.LabelEncoder()"
      ],
      "metadata": {
        "id": "aO5-ZLZRFDDE"
      },
      "execution_count": null,
      "outputs": []
    },
    {
      "cell_type": "code",
      "source": [
        "for c in object_columns:\n",
        "    le.fit(df[c])\n",
        "    df[c] =le.transform(df[c])"
      ],
      "metadata": {
        "id": "q5de6DxuEXe-"
      },
      "execution_count": null,
      "outputs": []
    },
    {
      "cell_type": "code",
      "source": [
        "df.dtypes"
      ],
      "metadata": {
        "colab": {
          "base_uri": "https://localhost:8080/"
        },
        "id": "Hc7nPOtQEXhC",
        "outputId": "b48c74bf-ad04-4c14-8ae2-c70f25f360aa"
      },
      "execution_count": null,
      "outputs": [
        {
          "output_type": "execute_result",
          "data": {
            "text/plain": [
              "store_nbr         int64\n",
              "family            int64\n",
              "sales           float64\n",
              "onpromotion       int64\n",
              "city              int64\n",
              "state             int64\n",
              "type_x            int64\n",
              "cluster           int64\n",
              "transactions      int64\n",
              "type_y            int64\n",
              "locale            int64\n",
              "locale_name       int64\n",
              "description       int64\n",
              "transferred        bool\n",
              "dcoilwtico      float64\n",
              "year              int64\n",
              "month             int64\n",
              "day               int64\n",
              "dayofweek         int64\n",
              "dtype: object"
            ]
          },
          "metadata": {},
          "execution_count": 49
        }
      ]
    },
    {
      "cell_type": "code",
      "source": [
        "def change(x):\n",
        "    if x ==True:\n",
        "        return 1\n",
        "    else:\n",
        "        return 0"
      ],
      "metadata": {
        "id": "BNyhDZWJFOLX"
      },
      "execution_count": null,
      "outputs": []
    },
    {
      "cell_type": "code",
      "source": [
        "df['transferred']=df['transferred'].apply(change)"
      ],
      "metadata": {
        "id": "nGR113IeFOOG"
      },
      "execution_count": null,
      "outputs": []
    },
    {
      "cell_type": "code",
      "source": [
        "df.dtypes"
      ],
      "metadata": {
        "colab": {
          "base_uri": "https://localhost:8080/"
        },
        "id": "Qxu09pgKFOP1",
        "outputId": "d544cfbb-38a3-4182-ef20-d9865b9d3523"
      },
      "execution_count": null,
      "outputs": [
        {
          "output_type": "execute_result",
          "data": {
            "text/plain": [
              "store_nbr         int64\n",
              "family            int64\n",
              "sales           float64\n",
              "onpromotion       int64\n",
              "city              int64\n",
              "state             int64\n",
              "type_x            int64\n",
              "cluster           int64\n",
              "transactions      int64\n",
              "type_y            int64\n",
              "locale            int64\n",
              "locale_name       int64\n",
              "description       int64\n",
              "transferred       int64\n",
              "dcoilwtico      float64\n",
              "year              int64\n",
              "month             int64\n",
              "day               int64\n",
              "dayofweek         int64\n",
              "dtype: object"
            ]
          },
          "metadata": {},
          "execution_count": 52
        }
      ]
    },
    {
      "cell_type": "code",
      "source": [
        "X=df.drop('sales',axis=1)\n",
        "Y=df['sales']"
      ],
      "metadata": {
        "id": "rHH9Mvb1Fgim"
      },
      "execution_count": null,
      "outputs": []
    },
    {
      "cell_type": "code",
      "source": [
        "import lightgbm as lgb"
      ],
      "metadata": {
        "id": "5DqItGSJFgmI"
      },
      "execution_count": null,
      "outputs": []
    },
    {
      "cell_type": "code",
      "source": [
        "params ={\n",
        "    'objective':'regression',\n",
        "    'metric':'neg_mean_squared_log_error'\n",
        "}"
      ],
      "metadata": {
        "id": "k90iCyWOFgn2"
      },
      "execution_count": null,
      "outputs": []
    },
    {
      "cell_type": "code",
      "source": [
        "from sklearn.metrics import mean_squared_error as MSE"
      ],
      "metadata": {
        "id": "LJXDBUHXG7xy"
      },
      "execution_count": null,
      "outputs": []
    },
    {
      "cell_type": "code",
      "source": [
        "from sklearn.model_selection import TimeSeriesSplit"
      ],
      "metadata": {
        "id": "nkDF_hDa9vB6"
      },
      "execution_count": null,
      "outputs": []
    },
    {
      "cell_type": "code",
      "source": [
        "folds = TimeSeriesSplit(n_splits=5)"
      ],
      "metadata": {
        "id": "RkLDzNSj_anQ"
      },
      "execution_count": null,
      "outputs": []
    },
    {
      "cell_type": "code",
      "source": [
        "for i,(train_index,test_index) in enumerate(folds.split(X)):\n",
        "    X_train,X_test = X.iloc[train_index],X.iloc[test_index]\n",
        "    Y_train,Y_test = Y.iloc[train_index],Y.iloc[test_index]\n",
        "    Y_train = np.log1p(Y_train)\n",
        "\n",
        "    train_data=lgb.Dataset(X_train,Y_train)\n",
        "    eval_data=lgb.Dataset(X_test,Y_test,reference=train_data)\n",
        "    gbm = lgb.train(\n",
        "        params,\n",
        "        train_data,\n",
        "        valid_sets=[train_data,eval_data])\n",
        "    pred = gbm.predict(X_test)\n",
        "    pred=np.expm1(pred)\n",
        "    print(pred)\n",
        "    mse = MSE(Y_test,pred)\n",
        "    rmse=np.sqrt(mse)\n",
        "    print('rmsle:',rmse)\n",
        "    "
      ],
      "metadata": {
        "colab": {
          "base_uri": "https://localhost:8080/"
        },
        "id": "GwqoV2lw_v7L",
        "outputId": "f31aed08-fb43-4c7d-fc8f-a92d5f914835"
      },
      "execution_count": null,
      "outputs": [
        {
          "output_type": "stream",
          "name": "stdout",
          "text": [
            "[ 2.74763472e-01  2.10658083e+00  1.01561881e+01 ...  8.44328190e+00\n",
            "  2.88714895e+00 -5.74096209e-03]\n",
            "rmsle: 573.5927439054784\n",
            "[ 1.18668104e+00  1.58065168e+03 -8.08992355e-02 ...  1.41044349e+01\n",
            "  9.99321637e+00  1.75280908e+00]\n",
            "rmsle: 633.6867533470667\n",
            "[341.08643007  13.18900072  11.00993965 ...  21.84983149   1.98809603\n",
            "   2.72313725]\n",
            "rmsle: 1068.505059472098\n",
            "[5.03254168e-01 1.92752493e+00 1.41226440e+03 ... 1.45934357e+00\n",
            " 7.67805672e+01 4.46587844e+01]\n",
            "rmsle: 778.1652126846144\n",
            "[5.98805170e-01 2.31693055e+02 2.73040697e+00 ... 8.10937145e+00\n",
            " 1.58679229e-01 1.25000175e+01]\n",
            "rmsle: 666.6390939450694\n"
          ]
        }
      ]
    }
  ]
}