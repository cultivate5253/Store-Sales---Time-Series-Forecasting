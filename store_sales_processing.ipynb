{
  "cells": [
    {
      "cell_type": "code",
      "source": [
        "from google.colab import drive\n",
        "drive.mount('/content/drive')"
      ],
      "metadata": {
        "colab": {
          "base_uri": "https://localhost:8080/"
        },
        "id": "mXTU9G3iA8Gu",
        "outputId": "7124db1d-a576-4272-e048-5c532d118a98"
      },
      "id": "mXTU9G3iA8Gu",
      "execution_count": null,
      "outputs": [
        {
          "output_type": "stream",
          "name": "stdout",
          "text": [
            "Drive already mounted at /content/drive; to attempt to forcibly remount, call drive.mount(\"/content/drive\", force_remount=True).\n"
          ]
        }
      ]
    },
    {
      "cell_type": "code",
      "source": [
        "!pip install japanize-matplotlib"
      ],
      "metadata": {
        "colab": {
          "base_uri": "https://localhost:8080/"
        },
        "id": "RNGOR4XXR3gG",
        "outputId": "95ed4aa7-5c95-49fb-c249-ad32bc46a907"
      },
      "id": "RNGOR4XXR3gG",
      "execution_count": null,
      "outputs": [
        {
          "output_type": "stream",
          "name": "stdout",
          "text": [
            "Requirement already satisfied: japanize-matplotlib in /usr/local/lib/python3.7/dist-packages (1.1.3)\n",
            "Requirement already satisfied: matplotlib in /usr/local/lib/python3.7/dist-packages (from japanize-matplotlib) (3.2.2)\n",
            "Requirement already satisfied: python-dateutil>=2.1 in /usr/local/lib/python3.7/dist-packages (from matplotlib->japanize-matplotlib) (2.8.2)\n",
            "Requirement already satisfied: pyparsing!=2.0.4,!=2.1.2,!=2.1.6,>=2.0.1 in /usr/local/lib/python3.7/dist-packages (from matplotlib->japanize-matplotlib) (3.0.7)\n",
            "Requirement already satisfied: cycler>=0.10 in /usr/local/lib/python3.7/dist-packages (from matplotlib->japanize-matplotlib) (0.11.0)\n",
            "Requirement already satisfied: kiwisolver>=1.0.1 in /usr/local/lib/python3.7/dist-packages (from matplotlib->japanize-matplotlib) (1.3.2)\n",
            "Requirement already satisfied: numpy>=1.11 in /usr/local/lib/python3.7/dist-packages (from matplotlib->japanize-matplotlib) (1.21.5)\n",
            "Requirement already satisfied: six>=1.5 in /usr/local/lib/python3.7/dist-packages (from python-dateutil>=2.1->matplotlib->japanize-matplotlib) (1.15.0)\n"
          ]
        }
      ]
    },
    {
      "cell_type": "code",
      "execution_count": null,
      "id": "66e35112",
      "metadata": {
        "id": "66e35112"
      },
      "outputs": [],
      "source": [
        "import pandas as pd\n",
        "import os\n",
        "import matplotlib.pyplot as plt\n",
        "import seaborn as sns\n",
        "%matplotlib inline\n",
        "import numpy as np\n",
        "import japanize_matplotlib"
      ]
    },
    {
      "cell_type": "code",
      "execution_count": null,
      "id": "0375a9b3",
      "metadata": {
        "colab": {
          "base_uri": "https://localhost:8080/",
          "height": 35
        },
        "id": "0375a9b3",
        "outputId": "7f909583-c02d-49e1-fd92-123616aa3267"
      },
      "outputs": [
        {
          "output_type": "execute_result",
          "data": {
            "application/vnd.google.colaboratory.intrinsic+json": {
              "type": "string"
            },
            "text/plain": [
              "'/content/drive/My Drive/input'"
            ]
          },
          "metadata": {},
          "execution_count": 108
        }
      ],
      "source": [
        "current_dir=os.getcwd()\n",
        "current_dir"
      ]
    },
    {
      "cell_type": "code",
      "execution_count": null,
      "id": "bdfdeb8b",
      "metadata": {
        "colab": {
          "base_uri": "https://localhost:8080/"
        },
        "id": "bdfdeb8b",
        "outputId": "a64d94df-20ad-42f6-ffce-4278aa48cefe"
      },
      "outputs": [
        {
          "output_type": "stream",
          "name": "stdout",
          "text": [
            "/content/drive/MyDrive/input\n"
          ]
        }
      ],
      "source": [
        "cd /content/drive/MyDrive/input/"
      ]
    },
    {
      "cell_type": "code",
      "execution_count": null,
      "id": "024c4479",
      "metadata": {
        "colab": {
          "base_uri": "https://localhost:8080/"
        },
        "id": "024c4479",
        "outputId": "ef1f5566-5d07-4067-aeeb-fdc75231ec9e"
      },
      "outputs": [
        {
          "output_type": "execute_result",
          "data": {
            "text/plain": [
              "['stores.csv',\n",
              " 'sample_submission.csv',\n",
              " 'holidays_events.csv',\n",
              " 'oil.csv',\n",
              " 'train.csv',\n",
              " 'transactions.csv',\n",
              " '.DS_Store',\n",
              " 'train_df1.csv']"
            ]
          },
          "metadata": {},
          "execution_count": 110
        }
      ],
      "source": [
        "os.listdir(current_dir)"
      ]
    },
    {
      "cell_type": "code",
      "execution_count": null,
      "id": "faa97a70",
      "metadata": {
        "colab": {
          "base_uri": "https://localhost:8080/"
        },
        "id": "faa97a70",
        "outputId": "6d207d4a-adc1-44d1-cb68-537da15e1f20"
      },
      "outputs": [
        {
          "output_type": "stream",
          "name": "stdout",
          "text": [
            "holidays_events.csv  sample_submission.csv  train.csv      transactions.csv\n",
            "oil.csv              stores.csv             train_df1.csv\n"
          ]
        }
      ],
      "source": [
        "ls"
      ]
    },
    {
      "cell_type": "code",
      "execution_count": null,
      "id": "8fbf9dd9",
      "metadata": {
        "id": "8fbf9dd9"
      },
      "outputs": [],
      "source": [
        "#読み込み\n",
        "holidays=pd.read_csv(\"holidays_events.csv\")\n",
        "oil = pd.read_csv(\"oil.csv\")\n",
        "stores = pd.read_csv(\"stores.csv\")\n",
        "transactions = pd.read_csv(\"transactions.csv\")\n",
        "train = pd.read_csv(\"train.csv\")"
      ]
    },
    {
      "cell_type": "code",
      "execution_count": null,
      "id": "22c20cc5",
      "metadata": {
        "id": "22c20cc5",
        "colab": {
          "base_uri": "https://localhost:8080/"
        },
        "outputId": "213198da-21c4-435d-90aa-08876a2951bc"
      },
      "outputs": [
        {
          "output_type": "stream",
          "name": "stderr",
          "text": [
            "/usr/local/lib/python3.7/dist-packages/ipykernel_launcher.py:5: UserWarning: Pandas doesn't allow columns to be created via a new attribute name - see https://pandas.pydata.org/pandas-docs/stable/indexing.html#attribute-access\n",
            "  \"\"\"\n"
          ]
        }
      ],
      "source": [
        "#マージ\n",
        "holidays_oil=holidays.merge(oil,how='outer',on='date')\n",
        "holidays_oil_train = holidays_oil.merge(train, how='outer', on='date')\n",
        "holidays_oil_train_transactions=holidays_oil_train.merge(transactions,how='outer',on=['date','store_nbr'])\n",
        "holidays_oil_train_transactions.columns_stores=holidays_oil_train_transactions.merge(stores,how='outer',on=['type','store_nbr']).sort_values(by=['date']).reset_index(drop=True)"
      ]
    },
    {
      "cell_type": "code",
      "execution_count": null,
      "id": "eeb4cc60",
      "metadata": {
        "id": "eeb4cc60"
      },
      "outputs": [],
      "source": [
        "#マージしたものをtrainとする\n",
        "train=holidays_oil_train_transactions.columns_stores.copy()"
      ]
    },
    {
      "cell_type": "code",
      "execution_count": null,
      "id": "069ba8b2",
      "metadata": {
        "id": "069ba8b2",
        "colab": {
          "base_uri": "https://localhost:8080/"
        },
        "outputId": "b7394b49-c598-4e01-d594-63fa8fec46a5"
      },
      "outputs": [
        {
          "output_type": "stream",
          "name": "stdout",
          "text": [
            "datetime64[ns]\n"
          ]
        },
        {
          "output_type": "stream",
          "name": "stderr",
          "text": [
            "/usr/local/lib/python3.7/dist-packages/ipykernel_launcher.py:7: FutureWarning: Series.dt.weekofyear and Series.dt.week have been deprecated.  Please use Series.dt.isocalendar().week instead.\n",
            "  import sys\n"
          ]
        }
      ],
      "source": [
        "#dateの項目から、Day,Week,Month,Year,Weekdayの項目を追加\n",
        "train['date'] = pd.to_datetime(train['date'])\n",
        "#df[date]object     ->      datetime\n",
        "print(train['date'].dtypes)\n",
        "#項目追加\n",
        "train['Day'] = train['date'].dt.day\n",
        "train['Week'] = train['date'].dt.week\n",
        "train['Month'] = train['date'].dt.month\n",
        "train['Year'] = train['date'].dt.year\n",
        "train['Weekday']=train['date'].dt.weekday\n",
        "\n",
        "#Dayは外してもいいかも"
      ]
    },
    {
      "cell_type": "code",
      "execution_count": null,
      "id": "652ec873",
      "metadata": {
        "colab": {
          "base_uri": "https://localhost:8080/",
          "height": 145
        },
        "id": "652ec873",
        "outputId": "7a0eee36-8884-44ed-cd62-b214e6fef803"
      },
      "outputs": [
        {
          "output_type": "execute_result",
          "data": {
            "text/html": [
              "\n",
              "  <div id=\"df-625f5cf8-dba1-45e5-bd80-b3c50cf03c28\">\n",
              "    <div class=\"colab-df-container\">\n",
              "      <div>\n",
              "<style scoped>\n",
              "    .dataframe tbody tr th:only-of-type {\n",
              "        vertical-align: middle;\n",
              "    }\n",
              "\n",
              "    .dataframe tbody tr th {\n",
              "        vertical-align: top;\n",
              "    }\n",
              "\n",
              "    .dataframe thead th {\n",
              "        text-align: right;\n",
              "    }\n",
              "</style>\n",
              "<table border=\"1\" class=\"dataframe\">\n",
              "  <thead>\n",
              "    <tr style=\"text-align: right;\">\n",
              "      <th></th>\n",
              "      <th>date</th>\n",
              "      <th>type</th>\n",
              "      <th>locale</th>\n",
              "      <th>locale_name</th>\n",
              "      <th>description</th>\n",
              "      <th>transferred</th>\n",
              "      <th>dcoilwtico</th>\n",
              "      <th>id</th>\n",
              "      <th>store_nbr</th>\n",
              "      <th>family</th>\n",
              "      <th>sales</th>\n",
              "      <th>onpromotion</th>\n",
              "      <th>transactions</th>\n",
              "      <th>city</th>\n",
              "      <th>state</th>\n",
              "      <th>cluster</th>\n",
              "      <th>Day</th>\n",
              "      <th>Week</th>\n",
              "      <th>Month</th>\n",
              "      <th>Year</th>\n",
              "      <th>Weekday</th>\n",
              "    </tr>\n",
              "  </thead>\n",
              "  <tbody>\n",
              "    <tr>\n",
              "      <th>Type</th>\n",
              "      <td>datetime64[ns]</td>\n",
              "      <td>object</td>\n",
              "      <td>object</td>\n",
              "      <td>object</td>\n",
              "      <td>object</td>\n",
              "      <td>object</td>\n",
              "      <td>float64</td>\n",
              "      <td>float64</td>\n",
              "      <td>float64</td>\n",
              "      <td>object</td>\n",
              "      <td>float64</td>\n",
              "      <td>float64</td>\n",
              "      <td>float64</td>\n",
              "      <td>object</td>\n",
              "      <td>object</td>\n",
              "      <td>float64</td>\n",
              "      <td>float64</td>\n",
              "      <td>float64</td>\n",
              "      <td>float64</td>\n",
              "      <td>float64</td>\n",
              "      <td>float64</td>\n",
              "    </tr>\n",
              "  </tbody>\n",
              "</table>\n",
              "</div>\n",
              "      <button class=\"colab-df-convert\" onclick=\"convertToInteractive('df-625f5cf8-dba1-45e5-bd80-b3c50cf03c28')\"\n",
              "              title=\"Convert this dataframe to an interactive table.\"\n",
              "              style=\"display:none;\">\n",
              "        \n",
              "  <svg xmlns=\"http://www.w3.org/2000/svg\" height=\"24px\"viewBox=\"0 0 24 24\"\n",
              "       width=\"24px\">\n",
              "    <path d=\"M0 0h24v24H0V0z\" fill=\"none\"/>\n",
              "    <path d=\"M18.56 5.44l.94 2.06.94-2.06 2.06-.94-2.06-.94-.94-2.06-.94 2.06-2.06.94zm-11 1L8.5 8.5l.94-2.06 2.06-.94-2.06-.94L8.5 2.5l-.94 2.06-2.06.94zm10 10l.94 2.06.94-2.06 2.06-.94-2.06-.94-.94-2.06-.94 2.06-2.06.94z\"/><path d=\"M17.41 7.96l-1.37-1.37c-.4-.4-.92-.59-1.43-.59-.52 0-1.04.2-1.43.59L10.3 9.45l-7.72 7.72c-.78.78-.78 2.05 0 2.83L4 21.41c.39.39.9.59 1.41.59.51 0 1.02-.2 1.41-.59l7.78-7.78 2.81-2.81c.8-.78.8-2.07 0-2.86zM5.41 20L4 18.59l7.72-7.72 1.47 1.35L5.41 20z\"/>\n",
              "  </svg>\n",
              "      </button>\n",
              "      \n",
              "  <style>\n",
              "    .colab-df-container {\n",
              "      display:flex;\n",
              "      flex-wrap:wrap;\n",
              "      gap: 12px;\n",
              "    }\n",
              "\n",
              "    .colab-df-convert {\n",
              "      background-color: #E8F0FE;\n",
              "      border: none;\n",
              "      border-radius: 50%;\n",
              "      cursor: pointer;\n",
              "      display: none;\n",
              "      fill: #1967D2;\n",
              "      height: 32px;\n",
              "      padding: 0 0 0 0;\n",
              "      width: 32px;\n",
              "    }\n",
              "\n",
              "    .colab-df-convert:hover {\n",
              "      background-color: #E2EBFA;\n",
              "      box-shadow: 0px 1px 2px rgba(60, 64, 67, 0.3), 0px 1px 3px 1px rgba(60, 64, 67, 0.15);\n",
              "      fill: #174EA6;\n",
              "    }\n",
              "\n",
              "    [theme=dark] .colab-df-convert {\n",
              "      background-color: #3B4455;\n",
              "      fill: #D2E3FC;\n",
              "    }\n",
              "\n",
              "    [theme=dark] .colab-df-convert:hover {\n",
              "      background-color: #434B5C;\n",
              "      box-shadow: 0px 1px 3px 1px rgba(0, 0, 0, 0.15);\n",
              "      filter: drop-shadow(0px 1px 2px rgba(0, 0, 0, 0.3));\n",
              "      fill: #FFFFFF;\n",
              "    }\n",
              "  </style>\n",
              "\n",
              "      <script>\n",
              "        const buttonEl =\n",
              "          document.querySelector('#df-625f5cf8-dba1-45e5-bd80-b3c50cf03c28 button.colab-df-convert');\n",
              "        buttonEl.style.display =\n",
              "          google.colab.kernel.accessAllowed ? 'block' : 'none';\n",
              "\n",
              "        async function convertToInteractive(key) {\n",
              "          const element = document.querySelector('#df-625f5cf8-dba1-45e5-bd80-b3c50cf03c28');\n",
              "          const dataTable =\n",
              "            await google.colab.kernel.invokeFunction('convertToInteractive',\n",
              "                                                     [key], {});\n",
              "          if (!dataTable) return;\n",
              "\n",
              "          const docLinkHtml = 'Like what you see? Visit the ' +\n",
              "            '<a target=\"_blank\" href=https://colab.research.google.com/notebooks/data_table.ipynb>data table notebook</a>'\n",
              "            + ' to learn more about interactive tables.';\n",
              "          element.innerHTML = '';\n",
              "          dataTable['output_type'] = 'display_data';\n",
              "          await google.colab.output.renderOutput(dataTable, element);\n",
              "          const docLink = document.createElement('div');\n",
              "          docLink.innerHTML = docLinkHtml;\n",
              "          element.appendChild(docLink);\n",
              "        }\n",
              "      </script>\n",
              "    </div>\n",
              "  </div>\n",
              "  "
            ],
            "text/plain": [
              "                date    type  locale  ...    Month     Year  Weekday\n",
              "Type  datetime64[ns]  object  object  ...  float64  float64  float64\n",
              "\n",
              "[1 rows x 21 columns]"
            ]
          },
          "metadata": {},
          "execution_count": 116
        }
      ],
      "source": [
        "pd.DataFrame(train.dtypes, columns=['Type']).T"
      ]
    },
    {
      "cell_type": "code",
      "source": [
        "a=train['type'].unique()\n",
        "print('type=',a)\n",
        "print('')\n",
        "b=train['locale'].unique()\n",
        "print('locale=',b)\n",
        "print('')\n",
        "c=train['locale_name'].unique()\n",
        "print('locale_name=',c)\n",
        "print('')\n",
        "d=train['description'].unique()\t\n",
        "print('description=',d)\n",
        "print('')\n",
        "print('transferred:転送されたカラムには特に注意してください。正式に譲渡された休日はその暦日になりますが、政府によって別の日付に移動されました。転送された日は、休日というよりも通常の日に似ています。実際に祝われた日を見つけるには、タイプが転送である対応する行を探します。')\n",
        "e=train['transferred'].unique()\n",
        "print('transferred=',e)\n",
        "print('')\n",
        "f=train['city'].unique()\n",
        "print('city=',f)\n",
        "print('')\n",
        "g=train['type'].unique()\n",
        "print('type=',g)\n",
        "print('')\n",
        "\n",
        "h=train['family'].unique()\n",
        "print('family=',h)\n",
        "print('')"
      ],
      "metadata": {
        "colab": {
          "base_uri": "https://localhost:8080/"
        },
        "id": "HuhJNwdke119",
        "outputId": "98c4be2a-4cf1-43e9-f928-2f3ff6506505"
      },
      "id": "HuhJNwdke119",
      "execution_count": null,
      "outputs": [
        {
          "output_type": "stream",
          "name": "stdout",
          "text": [
            "type= ['Holiday' 'Transfer' 'Additional' 'Bridge' nan 'Work Day' 'Event' 'D' 'B'\n",
            " 'C' 'E' 'A']\n",
            "\n",
            "locale= ['Local' 'Regional' 'National' nan]\n",
            "\n",
            "locale_name= ['Manta' 'Cotopaxi' 'Cuenca' 'Libertad' 'Riobamba' 'Puyo' 'Guaranda'\n",
            " 'Latacunga' 'Machala' 'Imbabura' 'Santo Domingo' 'El Carmen' 'Cayambe'\n",
            " 'Esmeraldas' 'Ecuador' 'Ambato' 'Ibarra' 'Quevedo'\n",
            " 'Santo Domingo de los Tsachilas' 'Santa Elena' 'Quito' 'Loja' 'Salinas'\n",
            " nan 'Guayaquil']\n",
            "\n",
            "description= ['Fundacion de Manta' 'Provincializacion de Cotopaxi'\n",
            " 'Fundacion de Cuenca' 'Cantonizacion de Libertad'\n",
            " 'Cantonizacion de Riobamba' 'Cantonizacion del Puyo'\n",
            " 'Cantonizacion de Guaranda' 'Cantonizacion de Latacunga'\n",
            " 'Fundacion de Machala' 'Provincializacion de Imbabura'\n",
            " 'Fundacion de Santo Domingo' 'Cantonizacion de El Carmen'\n",
            " 'Cantonizacion de Cayambe' 'Fundacion de Esmeraldas'\n",
            " 'Primer Grito de Independencia' 'Fundacion de Riobamba'\n",
            " 'Fundacion de Ambato' 'Fundacion de Ibarra' 'Cantonizacion de Quevedo'\n",
            " 'Independencia de Guayaquil' 'Traslado Independencia de Guayaquil'\n",
            " 'Dia de Difuntos' 'Independencia de Cuenca'\n",
            " 'Provincializacion de Santo Domingo' 'Provincializacion Santa Elena'\n",
            " 'Independencia de Guaranda' 'Independencia de Latacunga'\n",
            " 'Independencia de Ambato' 'Fundacion de Quito-1' 'Fundacion de Quito'\n",
            " 'Fundacion de Loja' 'Navidad-4' 'Cantonizacion de Salinas' 'Navidad-3'\n",
            " 'Navidad-2' 'Puente Navidad' 'Navidad-1' 'Navidad' 'Navidad+1'\n",
            " 'Puente Primer dia del ano' 'Primer dia del ano-1' 'Primer dia del ano'\n",
            " nan 'Recupero puente Navidad' 'Recupero puente primer dia del ano'\n",
            " 'Carnaval' 'Viernes Santo' 'Dia del Trabajo' 'Dia de la Madre-1'\n",
            " 'Dia de la Madre' 'Batalla de Pichincha' 'Fundacion de Guayaquil-1'\n",
            " 'Fundacion de Guayaquil' 'Inauguracion Mundial de futbol Brasil'\n",
            " 'Mundial de futbol Brasil: Ecuador-Suiza'\n",
            " 'Mundial de futbol Brasil: Ecuador-Honduras'\n",
            " 'Mundial de futbol Brasil: Ecuador-Francia'\n",
            " 'Mundial de futbol Brasil: Octavos de Final'\n",
            " 'Mundial de futbol Brasil: Cuartos de Final'\n",
            " 'Mundial de futbol Brasil: Semifinales'\n",
            " 'Mundial de futbol Brasil: Tercer y cuarto lugar'\n",
            " 'Mundial de futbol Brasil: Final' 'Black Friday' 'Cyber Monday'\n",
            " 'Recupero Puente Navidad' 'Recupero Puente Primer dia del ano'\n",
            " 'Terremoto Manabi' 'Terremoto Manabi+1' 'Terremoto Manabi+2'\n",
            " 'Terremoto Manabi+3' 'Terremoto Manabi+4' 'Terremoto Manabi+5'\n",
            " 'Terremoto Manabi+6' 'Terremoto Manabi+7' 'Terremoto Manabi+8'\n",
            " 'Terremoto Manabi+9' 'Terremoto Manabi+10' 'Terremoto Manabi+11'\n",
            " 'Terremoto Manabi+12' 'Terremoto Manabi+13' 'Terremoto Manabi+14'\n",
            " 'Terremoto Manabi+15' 'Terremoto Manabi+16' 'Terremoto Manabi+17'\n",
            " 'Terremoto Manabi+18' 'Terremoto Manabi+19' 'Terremoto Manabi+20'\n",
            " 'Terremoto Manabi+21' 'Terremoto Manabi+22' 'Terremoto Manabi+23'\n",
            " 'Terremoto Manabi+24' 'Terremoto Manabi+25' 'Terremoto Manabi+26'\n",
            " 'Terremoto Manabi+27' 'Terremoto Manabi+28' 'Terremoto Manabi+29'\n",
            " 'Terremoto Manabi+30' 'Traslado Batalla de Pichincha'\n",
            " 'Traslado Fundacion de Guayaquil'\n",
            " 'Traslado Primer Grito de Independencia' 'Puente Dia de Difuntos'\n",
            " 'Recupero Puente Dia de Difuntos' 'Traslado Primer dia del ano'\n",
            " 'Traslado Fundacion de Quito']\n",
            "\n",
            "transferred:転送されたカラムには特に注意してください。正式に譲渡された休日はその暦日になりますが、政府によって別の日付に移動されました。転送された日は、休日というよりも通常の日に似ています。実際に祝われた日を見つけるには、タイプが転送である対応する行を探します。\n",
            "transferred= [False True nan]\n",
            "\n",
            "city= [nan 'Quito' 'Santo Domingo' 'Cayambe' 'Latacunga' 'Riobamba' 'Ibarra'\n",
            " 'Guaranda' 'Puyo' 'Ambato' 'Guayaquil' 'Salinas' 'Daule' 'Babahoyo'\n",
            " 'Quevedo' 'Playas' 'Libertad' 'Cuenca' 'Loja' 'Machala' 'Esmeraldas'\n",
            " 'Manta' 'El Carmen']\n",
            "\n",
            "type= ['Holiday' 'Transfer' 'Additional' 'Bridge' nan 'Work Day' 'Event' 'D' 'B'\n",
            " 'C' 'E' 'A']\n",
            "\n",
            "family= [nan 'HOME AND KITCHEN I' 'GROCERY II' 'GROCERY I' 'HOME APPLIANCES'\n",
            " 'FROZEN FOODS' 'EGGS' 'HOME AND KITCHEN II' 'HARDWARE' 'BREAD/BAKERY'\n",
            " 'LADIESWEAR' 'DAIRY' 'CLEANING' 'CELEBRATION' 'BOOKS' 'BEVERAGES'\n",
            " 'BEAUTY' 'BABY CARE' 'HOME CARE' 'AUTOMOTIVE' 'PET SUPPLIES'\n",
            " 'PERSONAL CARE' 'MEATS' 'MAGAZINES' 'LIQUOR,WINE,BEER' 'LINGERIE'\n",
            " 'LAWN AND GARDEN' 'PLAYERS AND ELECTRONICS' 'DELI' 'SEAFOOD' 'POULTRY'\n",
            " 'PREPARED FOODS' 'PRODUCE' 'SCHOOL AND OFFICE SUPPLIES']\n",
            "\n"
          ]
        }
      ]
    },
    {
      "cell_type": "code",
      "source": [
        "train['type']=train['type']=='Work Day'.replace(' ','_')\n",
        "train['type'] =train['type'].replace({'Holiday':'1', 'Transfer':'2', 'Additional':'3', 'Bridge':'4','Work_Day':'5', 'Event':'6','D':'7', 'B':'8', 'C':'9', 'E':'10,' 'A':'11' })\n",
        "print(train['type'].unique())\n",
        "train['type'].astype(float)"
      ],
      "metadata": {
        "colab": {
          "base_uri": "https://localhost:8080/",
          "height": 135
        },
        "id": "pLNyUtBhPi2S",
        "outputId": "d9d4d82b-6b10-41e5-febe-24af69c45af8"
      },
      "id": "pLNyUtBhPi2S",
      "execution_count": null,
      "outputs": [
        {
          "output_type": "error",
          "ename": "SyntaxError",
          "evalue": "ignored",
          "traceback": [
            "\u001b[0;36m  File \u001b[0;32m\"<ipython-input-120-6636f59ea259>\"\u001b[0;36m, line \u001b[0;32m2\u001b[0m\n\u001b[0;31m    train['type'] =train['type'].replace({'Holiday':'1', 'Transfer':'2', 'Additional':'3', 'Bridge':'4','Work_Day':'5', 'Event':'6','D':'7', 'B':'8', 'C':'9', 'E':'10,' 'A':'11' })\u001b[0m\n\u001b[0m                                                                                                                                                                            ^\u001b[0m\n\u001b[0;31mSyntaxError\u001b[0m\u001b[0;31m:\u001b[0m invalid syntax\n"
          ]
        }
      ]
    },
    {
      "cell_type": "code",
      "source": [
        "train['type'].unique()"
      ],
      "metadata": {
        "colab": {
          "base_uri": "https://localhost:8080/"
        },
        "id": "G525tdWah4m7",
        "outputId": "3dad7145-fe48-4e76-f8d1-ba3fae71ac7b"
      },
      "id": "G525tdWah4m7",
      "execution_count": null,
      "outputs": [
        {
          "output_type": "execute_result",
          "data": {
            "text/plain": [
              "array(['Holiday', 'Transfer', 'Additional', 'Bridge', nan, 'Work Day',\n",
              "       'Event', 'D', 'B', 'C', 'E', 'A'], dtype=object)"
            ]
          },
          "metadata": {},
          "execution_count": 119
        }
      ]
    },
    {
      "cell_type": "code",
      "source": [
        "a"
      ],
      "metadata": {
        "id": "rN-ZXRY8uzgr"
      },
      "id": "rN-ZXRY8uzgr",
      "execution_count": null,
      "outputs": []
    },
    {
      "cell_type": "code",
      "source": [
        ""
      ],
      "metadata": {
        "id": "OVEAeQmaurFf"
      },
      "id": "OVEAeQmaurFf",
      "execution_count": null,
      "outputs": []
    }
  ],
  "metadata": {
    "kernelspec": {
      "display_name": "Python 3.6.13 64-bit (conda)",
      "language": "python",
      "name": "python3613jvsc74a57bd07711b2567a732f63a8eb658637a0b16d8853d5439f9b2c03e15434db31b47f0c"
    },
    "language_info": {
      "codemirror_mode": {
        "name": "ipython",
        "version": 3
      },
      "file_extension": ".py",
      "mimetype": "text/x-python",
      "name": "python",
      "nbconvert_exporter": "python",
      "pygments_lexer": "ipython3",
      "version": "3.6.13"
    },
    "colab": {
      "name": "store_sales_processing.ipynb",
      "provenance": [],
      "collapsed_sections": []
    },
    "accelerator": "GPU"
  },
  "nbformat": 4,
  "nbformat_minor": 5
}