{
  "cells": [
    {
      "cell_type": "code",
      "source": [
        "from google.colab import drive\n",
        "drive.mount('/content/drive')"
      ],
      "metadata": {
        "colab": {
          "base_uri": "https://localhost:8080/"
        },
        "id": "mXTU9G3iA8Gu",
<<<<<<< HEAD
        "outputId": "159a2bff-79a7-485b-83bd-91e2cf29b1ca"
=======
        "outputId": "68cf5c02-0a93-46d7-d8e1-56ef7b350312"
>>>>>>> 01e03ab (4file made)
      },
      "id": "mXTU9G3iA8Gu",
      "execution_count": null,
      "outputs": [
        {
          "output_type": "stream",
          "name": "stdout",
          "text": [
            "Mounted at /content/drive\n"
          ]
        }
      ]
    },
    {
      "cell_type": "code",
<<<<<<< HEAD
      "execution_count": null,
      "id": "66e35112",
      "metadata": {
        "id": "66e35112"
      },
      "outputs": [],
      "source": [
        "import pandas as pd"
=======
      "source": [
        "!pip install japanize-matplotlib"
      ],
      "metadata": {
        "id": "RNGOR4XXR3gG",
        "colab": {
          "base_uri": "https://localhost:8080/"
        },
        "outputId": "bb0c0acd-a99b-41d8-a29c-188f670dda31"
      },
      "id": "RNGOR4XXR3gG",
      "execution_count": null,
      "outputs": [
        {
          "output_type": "stream",
          "name": "stdout",
          "text": [
            "Collecting japanize-matplotlib\n",
            "  Downloading japanize-matplotlib-1.1.3.tar.gz (4.1 MB)\n",
            "\u001b[K     |████████████████████████████████| 4.1 MB 26.3 MB/s \n",
            "\u001b[?25hRequirement already satisfied: matplotlib in /usr/local/lib/python3.7/dist-packages (from japanize-matplotlib) (3.2.2)\n",
            "Requirement already satisfied: cycler>=0.10 in /usr/local/lib/python3.7/dist-packages (from matplotlib->japanize-matplotlib) (0.11.0)\n",
            "Requirement already satisfied: pyparsing!=2.0.4,!=2.1.2,!=2.1.6,>=2.0.1 in /usr/local/lib/python3.7/dist-packages (from matplotlib->japanize-matplotlib) (3.0.7)\n",
            "Requirement already satisfied: kiwisolver>=1.0.1 in /usr/local/lib/python3.7/dist-packages (from matplotlib->japanize-matplotlib) (1.3.2)\n",
            "Requirement already satisfied: python-dateutil>=2.1 in /usr/local/lib/python3.7/dist-packages (from matplotlib->japanize-matplotlib) (2.8.2)\n",
            "Requirement already satisfied: numpy>=1.11 in /usr/local/lib/python3.7/dist-packages (from matplotlib->japanize-matplotlib) (1.21.5)\n",
            "Requirement already satisfied: six>=1.5 in /usr/local/lib/python3.7/dist-packages (from python-dateutil>=2.1->matplotlib->japanize-matplotlib) (1.15.0)\n",
            "Building wheels for collected packages: japanize-matplotlib\n",
            "  Building wheel for japanize-matplotlib (setup.py) ... \u001b[?25l\u001b[?25hdone\n",
            "  Created wheel for japanize-matplotlib: filename=japanize_matplotlib-1.1.3-py3-none-any.whl size=4120275 sha256=b48b736ebf306a1d286cc35b9ac75444de5bfcb34390d172fca4ff2120efb6bd\n",
            "  Stored in directory: /root/.cache/pip/wheels/83/97/6b/e9e0cde099cc40f972b8dd23367308f7705ae06cd6d4714658\n",
            "Successfully built japanize-matplotlib\n",
            "Installing collected packages: japanize-matplotlib\n",
            "Successfully installed japanize-matplotlib-1.1.3\n"
          ]
        }
      ]
    },
    {
      "cell_type": "code",
      "execution_count": null,
      "id": "adaa22b8",
      "metadata": {
        "id": "adaa22b8"
      },
      "outputs": [],
      "source": [
        "import pandas as pd\n",
        "import matplotlib.pyplot as plt\n",
        "import seaborn as sns\n",
        "%matplotlib inline\n",
        "import numpy as np\n",
        "import japanize_matplotlib\n",
        "import os"
      ]
    },
    {
      "cell_type": "code",
      "execution_count": null,
      "id": "0375a9b3",
      "metadata": {
        "colab": {
          "base_uri": "https://localhost:8080/",
          "height": 35
        },
        "id": "0375a9b3",
        "outputId": "79839c0c-b35a-492d-f694-f037d8de8c5f"
      },
      "outputs": [
        {
          "output_type": "execute_result",
          "data": {
            "application/vnd.google.colaboratory.intrinsic+json": {
              "type": "string"
            },
            "text/plain": [
              "'/content/drive/MyDrive/input'"
            ]
          },
          "metadata": {},
          "execution_count": 29
        }
      ],
      "source": [
        "current_dir=os.getcwd()\n",
        "current_dir"
      ]
    },
    {
      "cell_type": "code",
      "execution_count": null,
      "id": "024c4479",
      "metadata": {
        "colab": {
          "base_uri": "https://localhost:8080/"
        },
        "id": "024c4479",
        "outputId": "84913243-a691-4582-9297-71627161eab9"
      },
      "outputs": [
        {
          "output_type": "execute_result",
          "data": {
            "text/plain": [
              "['stores.csv',\n",
              " 'sample_submission.csv',\n",
              " 'holidays_events.csv',\n",
              " 'oil.csv',\n",
              " 'train.csv',\n",
              " 'transactions.csv',\n",
              " '.DS_Store',\n",
              " 'train_df1.csv']"
            ]
          },
          "metadata": {},
          "execution_count": 30
        }
      ],
      "source": [
        "os.listdir(current_dir)"
>>>>>>> 01e03ab (4file made)
      ]
    },
    {
      "cell_type": "code",
      "execution_count": null,
      "id": "bdfdeb8b",
      "metadata": {
        "colab": {
          "base_uri": "https://localhost:8080/"
        },
        "id": "bdfdeb8b",
<<<<<<< HEAD
        "outputId": "c5987780-b356-4c96-e07c-dc08a05e313b"
=======
        "outputId": "bd92c02c-95c5-4c33-c7b8-64ed50349dbf"
>>>>>>> 01e03ab (4file made)
      },
      "outputs": [
        {
          "output_type": "stream",
          "name": "stdout",
          "text": [
            "/content/drive/MyDrive/input\n"
          ]
        }
      ],
      "source": [
        "cd /content/drive/MyDrive/input/"
      ]
    },
    {
      "cell_type": "code",
      "execution_count": null,
<<<<<<< HEAD
      "id": "0375a9b3",
      "metadata": {
        "colab": {
          "base_uri": "https://localhost:8080/",
          "height": 35
        },
        "id": "0375a9b3",
        "outputId": "1469acbb-cf52-4123-f9eb-1435405819e3"
      },
      "outputs": [
        {
          "output_type": "execute_result",
          "data": {
            "application/vnd.google.colaboratory.intrinsic+json": {
              "type": "string"
            },
            "text/plain": [
              "'/content/drive/MyDrive/input'"
            ]
          },
          "metadata": {},
          "execution_count": 4
        }
      ],
      "source": [
        "import os\n",
        "current_dir=os.getcwd()\n",
        "current_dir"
      ]
    },
    {
      "cell_type": "code",
      "execution_count": null,
      "id": "024c4479",
      "metadata": {
        "colab": {
          "base_uri": "https://localhost:8080/"
        },
        "id": "024c4479",
        "outputId": "133cf164-7c7b-4c3a-e1b9-0da4acddb634"
      },
      "outputs": [
        {
          "output_type": "execute_result",
          "data": {
            "text/plain": [
              "['stores.csv',\n",
              " 'sample_submission.csv',\n",
              " 'holidays_events.csv',\n",
              " 'oil.csv',\n",
              " 'train.csv',\n",
              " 'transactions.csv',\n",
              " '.DS_Store']"
            ]
          },
          "metadata": {},
          "execution_count": 5
        }
      ],
      "source": [
        "os.listdir(current_dir)"
      ]
    },
    {
      "cell_type": "code",
      "execution_count": null,
=======
>>>>>>> 01e03ab (4file made)
      "id": "faa97a70",
      "metadata": {
        "colab": {
          "base_uri": "https://localhost:8080/"
        },
        "id": "faa97a70",
<<<<<<< HEAD
        "outputId": "4dbcb036-be8f-42f0-e804-b249f61d54ec"
=======
        "outputId": "9812c2aa-2789-4709-a3dc-f0ec0c9b26b1"
>>>>>>> 01e03ab (4file made)
      },
      "outputs": [
        {
          "output_type": "stream",
          "name": "stdout",
          "text": [
<<<<<<< HEAD
            "holidays_events.csv  sample_submission.csv  train.csv\n",
            "oil.csv              stores.csv             transactions.csv\n"
=======
            "holidays_events.csv  sample_submission.csv  train.csv      transactions.csv\n",
            "oil.csv              stores.csv             train_df1.csv\n"
>>>>>>> 01e03ab (4file made)
          ]
        }
      ],
      "source": [
        "ls"
      ]
    },
    {
      "cell_type": "code",
      "execution_count": null,
      "id": "8fbf9dd9",
      "metadata": {
        "id": "8fbf9dd9"
      },
      "outputs": [],
      "source": [
        "holidays=pd.read_csv(\"holidays_events.csv\")\n",
        "oil = pd.read_csv(\"oil.csv\")\n",
        "stores = pd.read_csv(\"stores.csv\")\n",
        "transactions = pd.read_csv(\"transactions.csv\")\n",
        "train = pd.read_csv(\"train.csv\")"
      ]
    },
    {
      "cell_type": "code",
<<<<<<< HEAD
=======
      "source": [
        "#各項目の中身"
      ],
      "metadata": {
        "id": "3IhjKgr2f1OO"
      },
      "id": "3IhjKgr2f1OO",
      "execution_count": null,
      "outputs": []
    },
    {
      "cell_type": "code",
>>>>>>> 01e03ab (4file made)
      "execution_count": null,
      "id": "3fedcf05",
      "metadata": {
        "colab": {
          "base_uri": "https://localhost:8080/"
        },
        "id": "3fedcf05",
<<<<<<< HEAD
        "outputId": "646c830a-329f-4f1c-b6fa-44a9022ad910"
      },
      "outputs": [
        {
          "output_type": "execute_result",
          "data": {
            "text/plain": [
              "Index(['date', 'type', 'locale', 'locale_name', 'description', 'transferred'], dtype='object')"
            ]
          },
          "metadata": {},
          "execution_count": 8
        }
      ],
      "source": [
        "holidays.columns"
      ]
    },
    {
      "cell_type": "code",
      "execution_count": null,
      "id": "77f3c225",
      "metadata": {
        "colab": {
          "base_uri": "https://localhost:8080/"
        },
        "id": "77f3c225",
        "outputId": "e8ef18b4-d601-4bb3-f4fd-ba3db17655d7"
      },
      "outputs": [
        {
          "output_type": "execute_result",
          "data": {
            "text/plain": [
              "Index(['date', 'dcoilwtico'], dtype='object')"
            ]
          },
          "metadata": {},
          "execution_count": 9
        }
      ],
      "source": [
        "oil.columns"
=======
        "outputId": "e9519225-86a9-441f-c7ab-3ca046872eca"
      },
      "outputs": [
        {
          "output_type": "stream",
          "name": "stdout",
          "text": [
            "holidays:Index(['date', 'type', 'locale', 'locale_name', 'description', 'transferred'], dtype='object')\n",
            "oil:Index(['date', 'dcoilwtico'], dtype='object')\n",
            "stores:Index(['store_nbr', 'city', 'state', 'type', 'cluster'], dtype='object')\n",
            "trabsactions:Index(['date', 'store_nbr', 'transactions'], dtype='object')\n",
            "train:Index(['id', 'date', 'store_nbr', 'family', 'sales', 'onpromotion'], dtype='object')\n"
          ]
        }
      ],
      "source": [
        "print('holidays:{0}'.format(holidays.columns))\n",
        "print('oil:{0}'.format(oil.columns))\n",
        "print('stores:{0}'.format(stores.columns))\n",
        "print('trabsactions:{0}'.format(transactions.columns))\n",
        "print('train:{0}'.format(train.columns))"
>>>>>>> 01e03ab (4file made)
      ]
    },
    {
      "cell_type": "code",
      "execution_count": null,
      "id": "22c20cc5",
      "metadata": {
        "id": "22c20cc5"
      },
      "outputs": [],
      "source": [
<<<<<<< HEAD
        "holidays_oil=holidays.merge(oil,how='outer',on='date')"
      ]
    },
    {
      "cell_type": "code",
      "execution_count": null,
      "id": "87b7912c",
      "metadata": {
        "colab": {
          "base_uri": "https://localhost:8080/"
        },
        "id": "87b7912c",
        "outputId": "9786f728-a6fe-498d-a3ab-9bf972fad532"
      },
      "outputs": [
        {
          "output_type": "execute_result",
          "data": {
            "text/plain": [
              "Index(['date', 'type', 'locale', 'locale_name', 'description', 'transferred',\n",
              "       'dcoilwtico'],\n",
              "      dtype='object')"
            ]
          },
          "metadata": {},
          "execution_count": 11
        }
      ],
      "source": [
        "holidays_oil.columns"
=======
        "#マージ\n",
        "train_oil=train.merge(oil,how='left',on='date')\n",
        "train_oil_holidays=train_oil.merge(holidays,how='left',on='date')\n",
        "train_oil_holidays_transactions=train_oil_holidays.merge(transactions,how='left',on=['date','store_nbr'])\n",
        "train_oil_holidays_transactions_stores=train_oil_holidays_transactions.merge(stores,how='left',on=['type','store_nbr']).sort_values(by=['date']).reset_index(drop=True)"
>>>>>>> 01e03ab (4file made)
      ]
    },
    {
      "cell_type": "code",
      "execution_count": null,
      "id": "228e7274",
      "metadata": {
<<<<<<< HEAD
        "colab": {
          "base_uri": "https://localhost:8080/"
        },
        "id": "228e7274",
        "outputId": "13fac497-9544-4835-8c1c-80020a3b0061"
      },
      "outputs": [
        {
          "output_type": "execute_result",
          "data": {
            "text/plain": [
              "Index(['id', 'date', 'store_nbr', 'family', 'sales', 'onpromotion'], dtype='object')"
            ]
          },
          "metadata": {},
          "execution_count": 12
        }
      ],
      "source": [
        "train.columns"
=======
        "id": "228e7274"
      },
      "outputs": [],
      "source": [
        "#マージしたものをtrainとする\n",
        "train=train_oil_holidays_transactions.copy()"
>>>>>>> 01e03ab (4file made)
      ]
    },
    {
      "cell_type": "code",
      "execution_count": null,
      "id": "29bc1912",
      "metadata": {
<<<<<<< HEAD
        "id": "29bc1912"
      },
      "outputs": [],
      "source": [
        "holidays_oil_train = holidays_oil.merge(train, how='outer', on='date')"
      ]
    },
    {
      "cell_type": "code",
      "execution_count": null,
      "id": "59963de3",
      "metadata": {
        "colab": {
          "base_uri": "https://localhost:8080/"
        },
        "id": "59963de3",
        "outputId": "25d24eaf-8299-4201-8274-603a377416bc"
      },
      "outputs": [
        {
          "output_type": "execute_result",
          "data": {
            "text/plain": [
              "Index(['date', 'type', 'locale', 'locale_name', 'description', 'transferred',\n",
              "       'dcoilwtico', 'id', 'store_nbr', 'family', 'sales', 'onpromotion'],\n",
              "      dtype='object')"
            ]
          },
          "metadata": {},
          "execution_count": 14
        }
      ],
      "source": [
        "holidays_oil_train.columns"
      ]
    },
    {
      "cell_type": "code",
      "execution_count": null,
      "id": "f966ad57",
      "metadata": {
        "colab": {
          "base_uri": "https://localhost:8080/"
        },
        "id": "f966ad57",
        "outputId": "6dac3a4a-10aa-4b61-81a3-2a92ea416f21"
      },
      "outputs": [
        {
          "output_type": "execute_result",
          "data": {
            "text/plain": [
              "Index(['date', 'store_nbr', 'transactions'], dtype='object')"
            ]
          },
          "metadata": {},
          "execution_count": 15
        }
      ],
      "source": [
        "transactions .columns"
      ]
    },
    {
      "cell_type": "code",
      "execution_count": null,
      "id": "defe98df",
      "metadata": {
        "id": "defe98df"
      },
      "outputs": [],
      "source": [
        "holidays_oil_train_transactions=holidays_oil_train.merge(transactions,how='outer',on=['date','store_nbr'])"
      ]
    },
    {
      "cell_type": "code",
      "execution_count": null,
      "id": "8c00c2df",
      "metadata": {
        "colab": {
          "base_uri": "https://localhost:8080/"
        },
        "id": "8c00c2df",
        "outputId": "4f54a779-bb9c-4ea4-fe2d-61d26e97d39e"
      },
      "outputs": [
        {
          "output_type": "execute_result",
          "data": {
            "text/plain": [
              "Index(['date', 'type', 'locale', 'locale_name', 'description', 'transferred',\n",
              "       'dcoilwtico', 'id', 'store_nbr', 'family', 'sales', 'onpromotion',\n",
              "       'transactions'],\n",
              "      dtype='object')"
            ]
          },
          "metadata": {},
          "execution_count": 17
        }
      ],
      "source": [
        "holidays_oil_train_transactions.columns"
      ]
    },
    {
      "cell_type": "code",
      "execution_count": null,
      "id": "9e06e89d",
      "metadata": {
        "colab": {
          "base_uri": "https://localhost:8080/"
        },
        "id": "9e06e89d",
        "outputId": "67691e35-b8be-4e05-acdd-5e23641dffd1"
      },
      "outputs": [
        {
          "output_type": "execute_result",
          "data": {
            "text/plain": [
              "Index(['store_nbr', 'city', 'state', 'type', 'cluster'], dtype='object')"
            ]
          },
          "metadata": {},
          "execution_count": 18
        }
      ],
      "source": [
        "stores.columns"
      ]
    },
    {
      "cell_type": "code",
      "execution_count": null,
      "id": "c6bf1e8f",
      "metadata": {
        "colab": {
          "base_uri": "https://localhost:8080/"
        },
        "id": "c6bf1e8f",
        "outputId": "e0456a6d-fb4f-4195-b34f-bbea1cf7cca2"
      },
      "outputs": [
        {
          "output_type": "stream",
          "name": "stderr",
          "text": [
            "/usr/local/lib/python3.7/dist-packages/ipykernel_launcher.py:1: UserWarning: Pandas doesn't allow columns to be created via a new attribute name - see https://pandas.pydata.org/pandas-docs/stable/indexing.html#attribute-access\n",
            "  \"\"\"Entry point for launching an IPython kernel.\n"
          ]
        }
      ],
      "source": [
        "holidays_oil_train_transactions.columns_stores=holidays_oil_train_transactions.merge(stores,how='outer',on=['type','store_nbr']).sort_values(by=['date']).reset_index(drop=True)"
      ]
    },
    {
      "cell_type": "code",
      "execution_count": null,
      "id": "20773fa3",
      "metadata": {
        "colab": {
          "base_uri": "https://localhost:8080/"
        },
        "id": "20773fa3",
        "outputId": "54802944-22ba-458c-fb7f-216c2a2a8312"
=======
        "id": "29bc1912",
        "colab": {
          "base_uri": "https://localhost:8080/"
        },
        "outputId": "1fbd2ee0-b4bf-41d9-8a62-bd3c52ecc403"
>>>>>>> 01e03ab (4file made)
      },
      "outputs": [
        {
          "output_type": "stream",
          "name": "stdout",
          "text": [
<<<<<<< HEAD
            "<class 'pandas.core.frame.DataFrame'>\n",
            "RangeIndex: 3054481 entries, 0 to 3054480\n",
            "Data columns (total 16 columns):\n",
            " #   Column        Dtype  \n",
            "---  ------        -----  \n",
            " 0   date          object \n",
            " 1   type          object \n",
            " 2   locale        object \n",
            " 3   locale_name   object \n",
            " 4   description   object \n",
            " 5   transferred   object \n",
            " 6   dcoilwtico    float64\n",
            " 7   id            float64\n",
            " 8   store_nbr     float64\n",
            " 9   family        object \n",
            " 10  sales         float64\n",
            " 11  onpromotion   float64\n",
            " 12  transactions  float64\n",
            " 13  city          object \n",
            " 14  state         object \n",
            " 15  cluster       float64\n",
            "dtypes: float64(7), object(9)\n",
            "memory usage: 372.9+ MB\n"
=======
            "datetime64[ns]\n"
          ]
        },
        {
          "output_type": "stream",
          "name": "stderr",
          "text": [
            "/usr/local/lib/python3.7/dist-packages/ipykernel_launcher.py:7: FutureWarning: Series.dt.weekofyear and Series.dt.week have been deprecated.  Please use Series.dt.isocalendar().week instead.\n",
            "  import sys\n"
>>>>>>> 01e03ab (4file made)
          ]
        }
      ],
      "source": [
<<<<<<< HEAD
        "holidays_oil_train_transactions.columns_stores.info()"
      ]
    },
    {
      "cell_type": "code",
      "execution_count": null,
      "id": "eeb4cc60",
      "metadata": {
        "id": "eeb4cc60"
      },
      "outputs": [],
      "source": [
        "train=holidays_oil_train_transactions.columns_stores.copy()"
=======
        "#dateの項目から、Day,Week,Month,Year,Weekdayの項目を追加\n",
        "train['date'] = pd.to_datetime(train['date'])\n",
        "#df[date]object     ->      datetime\n",
        "print(train['date'].dtypes)\n",
        "#項目追加\n",
        "train['Day'] = train['date'].dt.day\n",
        "train['Week'] = train['date'].dt.week\n",
        "train['Month'] = train['date'].dt.month\n",
        "train['Year'] = train['date'].dt.year\n",
        "train['Weekday']=train['date'].dt.weekday\n",
        "\n",
        "#Dayは外してもいいかも"
>>>>>>> 01e03ab (4file made)
      ]
    },
    {
      "cell_type": "code",
      "execution_count": null,
      "id": "652ec873",
      "metadata": {
        "colab": {
          "base_uri": "https://localhost:8080/",
          "height": 81
        },
        "id": "652ec873",
<<<<<<< HEAD
        "outputId": "566d9902-401d-4684-ec84-f1567e6f2f66"
=======
        "outputId": "02a044d7-d380-4861-bdae-9fd897f58b67"
>>>>>>> 01e03ab (4file made)
      },
      "outputs": [
        {
          "output_type": "execute_result",
          "data": {
            "text/html": [
              "\n",
<<<<<<< HEAD
              "  <div id=\"df-17c59e1a-4e67-4b0a-835a-4dd05e4c8c16\">\n",
=======
              "  <div id=\"df-e461ad48-8f43-40b0-be68-2e2851bf5961\">\n",
>>>>>>> 01e03ab (4file made)
              "    <div class=\"colab-df-container\">\n",
              "      <div>\n",
              "<style scoped>\n",
              "    .dataframe tbody tr th:only-of-type {\n",
              "        vertical-align: middle;\n",
              "    }\n",
              "\n",
              "    .dataframe tbody tr th {\n",
              "        vertical-align: top;\n",
              "    }\n",
              "\n",
              "    .dataframe thead th {\n",
              "        text-align: right;\n",
              "    }\n",
              "</style>\n",
              "<table border=\"1\" class=\"dataframe\">\n",
              "  <thead>\n",
              "    <tr style=\"text-align: right;\">\n",
              "      <th></th>\n",
<<<<<<< HEAD
              "      <th>date</th>\n",
=======
              "      <th>id</th>\n",
              "      <th>date</th>\n",
              "      <th>store_nbr</th>\n",
              "      <th>family</th>\n",
              "      <th>sales</th>\n",
              "      <th>onpromotion</th>\n",
              "      <th>dcoilwtico</th>\n",
>>>>>>> 01e03ab (4file made)
              "      <th>type</th>\n",
              "      <th>locale</th>\n",
              "      <th>locale_name</th>\n",
              "      <th>description</th>\n",
              "      <th>transferred</th>\n",
<<<<<<< HEAD
              "      <th>dcoilwtico</th>\n",
              "      <th>id</th>\n",
              "      <th>store_nbr</th>\n",
              "      <th>family</th>\n",
              "      <th>sales</th>\n",
              "      <th>onpromotion</th>\n",
              "      <th>transactions</th>\n",
              "      <th>city</th>\n",
              "      <th>state</th>\n",
              "      <th>cluster</th>\n",
=======
              "      <th>transactions</th>\n",
              "      <th>Day</th>\n",
              "      <th>Week</th>\n",
              "      <th>Month</th>\n",
              "      <th>Year</th>\n",
              "      <th>Weekday</th>\n",
>>>>>>> 01e03ab (4file made)
              "    </tr>\n",
              "  </thead>\n",
              "  <tbody>\n",
              "    <tr>\n",
              "      <th>Type</th>\n",
<<<<<<< HEAD
              "      <td>object</td>\n",
=======
              "      <td>int64</td>\n",
              "      <td>datetime64[ns]</td>\n",
              "      <td>int64</td>\n",
              "      <td>object</td>\n",
              "      <td>float64</td>\n",
              "      <td>int64</td>\n",
              "      <td>float64</td>\n",
>>>>>>> 01e03ab (4file made)
              "      <td>object</td>\n",
              "      <td>object</td>\n",
              "      <td>object</td>\n",
              "      <td>object</td>\n",
              "      <td>object</td>\n",
              "      <td>float64</td>\n",
<<<<<<< HEAD
              "      <td>float64</td>\n",
              "      <td>float64</td>\n",
              "      <td>object</td>\n",
              "      <td>float64</td>\n",
              "      <td>float64</td>\n",
              "      <td>float64</td>\n",
              "      <td>object</td>\n",
              "      <td>object</td>\n",
              "      <td>float64</td>\n",
=======
              "      <td>int64</td>\n",
              "      <td>int64</td>\n",
              "      <td>int64</td>\n",
              "      <td>int64</td>\n",
              "      <td>int64</td>\n",
>>>>>>> 01e03ab (4file made)
              "    </tr>\n",
              "  </tbody>\n",
              "</table>\n",
              "</div>\n",
<<<<<<< HEAD
              "      <button class=\"colab-df-convert\" onclick=\"convertToInteractive('df-17c59e1a-4e67-4b0a-835a-4dd05e4c8c16')\"\n",
=======
              "      <button class=\"colab-df-convert\" onclick=\"convertToInteractive('df-e461ad48-8f43-40b0-be68-2e2851bf5961')\"\n",
>>>>>>> 01e03ab (4file made)
              "              title=\"Convert this dataframe to an interactive table.\"\n",
              "              style=\"display:none;\">\n",
              "        \n",
              "  <svg xmlns=\"http://www.w3.org/2000/svg\" height=\"24px\"viewBox=\"0 0 24 24\"\n",
              "       width=\"24px\">\n",
              "    <path d=\"M0 0h24v24H0V0z\" fill=\"none\"/>\n",
              "    <path d=\"M18.56 5.44l.94 2.06.94-2.06 2.06-.94-2.06-.94-.94-2.06-.94 2.06-2.06.94zm-11 1L8.5 8.5l.94-2.06 2.06-.94-2.06-.94L8.5 2.5l-.94 2.06-2.06.94zm10 10l.94 2.06.94-2.06 2.06-.94-2.06-.94-.94-2.06-.94 2.06-2.06.94z\"/><path d=\"M17.41 7.96l-1.37-1.37c-.4-.4-.92-.59-1.43-.59-.52 0-1.04.2-1.43.59L10.3 9.45l-7.72 7.72c-.78.78-.78 2.05 0 2.83L4 21.41c.39.39.9.59 1.41.59.51 0 1.02-.2 1.41-.59l7.78-7.78 2.81-2.81c.8-.78.8-2.07 0-2.86zM5.41 20L4 18.59l7.72-7.72 1.47 1.35L5.41 20z\"/>\n",
              "  </svg>\n",
              "      </button>\n",
              "      \n",
              "  <style>\n",
              "    .colab-df-container {\n",
              "      display:flex;\n",
              "      flex-wrap:wrap;\n",
              "      gap: 12px;\n",
              "    }\n",
              "\n",
              "    .colab-df-convert {\n",
              "      background-color: #E8F0FE;\n",
              "      border: none;\n",
              "      border-radius: 50%;\n",
              "      cursor: pointer;\n",
              "      display: none;\n",
              "      fill: #1967D2;\n",
              "      height: 32px;\n",
              "      padding: 0 0 0 0;\n",
              "      width: 32px;\n",
              "    }\n",
              "\n",
              "    .colab-df-convert:hover {\n",
              "      background-color: #E2EBFA;\n",
              "      box-shadow: 0px 1px 2px rgba(60, 64, 67, 0.3), 0px 1px 3px 1px rgba(60, 64, 67, 0.15);\n",
              "      fill: #174EA6;\n",
              "    }\n",
              "\n",
              "    [theme=dark] .colab-df-convert {\n",
              "      background-color: #3B4455;\n",
              "      fill: #D2E3FC;\n",
              "    }\n",
              "\n",
              "    [theme=dark] .colab-df-convert:hover {\n",
              "      background-color: #434B5C;\n",
              "      box-shadow: 0px 1px 3px 1px rgba(0, 0, 0, 0.15);\n",
              "      filter: drop-shadow(0px 1px 2px rgba(0, 0, 0, 0.3));\n",
              "      fill: #FFFFFF;\n",
              "    }\n",
              "  </style>\n",
              "\n",
              "      <script>\n",
              "        const buttonEl =\n",
<<<<<<< HEAD
              "          document.querySelector('#df-17c59e1a-4e67-4b0a-835a-4dd05e4c8c16 button.colab-df-convert');\n",
=======
              "          document.querySelector('#df-e461ad48-8f43-40b0-be68-2e2851bf5961 button.colab-df-convert');\n",
>>>>>>> 01e03ab (4file made)
              "        buttonEl.style.display =\n",
              "          google.colab.kernel.accessAllowed ? 'block' : 'none';\n",
              "\n",
              "        async function convertToInteractive(key) {\n",
<<<<<<< HEAD
              "          const element = document.querySelector('#df-17c59e1a-4e67-4b0a-835a-4dd05e4c8c16');\n",
=======
              "          const element = document.querySelector('#df-e461ad48-8f43-40b0-be68-2e2851bf5961');\n",
>>>>>>> 01e03ab (4file made)
              "          const dataTable =\n",
              "            await google.colab.kernel.invokeFunction('convertToInteractive',\n",
              "                                                     [key], {});\n",
              "          if (!dataTable) return;\n",
              "\n",
              "          const docLinkHtml = 'Like what you see? Visit the ' +\n",
              "            '<a target=\"_blank\" href=https://colab.research.google.com/notebooks/data_table.ipynb>data table notebook</a>'\n",
              "            + ' to learn more about interactive tables.';\n",
              "          element.innerHTML = '';\n",
              "          dataTable['output_type'] = 'display_data';\n",
              "          await google.colab.output.renderOutput(dataTable, element);\n",
              "          const docLink = document.createElement('div');\n",
              "          docLink.innerHTML = docLinkHtml;\n",
              "          element.appendChild(docLink);\n",
              "        }\n",
              "      </script>\n",
              "    </div>\n",
              "  </div>\n",
              "  "
            ],
            "text/plain": [
<<<<<<< HEAD
              "        date    type  locale locale_name  ... transactions    city   state  cluster\n",
              "Type  object  object  object      object  ...      float64  object  object  float64\n",
              "\n",
              "[1 rows x 16 columns]"
            ]
          },
          "metadata": {},
          "execution_count": 22
=======
              "         id            date store_nbr  family  ...   Week  Month   Year Weekday\n",
              "Type  int64  datetime64[ns]     int64  object  ...  int64  int64  int64   int64\n",
              "\n",
              "[1 rows x 18 columns]"
            ]
          },
          "metadata": {},
          "execution_count": 39
>>>>>>> 01e03ab (4file made)
        }
      ],
      "source": [
        "pd.DataFrame(train.dtypes, columns=['Type']).T"
      ]
    },
    {
      "cell_type": "code",
      "source": [
<<<<<<< HEAD
        "train['type'].unique()"
=======
        "train.head()"
      ],
      "metadata": {
        "id": "uSUuMjeR1idf",
        "outputId": "efef381c-1c3a-4cbd-886f-09a929866dd8",
        "colab": {
          "base_uri": "https://localhost:8080/",
          "height": 206
        }
      },
      "id": "uSUuMjeR1idf",
      "execution_count": null,
      "outputs": [
        {
          "output_type": "execute_result",
          "data": {
            "text/html": [
              "\n",
              "  <div id=\"df-3e71bda0-a46a-4993-bb84-fb0cc7a0dd8e\">\n",
              "    <div class=\"colab-df-container\">\n",
              "      <div>\n",
              "<style scoped>\n",
              "    .dataframe tbody tr th:only-of-type {\n",
              "        vertical-align: middle;\n",
              "    }\n",
              "\n",
              "    .dataframe tbody tr th {\n",
              "        vertical-align: top;\n",
              "    }\n",
              "\n",
              "    .dataframe thead th {\n",
              "        text-align: right;\n",
              "    }\n",
              "</style>\n",
              "<table border=\"1\" class=\"dataframe\">\n",
              "  <thead>\n",
              "    <tr style=\"text-align: right;\">\n",
              "      <th></th>\n",
              "      <th>id</th>\n",
              "      <th>date</th>\n",
              "      <th>store_nbr</th>\n",
              "      <th>family</th>\n",
              "      <th>sales</th>\n",
              "      <th>onpromotion</th>\n",
              "      <th>dcoilwtico</th>\n",
              "      <th>type</th>\n",
              "      <th>locale</th>\n",
              "      <th>locale_name</th>\n",
              "      <th>description</th>\n",
              "      <th>transferred</th>\n",
              "      <th>transactions</th>\n",
              "      <th>Day</th>\n",
              "      <th>Week</th>\n",
              "      <th>Month</th>\n",
              "      <th>Year</th>\n",
              "      <th>Weekday</th>\n",
              "    </tr>\n",
              "  </thead>\n",
              "  <tbody>\n",
              "    <tr>\n",
              "      <th>0</th>\n",
              "      <td>0</td>\n",
              "      <td>2013-01-01</td>\n",
              "      <td>1</td>\n",
              "      <td>AUTOMOTIVE</td>\n",
              "      <td>0.0</td>\n",
              "      <td>0</td>\n",
              "      <td>NaN</td>\n",
              "      <td>Holiday</td>\n",
              "      <td>National</td>\n",
              "      <td>Ecuador</td>\n",
              "      <td>Primer dia del ano</td>\n",
              "      <td>False</td>\n",
              "      <td>NaN</td>\n",
              "      <td>1</td>\n",
              "      <td>1</td>\n",
              "      <td>1</td>\n",
              "      <td>2013</td>\n",
              "      <td>1</td>\n",
              "    </tr>\n",
              "    <tr>\n",
              "      <th>1</th>\n",
              "      <td>1</td>\n",
              "      <td>2013-01-01</td>\n",
              "      <td>1</td>\n",
              "      <td>BABY CARE</td>\n",
              "      <td>0.0</td>\n",
              "      <td>0</td>\n",
              "      <td>NaN</td>\n",
              "      <td>Holiday</td>\n",
              "      <td>National</td>\n",
              "      <td>Ecuador</td>\n",
              "      <td>Primer dia del ano</td>\n",
              "      <td>False</td>\n",
              "      <td>NaN</td>\n",
              "      <td>1</td>\n",
              "      <td>1</td>\n",
              "      <td>1</td>\n",
              "      <td>2013</td>\n",
              "      <td>1</td>\n",
              "    </tr>\n",
              "    <tr>\n",
              "      <th>2</th>\n",
              "      <td>2</td>\n",
              "      <td>2013-01-01</td>\n",
              "      <td>1</td>\n",
              "      <td>BEAUTY</td>\n",
              "      <td>0.0</td>\n",
              "      <td>0</td>\n",
              "      <td>NaN</td>\n",
              "      <td>Holiday</td>\n",
              "      <td>National</td>\n",
              "      <td>Ecuador</td>\n",
              "      <td>Primer dia del ano</td>\n",
              "      <td>False</td>\n",
              "      <td>NaN</td>\n",
              "      <td>1</td>\n",
              "      <td>1</td>\n",
              "      <td>1</td>\n",
              "      <td>2013</td>\n",
              "      <td>1</td>\n",
              "    </tr>\n",
              "    <tr>\n",
              "      <th>3</th>\n",
              "      <td>3</td>\n",
              "      <td>2013-01-01</td>\n",
              "      <td>1</td>\n",
              "      <td>BEVERAGES</td>\n",
              "      <td>0.0</td>\n",
              "      <td>0</td>\n",
              "      <td>NaN</td>\n",
              "      <td>Holiday</td>\n",
              "      <td>National</td>\n",
              "      <td>Ecuador</td>\n",
              "      <td>Primer dia del ano</td>\n",
              "      <td>False</td>\n",
              "      <td>NaN</td>\n",
              "      <td>1</td>\n",
              "      <td>1</td>\n",
              "      <td>1</td>\n",
              "      <td>2013</td>\n",
              "      <td>1</td>\n",
              "    </tr>\n",
              "    <tr>\n",
              "      <th>4</th>\n",
              "      <td>4</td>\n",
              "      <td>2013-01-01</td>\n",
              "      <td>1</td>\n",
              "      <td>BOOKS</td>\n",
              "      <td>0.0</td>\n",
              "      <td>0</td>\n",
              "      <td>NaN</td>\n",
              "      <td>Holiday</td>\n",
              "      <td>National</td>\n",
              "      <td>Ecuador</td>\n",
              "      <td>Primer dia del ano</td>\n",
              "      <td>False</td>\n",
              "      <td>NaN</td>\n",
              "      <td>1</td>\n",
              "      <td>1</td>\n",
              "      <td>1</td>\n",
              "      <td>2013</td>\n",
              "      <td>1</td>\n",
              "    </tr>\n",
              "  </tbody>\n",
              "</table>\n",
              "</div>\n",
              "      <button class=\"colab-df-convert\" onclick=\"convertToInteractive('df-3e71bda0-a46a-4993-bb84-fb0cc7a0dd8e')\"\n",
              "              title=\"Convert this dataframe to an interactive table.\"\n",
              "              style=\"display:none;\">\n",
              "        \n",
              "  <svg xmlns=\"http://www.w3.org/2000/svg\" height=\"24px\"viewBox=\"0 0 24 24\"\n",
              "       width=\"24px\">\n",
              "    <path d=\"M0 0h24v24H0V0z\" fill=\"none\"/>\n",
              "    <path d=\"M18.56 5.44l.94 2.06.94-2.06 2.06-.94-2.06-.94-.94-2.06-.94 2.06-2.06.94zm-11 1L8.5 8.5l.94-2.06 2.06-.94-2.06-.94L8.5 2.5l-.94 2.06-2.06.94zm10 10l.94 2.06.94-2.06 2.06-.94-2.06-.94-.94-2.06-.94 2.06-2.06.94z\"/><path d=\"M17.41 7.96l-1.37-1.37c-.4-.4-.92-.59-1.43-.59-.52 0-1.04.2-1.43.59L10.3 9.45l-7.72 7.72c-.78.78-.78 2.05 0 2.83L4 21.41c.39.39.9.59 1.41.59.51 0 1.02-.2 1.41-.59l7.78-7.78 2.81-2.81c.8-.78.8-2.07 0-2.86zM5.41 20L4 18.59l7.72-7.72 1.47 1.35L5.41 20z\"/>\n",
              "  </svg>\n",
              "      </button>\n",
              "      \n",
              "  <style>\n",
              "    .colab-df-container {\n",
              "      display:flex;\n",
              "      flex-wrap:wrap;\n",
              "      gap: 12px;\n",
              "    }\n",
              "\n",
              "    .colab-df-convert {\n",
              "      background-color: #E8F0FE;\n",
              "      border: none;\n",
              "      border-radius: 50%;\n",
              "      cursor: pointer;\n",
              "      display: none;\n",
              "      fill: #1967D2;\n",
              "      height: 32px;\n",
              "      padding: 0 0 0 0;\n",
              "      width: 32px;\n",
              "    }\n",
              "\n",
              "    .colab-df-convert:hover {\n",
              "      background-color: #E2EBFA;\n",
              "      box-shadow: 0px 1px 2px rgba(60, 64, 67, 0.3), 0px 1px 3px 1px rgba(60, 64, 67, 0.15);\n",
              "      fill: #174EA6;\n",
              "    }\n",
              "\n",
              "    [theme=dark] .colab-df-convert {\n",
              "      background-color: #3B4455;\n",
              "      fill: #D2E3FC;\n",
              "    }\n",
              "\n",
              "    [theme=dark] .colab-df-convert:hover {\n",
              "      background-color: #434B5C;\n",
              "      box-shadow: 0px 1px 3px 1px rgba(0, 0, 0, 0.15);\n",
              "      filter: drop-shadow(0px 1px 2px rgba(0, 0, 0, 0.3));\n",
              "      fill: #FFFFFF;\n",
              "    }\n",
              "  </style>\n",
              "\n",
              "      <script>\n",
              "        const buttonEl =\n",
              "          document.querySelector('#df-3e71bda0-a46a-4993-bb84-fb0cc7a0dd8e button.colab-df-convert');\n",
              "        buttonEl.style.display =\n",
              "          google.colab.kernel.accessAllowed ? 'block' : 'none';\n",
              "\n",
              "        async function convertToInteractive(key) {\n",
              "          const element = document.querySelector('#df-3e71bda0-a46a-4993-bb84-fb0cc7a0dd8e');\n",
              "          const dataTable =\n",
              "            await google.colab.kernel.invokeFunction('convertToInteractive',\n",
              "                                                     [key], {});\n",
              "          if (!dataTable) return;\n",
              "\n",
              "          const docLinkHtml = 'Like what you see? Visit the ' +\n",
              "            '<a target=\"_blank\" href=https://colab.research.google.com/notebooks/data_table.ipynb>data table notebook</a>'\n",
              "            + ' to learn more about interactive tables.';\n",
              "          element.innerHTML = '';\n",
              "          dataTable['output_type'] = 'display_data';\n",
              "          await google.colab.output.renderOutput(dataTable, element);\n",
              "          const docLink = document.createElement('div');\n",
              "          docLink.innerHTML = docLinkHtml;\n",
              "          element.appendChild(docLink);\n",
              "        }\n",
              "      </script>\n",
              "    </div>\n",
              "  </div>\n",
              "  "
            ],
            "text/plain": [
              "   id       date  store_nbr      family  sales  ...  Day  Week Month  Year Weekday\n",
              "0   0 2013-01-01          1  AUTOMOTIVE    0.0  ...    1     1     1  2013       1\n",
              "1   1 2013-01-01          1   BABY CARE    0.0  ...    1     1     1  2013       1\n",
              "2   2 2013-01-01          1      BEAUTY    0.0  ...    1     1     1  2013       1\n",
              "3   3 2013-01-01          1   BEVERAGES    0.0  ...    1     1     1  2013       1\n",
              "4   4 2013-01-01          1       BOOKS    0.0  ...    1     1     1  2013       1\n",
              "\n",
              "[5 rows x 18 columns]"
            ]
          },
          "metadata": {},
          "execution_count": 40
        }
      ]
    },
    {
      "cell_type": "code",
      "source": [
        "a=train['type'].unique()\n",
        "b=train['locale'].unique()\n",
        "c=train['family'].unique()\n",
        "d=train['description'].unique()\n",
        "e=train['transferred'].unique()\n",
        "f=train['locale_name'].unique()\n",
        "\n",
        "print('type:{0}'.format(a))\n",
        "print(\"\\n\")\n",
        "print('locale:{0}'.format(b))\n",
        "print(\"\\n\")\n",
        "print('family:{0}'.format(c))\n",
        "print(\"\\n\")\n",
        "print('description:{0}'.format(d))\n",
        "print(\"\\n\")\n",
        "print('transferred:{0}'.format(e))\n",
        "print(\"\\n\")\n",
        "print('type:{0}'.format(f))\n"
>>>>>>> 01e03ab (4file made)
      ],
      "metadata": {
        "colab": {
          "base_uri": "https://localhost:8080/"
        },
        "id": "HuhJNwdke119",
<<<<<<< HEAD
        "outputId": "923668f6-bf09-4cc3-d2c6-88c1ef876997"
=======
        "outputId": "5cefbdc8-8f83-425d-a0d7-6eddc5490ab6"
>>>>>>> 01e03ab (4file made)
      },
      "id": "HuhJNwdke119",
      "execution_count": null,
      "outputs": [
        {
<<<<<<< HEAD
          "output_type": "execute_result",
          "data": {
            "text/plain": [
              "array(['Holiday', 'Transfer', 'Additional', 'Bridge', nan, 'Work Day',\n",
              "       'Event', 'D', 'B', 'C', 'E', 'A'], dtype=object)"
            ]
          },
          "metadata": {},
          "execution_count": 23
=======
          "output_type": "stream",
          "name": "stdout",
          "text": [
            "type:['Holiday' nan 'Work Day' 'Additional' 'Event' 'Transfer' 'Bridge']\n",
            "\n",
            "\n",
            "locale:['National' nan 'Local' 'Regional']\n",
            "\n",
            "\n",
            "family:['AUTOMOTIVE' 'BABY CARE' 'BEAUTY' 'BEVERAGES' 'BOOKS' 'BREAD/BAKERY'\n",
            " 'CELEBRATION' 'CLEANING' 'DAIRY' 'DELI' 'EGGS' 'FROZEN FOODS' 'GROCERY I'\n",
            " 'GROCERY II' 'HARDWARE' 'HOME AND KITCHEN I' 'HOME AND KITCHEN II'\n",
            " 'HOME APPLIANCES' 'HOME CARE' 'LADIESWEAR' 'LAWN AND GARDEN' 'LINGERIE'\n",
            " 'LIQUOR,WINE,BEER' 'MAGAZINES' 'MEATS' 'PERSONAL CARE' 'PET SUPPLIES'\n",
            " 'PLAYERS AND ELECTRONICS' 'POULTRY' 'PREPARED FOODS' 'PRODUCE'\n",
            " 'SCHOOL AND OFFICE SUPPLIES' 'SEAFOOD']\n",
            "\n",
            "\n",
            "description:['Primer dia del ano' nan 'Recupero puente Navidad'\n",
            " 'Recupero puente primer dia del ano' 'Carnaval' 'Fundacion de Manta'\n",
            " 'Provincializacion de Cotopaxi' 'Fundacion de Cuenca'\n",
            " 'Cantonizacion de Libertad' 'Cantonizacion de Riobamba' 'Viernes Santo'\n",
            " 'Dia del Trabajo' 'Dia de la Madre-1' 'Cantonizacion del Puyo'\n",
            " 'Dia de la Madre' 'Batalla de Pichincha' 'Cantonizacion de Guaranda'\n",
            " 'Provincializacion de Imbabura' 'Fundacion de Machala'\n",
            " 'Cantonizacion de Latacunga' 'Cantonizacion de El Carmen'\n",
            " 'Fundacion de Santo Domingo' 'Cantonizacion de Cayambe'\n",
            " 'Fundacion de Guayaquil-1' 'Fundacion de Guayaquil'\n",
            " 'Fundacion de Esmeraldas' 'Primer Grito de Independencia'\n",
            " 'Fundacion de Riobamba' 'Fundacion de Ambato' 'Fundacion de Ibarra'\n",
            " 'Cantonizacion de Quevedo' 'Independencia de Guayaquil'\n",
            " 'Traslado Independencia de Guayaquil' 'Dia de Difuntos'\n",
            " 'Independencia de Cuenca' 'Provincializacion de Santo Domingo'\n",
            " 'Provincializacion Santa Elena' 'Independencia de Guaranda'\n",
            " 'Independencia de Latacunga' 'Independencia de Ambato'\n",
            " 'Fundacion de Quito-1' 'Fundacion de Quito' 'Fundacion de Loja'\n",
            " 'Navidad-4' 'Navidad-3' 'Cantonizacion de Salinas' 'Navidad-2'\n",
            " 'Navidad-1' 'Navidad+1' 'Primer dia del ano-1'\n",
            " 'Inauguracion Mundial de futbol Brasil'\n",
            " 'Mundial de futbol Brasil: Ecuador-Suiza'\n",
            " 'Mundial de futbol Brasil: Ecuador-Honduras'\n",
            " 'Mundial de futbol Brasil: Ecuador-Francia'\n",
            " 'Mundial de futbol Brasil: Octavos de Final'\n",
            " 'Mundial de futbol Brasil: Cuartos de Final'\n",
            " 'Mundial de futbol Brasil: Semifinales'\n",
            " 'Mundial de futbol Brasil: Tercer y cuarto lugar'\n",
            " 'Mundial de futbol Brasil: Final' 'Black Friday' 'Cyber Monday'\n",
            " 'Recupero Puente Navidad' 'Puente Navidad' 'Puente Primer dia del ano'\n",
            " 'Recupero Puente Primer dia del ano' 'Terremoto Manabi'\n",
            " 'Terremoto Manabi+1' 'Terremoto Manabi+2' 'Terremoto Manabi+3'\n",
            " 'Terremoto Manabi+4' 'Terremoto Manabi+5' 'Terremoto Manabi+6'\n",
            " 'Terremoto Manabi+7' 'Terremoto Manabi+8' 'Terremoto Manabi+9'\n",
            " 'Terremoto Manabi+10' 'Terremoto Manabi+11' 'Terremoto Manabi+12'\n",
            " 'Terremoto Manabi+13' 'Terremoto Manabi+14' 'Terremoto Manabi+15'\n",
            " 'Terremoto Manabi+16' 'Terremoto Manabi+17' 'Terremoto Manabi+18'\n",
            " 'Terremoto Manabi+19' 'Terremoto Manabi+20' 'Terremoto Manabi+21'\n",
            " 'Terremoto Manabi+22' 'Terremoto Manabi+23' 'Terremoto Manabi+24'\n",
            " 'Terremoto Manabi+25' 'Terremoto Manabi+26' 'Terremoto Manabi+27'\n",
            " 'Terremoto Manabi+28' 'Terremoto Manabi+29' 'Terremoto Manabi+30'\n",
            " 'Traslado Batalla de Pichincha' 'Traslado Fundacion de Guayaquil'\n",
            " 'Traslado Primer Grito de Independencia' 'Puente Dia de Difuntos'\n",
            " 'Recupero Puente Dia de Difuntos' 'Traslado Primer dia del ano']\n",
            "\n",
            "\n",
            "transferred:[False nan True]\n",
            "\n",
            "\n",
            "type:['Ecuador' nan 'Manta' 'Cotopaxi' 'Cuenca' 'Libertad' 'Riobamba' 'Puyo'\n",
            " 'Guaranda' 'Imbabura' 'Machala' 'Latacunga' 'El Carmen' 'Santo Domingo'\n",
            " 'Cayambe' 'Guayaquil' 'Esmeraldas' 'Ambato' 'Ibarra' 'Quevedo'\n",
            " 'Santo Domingo de los Tsachilas' 'Santa Elena' 'Quito' 'Loja' 'Salinas']\n"
          ]
>>>>>>> 01e03ab (4file made)
        }
      ]
    },
    {
      "cell_type": "code",
      "source": [
<<<<<<< HEAD
        "train['locale'].unique()"
      ],
      "metadata": {
        "colab": {
          "base_uri": "https://localhost:8080/"
        },
        "id": "f63hKvKDbVZV",
        "outputId": "077832bd-d0ba-4032-c0c2-72711397a9cd"
      },
      "id": "f63hKvKDbVZV",
      "execution_count": null,
      "outputs": [
        {
          "output_type": "execute_result",
          "data": {
            "text/plain": [
              "array(['Local', 'Regional', 'National', nan], dtype=object)"
            ]
          },
          "metadata": {},
          "execution_count": 63
        }
      ]
=======
        "#四分位数と外れ値のindex値を取得する関数を定義\n",
        "\n",
        "def box_Outlier(input_df):\n",
        "  #入力のコピーを作成\n",
        "  output_df=input_df.copy()\n",
        "  #詳細を表示するデータの列を指定\n",
        "  num_list=[\"onpromotion\",\"dcoilwtico\",\"store_nbr\"]\n",
        "  #指定した列分繰り返す\n",
        "  for i in range(len(num_list)):\n",
        "    #第1四分位数を取得\n",
        "    q1=output_df[num_list[i]].quantile(0.25)\n",
        "    #第2四分位数を取得\n",
        "    q3=output_df[num_list[i]].quantile(0.75)\n",
        "    #IQRを取得\n",
        "    iqr=q3-q1\n",
        "    #外れ値基準の下限を取得\n",
        "    bottom=q1-(1.5*iqr)\n",
        "    #外れ値基準の上限を取得\n",
        "    up=q3+(1.5*iqr)\n",
        "    #列名、Q1、Q3、IQR、外れ値を表示\n",
        "    print(str(num_list[i]))\n",
        "    print(\"Q1は：\"+str(q1))\n",
        "    print(\"Q3は：\"+str(q3))\n",
        "    print(\"IQRは：\"+str(iqr))\n",
        "    print(\"外れ値は↓\")\n",
        "    print(output_df[num_list[i]][(output_df[num_list[i]] < bottom) | (output_df[num_list[i]] > up) ])\n",
        "    print(\"*********************\")\n",
        "  return output_df"
      ],
      "metadata": {
        "id": "jDwnqyueoSsX"
      },
      "id": "jDwnqyueoSsX",
      "execution_count": null,
      "outputs": []
>>>>>>> 01e03ab (4file made)
    },
    {
      "cell_type": "code",
      "source": [
<<<<<<< HEAD
        "train['locale_name'].unique()"
      ],
      "metadata": {
        "colab": {
          "base_uri": "https://localhost:8080/"
        },
        "id": "D28h0llZea4w",
        "outputId": "32a320cc-bd38-425f-8dca-824f8aa99769"
      },
      "id": "D28h0llZea4w",
      "execution_count": null,
      "outputs": [
        {
          "output_type": "execute_result",
          "data": {
            "text/plain": [
              "array(['Manta', 'Cotopaxi', 'Cuenca', 'Libertad', 'Riobamba', 'Puyo',\n",
              "       'Guaranda', 'Latacunga', 'Machala', 'Imbabura', 'Santo Domingo',\n",
              "       'El Carmen', 'Cayambe', 'Esmeraldas', 'Ecuador', 'Ambato',\n",
              "       'Ibarra', 'Quevedo', 'Santo Domingo de los Tsachilas',\n",
              "       'Santa Elena', 'Quito', 'Loja', 'Salinas', nan, 'Guayaquil'],\n",
              "      dtype=object)"
            ]
          },
          "metadata": {},
          "execution_count": 75
=======
        "#箱ひげ図の詳細を取得\n",
        "box_Outlier=box_Outlier(train)\n",
        "box_Outlier"
      ],
      "metadata": {
        "colab": {
          "base_uri": "https://localhost:8080/",
          "height": 979
        },
        "id": "GnVwcPMWpBFt",
        "outputId": "0f20277f-e9a5-4a98-f68c-e81688fae675"
      },
      "id": "GnVwcPMWpBFt",
      "execution_count": null,
      "outputs": [
        {
          "output_type": "stream",
          "name": "stdout",
          "text": [
            "onpromotion\n",
            "Q1は：0.0\n",
            "Q3は：0.0\n",
            "IQRは：0.0\n",
            "外れ値は↓\n",
            "819694       3\n",
            "819699       5\n",
            "821481       3\n",
            "821497       1\n",
            "823256       1\n",
            "          ... \n",
            "3054337      2\n",
            "3054340     11\n",
            "3054344      1\n",
            "3054345    148\n",
            "3054346      8\n",
            "Name: onpromotion, Length: 625820, dtype: int64\n",
            "*********************\n",
            "dcoilwtico\n",
            "Q1は：46.41\n",
            "Q3は：95.81\n",
            "IQRは：49.400000000000006\n",
            "外れ値は↓\n",
            "Series([], Name: dcoilwtico, dtype: float64)\n",
            "*********************\n",
            "store_nbr\n",
            "Q1は：14.0\n",
            "Q3は：41.0\n",
            "IQRは：27.0\n",
            "外れ値は↓\n",
            "Series([], Name: store_nbr, dtype: int64)\n",
            "*********************\n"
          ]
        },
        {
          "output_type": "execute_result",
          "data": {
            "text/html": [
              "\n",
              "  <div id=\"df-49e53b9d-dcf5-4d4f-b26d-0b4f8124b816\">\n",
              "    <div class=\"colab-df-container\">\n",
              "      <div>\n",
              "<style scoped>\n",
              "    .dataframe tbody tr th:only-of-type {\n",
              "        vertical-align: middle;\n",
              "    }\n",
              "\n",
              "    .dataframe tbody tr th {\n",
              "        vertical-align: top;\n",
              "    }\n",
              "\n",
              "    .dataframe thead th {\n",
              "        text-align: right;\n",
              "    }\n",
              "</style>\n",
              "<table border=\"1\" class=\"dataframe\">\n",
              "  <thead>\n",
              "    <tr style=\"text-align: right;\">\n",
              "      <th></th>\n",
              "      <th>id</th>\n",
              "      <th>date</th>\n",
              "      <th>store_nbr</th>\n",
              "      <th>family</th>\n",
              "      <th>sales</th>\n",
              "      <th>onpromotion</th>\n",
              "      <th>dcoilwtico</th>\n",
              "      <th>type</th>\n",
              "      <th>locale</th>\n",
              "      <th>locale_name</th>\n",
              "      <th>description</th>\n",
              "      <th>transferred</th>\n",
              "      <th>transactions</th>\n",
              "      <th>Day</th>\n",
              "      <th>Week</th>\n",
              "      <th>Month</th>\n",
              "      <th>Year</th>\n",
              "      <th>Weekday</th>\n",
              "    </tr>\n",
              "  </thead>\n",
              "  <tbody>\n",
              "    <tr>\n",
              "      <th>0</th>\n",
              "      <td>0</td>\n",
              "      <td>2013-01-01</td>\n",
              "      <td>1</td>\n",
              "      <td>AUTOMOTIVE</td>\n",
              "      <td>0.000</td>\n",
              "      <td>0</td>\n",
              "      <td>NaN</td>\n",
              "      <td>Holiday</td>\n",
              "      <td>National</td>\n",
              "      <td>Ecuador</td>\n",
              "      <td>Primer dia del ano</td>\n",
              "      <td>False</td>\n",
              "      <td>NaN</td>\n",
              "      <td>1</td>\n",
              "      <td>1</td>\n",
              "      <td>1</td>\n",
              "      <td>2013</td>\n",
              "      <td>1</td>\n",
              "    </tr>\n",
              "    <tr>\n",
              "      <th>1</th>\n",
              "      <td>1</td>\n",
              "      <td>2013-01-01</td>\n",
              "      <td>1</td>\n",
              "      <td>BABY CARE</td>\n",
              "      <td>0.000</td>\n",
              "      <td>0</td>\n",
              "      <td>NaN</td>\n",
              "      <td>Holiday</td>\n",
              "      <td>National</td>\n",
              "      <td>Ecuador</td>\n",
              "      <td>Primer dia del ano</td>\n",
              "      <td>False</td>\n",
              "      <td>NaN</td>\n",
              "      <td>1</td>\n",
              "      <td>1</td>\n",
              "      <td>1</td>\n",
              "      <td>2013</td>\n",
              "      <td>1</td>\n",
              "    </tr>\n",
              "    <tr>\n",
              "      <th>2</th>\n",
              "      <td>2</td>\n",
              "      <td>2013-01-01</td>\n",
              "      <td>1</td>\n",
              "      <td>BEAUTY</td>\n",
              "      <td>0.000</td>\n",
              "      <td>0</td>\n",
              "      <td>NaN</td>\n",
              "      <td>Holiday</td>\n",
              "      <td>National</td>\n",
              "      <td>Ecuador</td>\n",
              "      <td>Primer dia del ano</td>\n",
              "      <td>False</td>\n",
              "      <td>NaN</td>\n",
              "      <td>1</td>\n",
              "      <td>1</td>\n",
              "      <td>1</td>\n",
              "      <td>2013</td>\n",
              "      <td>1</td>\n",
              "    </tr>\n",
              "    <tr>\n",
              "      <th>3</th>\n",
              "      <td>3</td>\n",
              "      <td>2013-01-01</td>\n",
              "      <td>1</td>\n",
              "      <td>BEVERAGES</td>\n",
              "      <td>0.000</td>\n",
              "      <td>0</td>\n",
              "      <td>NaN</td>\n",
              "      <td>Holiday</td>\n",
              "      <td>National</td>\n",
              "      <td>Ecuador</td>\n",
              "      <td>Primer dia del ano</td>\n",
              "      <td>False</td>\n",
              "      <td>NaN</td>\n",
              "      <td>1</td>\n",
              "      <td>1</td>\n",
              "      <td>1</td>\n",
              "      <td>2013</td>\n",
              "      <td>1</td>\n",
              "    </tr>\n",
              "    <tr>\n",
              "      <th>4</th>\n",
              "      <td>4</td>\n",
              "      <td>2013-01-01</td>\n",
              "      <td>1</td>\n",
              "      <td>BOOKS</td>\n",
              "      <td>0.000</td>\n",
              "      <td>0</td>\n",
              "      <td>NaN</td>\n",
              "      <td>Holiday</td>\n",
              "      <td>National</td>\n",
              "      <td>Ecuador</td>\n",
              "      <td>Primer dia del ano</td>\n",
              "      <td>False</td>\n",
              "      <td>NaN</td>\n",
              "      <td>1</td>\n",
              "      <td>1</td>\n",
              "      <td>1</td>\n",
              "      <td>2013</td>\n",
              "      <td>1</td>\n",
              "    </tr>\n",
              "    <tr>\n",
              "      <th>...</th>\n",
              "      <td>...</td>\n",
              "      <td>...</td>\n",
              "      <td>...</td>\n",
              "      <td>...</td>\n",
              "      <td>...</td>\n",
              "      <td>...</td>\n",
              "      <td>...</td>\n",
              "      <td>...</td>\n",
              "      <td>...</td>\n",
              "      <td>...</td>\n",
              "      <td>...</td>\n",
              "      <td>...</td>\n",
              "      <td>...</td>\n",
              "      <td>...</td>\n",
              "      <td>...</td>\n",
              "      <td>...</td>\n",
              "      <td>...</td>\n",
              "      <td>...</td>\n",
              "    </tr>\n",
              "    <tr>\n",
              "      <th>3054343</th>\n",
              "      <td>3000883</td>\n",
              "      <td>2017-08-15</td>\n",
              "      <td>9</td>\n",
              "      <td>POULTRY</td>\n",
              "      <td>438.133</td>\n",
              "      <td>0</td>\n",
              "      <td>47.57</td>\n",
              "      <td>Holiday</td>\n",
              "      <td>Local</td>\n",
              "      <td>Riobamba</td>\n",
              "      <td>Fundacion de Riobamba</td>\n",
              "      <td>False</td>\n",
              "      <td>2155.0</td>\n",
              "      <td>15</td>\n",
              "      <td>33</td>\n",
              "      <td>8</td>\n",
              "      <td>2017</td>\n",
              "      <td>1</td>\n",
              "    </tr>\n",
              "    <tr>\n",
              "      <th>3054344</th>\n",
              "      <td>3000884</td>\n",
              "      <td>2017-08-15</td>\n",
              "      <td>9</td>\n",
              "      <td>PREPARED FOODS</td>\n",
              "      <td>154.553</td>\n",
              "      <td>1</td>\n",
              "      <td>47.57</td>\n",
              "      <td>Holiday</td>\n",
              "      <td>Local</td>\n",
              "      <td>Riobamba</td>\n",
              "      <td>Fundacion de Riobamba</td>\n",
              "      <td>False</td>\n",
              "      <td>2155.0</td>\n",
              "      <td>15</td>\n",
              "      <td>33</td>\n",
              "      <td>8</td>\n",
              "      <td>2017</td>\n",
              "      <td>1</td>\n",
              "    </tr>\n",
              "    <tr>\n",
              "      <th>3054345</th>\n",
              "      <td>3000885</td>\n",
              "      <td>2017-08-15</td>\n",
              "      <td>9</td>\n",
              "      <td>PRODUCE</td>\n",
              "      <td>2419.729</td>\n",
              "      <td>148</td>\n",
              "      <td>47.57</td>\n",
              "      <td>Holiday</td>\n",
              "      <td>Local</td>\n",
              "      <td>Riobamba</td>\n",
              "      <td>Fundacion de Riobamba</td>\n",
              "      <td>False</td>\n",
              "      <td>2155.0</td>\n",
              "      <td>15</td>\n",
              "      <td>33</td>\n",
              "      <td>8</td>\n",
              "      <td>2017</td>\n",
              "      <td>1</td>\n",
              "    </tr>\n",
              "    <tr>\n",
              "      <th>3054346</th>\n",
              "      <td>3000886</td>\n",
              "      <td>2017-08-15</td>\n",
              "      <td>9</td>\n",
              "      <td>SCHOOL AND OFFICE SUPPLIES</td>\n",
              "      <td>121.000</td>\n",
              "      <td>8</td>\n",
              "      <td>47.57</td>\n",
              "      <td>Holiday</td>\n",
              "      <td>Local</td>\n",
              "      <td>Riobamba</td>\n",
              "      <td>Fundacion de Riobamba</td>\n",
              "      <td>False</td>\n",
              "      <td>2155.0</td>\n",
              "      <td>15</td>\n",
              "      <td>33</td>\n",
              "      <td>8</td>\n",
              "      <td>2017</td>\n",
              "      <td>1</td>\n",
              "    </tr>\n",
              "    <tr>\n",
              "      <th>3054347</th>\n",
              "      <td>3000887</td>\n",
              "      <td>2017-08-15</td>\n",
              "      <td>9</td>\n",
              "      <td>SEAFOOD</td>\n",
              "      <td>16.000</td>\n",
              "      <td>0</td>\n",
              "      <td>47.57</td>\n",
              "      <td>Holiday</td>\n",
              "      <td>Local</td>\n",
              "      <td>Riobamba</td>\n",
              "      <td>Fundacion de Riobamba</td>\n",
              "      <td>False</td>\n",
              "      <td>2155.0</td>\n",
              "      <td>15</td>\n",
              "      <td>33</td>\n",
              "      <td>8</td>\n",
              "      <td>2017</td>\n",
              "      <td>1</td>\n",
              "    </tr>\n",
              "  </tbody>\n",
              "</table>\n",
              "<p>3054348 rows × 18 columns</p>\n",
              "</div>\n",
              "      <button class=\"colab-df-convert\" onclick=\"convertToInteractive('df-49e53b9d-dcf5-4d4f-b26d-0b4f8124b816')\"\n",
              "              title=\"Convert this dataframe to an interactive table.\"\n",
              "              style=\"display:none;\">\n",
              "        \n",
              "  <svg xmlns=\"http://www.w3.org/2000/svg\" height=\"24px\"viewBox=\"0 0 24 24\"\n",
              "       width=\"24px\">\n",
              "    <path d=\"M0 0h24v24H0V0z\" fill=\"none\"/>\n",
              "    <path d=\"M18.56 5.44l.94 2.06.94-2.06 2.06-.94-2.06-.94-.94-2.06-.94 2.06-2.06.94zm-11 1L8.5 8.5l.94-2.06 2.06-.94-2.06-.94L8.5 2.5l-.94 2.06-2.06.94zm10 10l.94 2.06.94-2.06 2.06-.94-2.06-.94-.94-2.06-.94 2.06-2.06.94z\"/><path d=\"M17.41 7.96l-1.37-1.37c-.4-.4-.92-.59-1.43-.59-.52 0-1.04.2-1.43.59L10.3 9.45l-7.72 7.72c-.78.78-.78 2.05 0 2.83L4 21.41c.39.39.9.59 1.41.59.51 0 1.02-.2 1.41-.59l7.78-7.78 2.81-2.81c.8-.78.8-2.07 0-2.86zM5.41 20L4 18.59l7.72-7.72 1.47 1.35L5.41 20z\"/>\n",
              "  </svg>\n",
              "      </button>\n",
              "      \n",
              "  <style>\n",
              "    .colab-df-container {\n",
              "      display:flex;\n",
              "      flex-wrap:wrap;\n",
              "      gap: 12px;\n",
              "    }\n",
              "\n",
              "    .colab-df-convert {\n",
              "      background-color: #E8F0FE;\n",
              "      border: none;\n",
              "      border-radius: 50%;\n",
              "      cursor: pointer;\n",
              "      display: none;\n",
              "      fill: #1967D2;\n",
              "      height: 32px;\n",
              "      padding: 0 0 0 0;\n",
              "      width: 32px;\n",
              "    }\n",
              "\n",
              "    .colab-df-convert:hover {\n",
              "      background-color: #E2EBFA;\n",
              "      box-shadow: 0px 1px 2px rgba(60, 64, 67, 0.3), 0px 1px 3px 1px rgba(60, 64, 67, 0.15);\n",
              "      fill: #174EA6;\n",
              "    }\n",
              "\n",
              "    [theme=dark] .colab-df-convert {\n",
              "      background-color: #3B4455;\n",
              "      fill: #D2E3FC;\n",
              "    }\n",
              "\n",
              "    [theme=dark] .colab-df-convert:hover {\n",
              "      background-color: #434B5C;\n",
              "      box-shadow: 0px 1px 3px 1px rgba(0, 0, 0, 0.15);\n",
              "      filter: drop-shadow(0px 1px 2px rgba(0, 0, 0, 0.3));\n",
              "      fill: #FFFFFF;\n",
              "    }\n",
              "  </style>\n",
              "\n",
              "      <script>\n",
              "        const buttonEl =\n",
              "          document.querySelector('#df-49e53b9d-dcf5-4d4f-b26d-0b4f8124b816 button.colab-df-convert');\n",
              "        buttonEl.style.display =\n",
              "          google.colab.kernel.accessAllowed ? 'block' : 'none';\n",
              "\n",
              "        async function convertToInteractive(key) {\n",
              "          const element = document.querySelector('#df-49e53b9d-dcf5-4d4f-b26d-0b4f8124b816');\n",
              "          const dataTable =\n",
              "            await google.colab.kernel.invokeFunction('convertToInteractive',\n",
              "                                                     [key], {});\n",
              "          if (!dataTable) return;\n",
              "\n",
              "          const docLinkHtml = 'Like what you see? Visit the ' +\n",
              "            '<a target=\"_blank\" href=https://colab.research.google.com/notebooks/data_table.ipynb>data table notebook</a>'\n",
              "            + ' to learn more about interactive tables.';\n",
              "          element.innerHTML = '';\n",
              "          dataTable['output_type'] = 'display_data';\n",
              "          await google.colab.output.renderOutput(dataTable, element);\n",
              "          const docLink = document.createElement('div');\n",
              "          docLink.innerHTML = docLinkHtml;\n",
              "          element.appendChild(docLink);\n",
              "        }\n",
              "      </script>\n",
              "    </div>\n",
              "  </div>\n",
              "  "
            ],
            "text/plain": [
              "              id       date  store_nbr  ... Month  Year  Weekday\n",
              "0              0 2013-01-01          1  ...     1  2013        1\n",
              "1              1 2013-01-01          1  ...     1  2013        1\n",
              "2              2 2013-01-01          1  ...     1  2013        1\n",
              "3              3 2013-01-01          1  ...     1  2013        1\n",
              "4              4 2013-01-01          1  ...     1  2013        1\n",
              "...          ...        ...        ...  ...   ...   ...      ...\n",
              "3054343  3000883 2017-08-15          9  ...     8  2017        1\n",
              "3054344  3000884 2017-08-15          9  ...     8  2017        1\n",
              "3054345  3000885 2017-08-15          9  ...     8  2017        1\n",
              "3054346  3000886 2017-08-15          9  ...     8  2017        1\n",
              "3054347  3000887 2017-08-15          9  ...     8  2017        1\n",
              "\n",
              "[3054348 rows x 18 columns]"
            ]
          },
          "metadata": {},
          "execution_count": 53
>>>>>>> 01e03ab (4file made)
        }
      ]
    },
    {
      "cell_type": "code",
      "source": [
        "fig, ax = plt.subplots(figsize=(20, 10))\n",
        "xlabels = ['Manta', 'Cotopaxi', 'Cuenca', 'Libertad', 'Riobamba', 'Puyo',\n",
        "       'Guaranda', 'Latacunga', 'Machala', 'Imbabura', 'Santo Domingo',\n",
        "       'El Carmen', 'Cayambe', 'Esmeraldas', 'Ecuador', 'Ambato',\n",
        "       'Ibarra', 'Quevedo', 'Santo Domingo de los Tsachilas',\n",
        "       'Santa Elena', 'Quito', 'Loja', 'Salinas','Guayaquil']\n",
        "ax.set_xticklabels(xlabels)\n",
        "fig.autofmt_xdate(rotation=90)\n",
        "sns.barplot(x='locale_name', y='sales', data=train)"
      ],
      "metadata": {
        "colab": {
          "base_uri": "https://localhost:8080/",
          "height": 707
        },
        "id": "z_a1QlJDelhY",
<<<<<<< HEAD
        "outputId": "fd4db986-0b60-46cf-e346-acca01b7930d"
=======
        "outputId": "4205ae6b-7a0c-4e56-cce8-1fa693ce4070"
>>>>>>> 01e03ab (4file made)
      },
      "id": "z_a1QlJDelhY",
      "execution_count": null,
      "outputs": [
        {
          "output_type": "execute_result",
          "data": {
            "text/plain": [
<<<<<<< HEAD
              "<matplotlib.axes._subplots.AxesSubplot at 0x7fce38e19610>"
            ]
          },
          "metadata": {},
          "execution_count": 77
=======
              "<matplotlib.axes._subplots.AxesSubplot at 0x7fed1814e110>"
            ]
          },
          "metadata": {},
          "execution_count": 46
>>>>>>> 01e03ab (4file made)
        },
        {
          "output_type": "display_data",
          "data": {
<<<<<<< HEAD
            "image/png": "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\n",
=======
            "image/png": "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\n",
>>>>>>> 01e03ab (4file made)
            "text/plain": [
              "<Figure size 1440x720 with 1 Axes>"
            ]
          },
          "metadata": {
            "needs_background": "light"
          }
        }
      ]
    },
    {
      "cell_type": "code",
      "source": [
<<<<<<< HEAD
        "train['description'].unique()\t"
      ],
      "metadata": {
        "colab": {
          "base_uri": "https://localhost:8080/"
        },
        "id": "bAiF5La3e5rs",
        "outputId": "77c2b71d-ad51-41b0-8361-5bfd92eb0fb3"
      },
      "id": "bAiF5La3e5rs",
      "execution_count": null,
      "outputs": [
        {
          "output_type": "execute_result",
          "data": {
            "text/plain": [
              "array(['Fundacion de Manta', 'Provincializacion de Cotopaxi',\n",
              "       'Fundacion de Cuenca', 'Cantonizacion de Libertad',\n",
              "       'Cantonizacion de Riobamba', 'Cantonizacion del Puyo',\n",
              "       'Cantonizacion de Guaranda', 'Cantonizacion de Latacunga',\n",
              "       'Fundacion de Machala', 'Provincializacion de Imbabura',\n",
              "       'Fundacion de Santo Domingo', 'Cantonizacion de El Carmen',\n",
              "       'Cantonizacion de Cayambe', 'Fundacion de Esmeraldas',\n",
              "       'Primer Grito de Independencia', 'Fundacion de Riobamba',\n",
              "       'Fundacion de Ambato', 'Fundacion de Ibarra',\n",
              "       'Cantonizacion de Quevedo', 'Independencia de Guayaquil',\n",
              "       'Traslado Independencia de Guayaquil', 'Dia de Difuntos',\n",
              "       'Independencia de Cuenca', 'Provincializacion de Santo Domingo',\n",
              "       'Provincializacion Santa Elena', 'Independencia de Guaranda',\n",
              "       'Independencia de Latacunga', 'Independencia de Ambato',\n",
              "       'Fundacion de Quito-1', 'Fundacion de Quito', 'Fundacion de Loja',\n",
              "       'Navidad-4', 'Cantonizacion de Salinas', 'Navidad-3', 'Navidad-2',\n",
              "       'Puente Navidad', 'Navidad-1', 'Navidad', 'Navidad+1',\n",
              "       'Puente Primer dia del ano', 'Primer dia del ano-1',\n",
              "       'Primer dia del ano', nan, 'Recupero puente Navidad',\n",
              "       'Recupero puente primer dia del ano', 'Carnaval', 'Viernes Santo',\n",
              "       'Dia del Trabajo', 'Dia de la Madre-1', 'Dia de la Madre',\n",
              "       'Batalla de Pichincha', 'Fundacion de Guayaquil-1',\n",
              "       'Fundacion de Guayaquil', 'Inauguracion Mundial de futbol Brasil',\n",
              "       'Mundial de futbol Brasil: Ecuador-Suiza',\n",
              "       'Mundial de futbol Brasil: Ecuador-Honduras',\n",
              "       'Mundial de futbol Brasil: Ecuador-Francia',\n",
              "       'Mundial de futbol Brasil: Octavos de Final',\n",
              "       'Mundial de futbol Brasil: Cuartos de Final',\n",
              "       'Mundial de futbol Brasil: Semifinales',\n",
              "       'Mundial de futbol Brasil: Tercer y cuarto lugar',\n",
              "       'Mundial de futbol Brasil: Final', 'Black Friday', 'Cyber Monday',\n",
              "       'Recupero Puente Navidad', 'Recupero Puente Primer dia del ano',\n",
              "       'Terremoto Manabi', 'Terremoto Manabi+1', 'Terremoto Manabi+2',\n",
              "       'Terremoto Manabi+3', 'Terremoto Manabi+4', 'Terremoto Manabi+5',\n",
              "       'Terremoto Manabi+6', 'Terremoto Manabi+7', 'Terremoto Manabi+8',\n",
              "       'Terremoto Manabi+9', 'Terremoto Manabi+10', 'Terremoto Manabi+11',\n",
              "       'Terremoto Manabi+12', 'Terremoto Manabi+13',\n",
              "       'Terremoto Manabi+14', 'Terremoto Manabi+15',\n",
              "       'Terremoto Manabi+16', 'Terremoto Manabi+17',\n",
              "       'Terremoto Manabi+18', 'Terremoto Manabi+19',\n",
              "       'Terremoto Manabi+20', 'Terremoto Manabi+21',\n",
              "       'Terremoto Manabi+22', 'Terremoto Manabi+23',\n",
              "       'Terremoto Manabi+24', 'Terremoto Manabi+25',\n",
              "       'Terremoto Manabi+26', 'Terremoto Manabi+27',\n",
              "       'Terremoto Manabi+28', 'Terremoto Manabi+29',\n",
              "       'Terremoto Manabi+30', 'Traslado Batalla de Pichincha',\n",
              "       'Traslado Fundacion de Guayaquil',\n",
              "       'Traslado Primer Grito de Independencia', 'Puente Dia de Difuntos',\n",
              "       'Recupero Puente Dia de Difuntos', 'Traslado Primer dia del ano',\n",
              "       'Traslado Fundacion de Quito'], dtype=object)"
            ]
          },
          "metadata": {},
          "execution_count": 78
        }
      ]
    },
    {
      "cell_type": "code",
      "source": [
=======
>>>>>>> 01e03ab (4file made)
        "fig, ax = plt.subplots(figsize=(20, 10))\n",
        "xlabels = ['Fundacion de Manta', 'Provincializacion de Cotopaxi',\n",
        "       'Fundacion de Cuenca', 'Cantonizacion de Libertad',\n",
        "       'Cantonizacion de Riobamba', 'Cantonizacion del Puyo',\n",
        "       'Cantonizacion de Guaranda', 'Cantonizacion de Latacunga',\n",
        "       'Fundacion de Machala', 'Provincializacion de Imbabura',\n",
        "       'Fundacion de Santo Domingo', 'Cantonizacion de El Carmen',\n",
        "       'Cantonizacion de Cayambe', 'Fundacion de Esmeraldas',\n",
        "       'Primer Grito de Independencia', 'Fundacion de Riobamba',\n",
        "       'Fundacion de Ambato', 'Fundacion de Ibarra',\n",
        "       'Cantonizacion de Quevedo', 'Independencia de Guayaquil',\n",
        "       'Traslado Independencia de Guayaquil', 'Dia de Difuntos',\n",
        "       'Independencia de Cuenca', 'Provincializacion de Santo Domingo',\n",
        "       'Provincializacion Santa Elena', 'Independencia de Guaranda',\n",
        "       'Independencia de Latacunga', 'Independencia de Ambato',\n",
        "       'Fundacion de Quito-1', 'Fundacion de Quito', 'Fundacion de Loja',\n",
        "       'Navidad-4', 'Cantonizacion de Salinas', 'Navidad-3', 'Navidad-2',\n",
        "       'Puente Navidad', 'Navidad-1', 'Navidad', 'Navidad+1',\n",
        "       'Puente Primer dia del ano', 'Primer dia del ano-1',\n",
        "       'Primer dia del ano','Recupero puente Navidad',\n",
        "       'Recupero puente primer dia del ano', 'Carnaval', 'Viernes Santo',\n",
        "       'Dia del Trabajo', 'Dia de la Madre-1', 'Dia de la Madre',\n",
        "       'Batalla de Pichincha', 'Fundacion de Guayaquil-1',\n",
        "       'Fundacion de Guayaquil', 'Inauguracion Mundial de futbol Brasil',\n",
        "       'Mundial de futbol Brasil: Ecuador-Suiza',\n",
        "       'Mundial de futbol Brasil: Ecuador-Honduras',\n",
        "       'Mundial de futbol Brasil: Ecuador-Francia',\n",
        "       'Mundial de futbol Brasil: Octavos de Final',\n",
        "       'Mundial de futbol Brasil: Cuartos de Final',\n",
        "       'Mundial de futbol Brasil: Semifinales',\n",
        "       'Mundial de futbol Brasil: Tercer y cuarto lugar',\n",
        "       'Mundial de futbol Brasil: Final', 'Black Friday', 'Cyber Monday',\n",
        "       'Recupero Puente Navidad', 'Recupero Puente Primer dia del ano',\n",
        "       'Terremoto Manabi', 'Terremoto Manabi+1', 'Terremoto Manabi+2',\n",
        "       'Terremoto Manabi+3', 'Terremoto Manabi+4', 'Terremoto Manabi+5',\n",
        "       'Terremoto Manabi+6', 'Terremoto Manabi+7', 'Terremoto Manabi+8',\n",
        "       'Terremoto Manabi+9', 'Terremoto Manabi+10', 'Terremoto Manabi+11',\n",
        "       'Terremoto Manabi+12', 'Terremoto Manabi+13',\n",
        "       'Terremoto Manabi+14', 'Terremoto Manabi+15',\n",
        "       'Terremoto Manabi+16', 'Terremoto Manabi+17',\n",
        "       'Terremoto Manabi+18', 'Terremoto Manabi+19',\n",
        "       'Terremoto Manabi+20', 'Terremoto Manabi+21',\n",
        "       'Terremoto Manabi+22', 'Terremoto Manabi+23',\n",
        "       'Terremoto Manabi+24', 'Terremoto Manabi+25',\n",
        "       'Terremoto Manabi+26', 'Terremoto Manabi+27',\n",
        "       'Terremoto Manabi+28', 'Terremoto Manabi+29',\n",
        "       'Terremoto Manabi+30', 'Traslado Batalla de Pichincha',\n",
        "       'Traslado Fundacion de Guayaquil',\n",
        "       'Traslado Primer Grito de Independencia', 'Puente Dia de Difuntos',\n",
        "       'Recupero Puente Dia de Difuntos', 'Traslado Primer dia del ano',\n",
        "       'Traslado Fundacion de Quito']\n",
        "ax.set_xticklabels(xlabels)\n",
        "fig.autofmt_xdate(rotation=90)\n",
        "sns.barplot(x='description', y='sales', data=train)"
      ],
      "metadata": {
<<<<<<< HEAD
        "colab": {
          "base_uri": "https://localhost:8080/",
          "height": 773
        },
        "id": "q4GnS5YLfEEq",
        "outputId": "d1f65a8f-c8ee-43aa-ab39-9762497d2fd0"
=======
        "id": "q4GnS5YLfEEq",
        "colab": {
          "base_uri": "https://localhost:8080/",
          "height": 244
        },
        "outputId": "69539323-b0fa-4084-bdd8-1d262191d5a3"
>>>>>>> 01e03ab (4file made)
      },
      "id": "q4GnS5YLfEEq",
      "execution_count": null,
      "outputs": [
        {
<<<<<<< HEAD
          "output_type": "execute_result",
          "data": {
            "text/plain": [
              "<matplotlib.axes._subplots.AxesSubplot at 0x7fce38e7eb10>"
            ]
          },
          "metadata": {},
          "execution_count": 79
        },
        {
          "output_type": "display_data",
          "data": {
            "image/png": "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\n",
            "text/plain": [
              "<Figure size 1440x720 with 1 Axes>"
            ]
          },
          "metadata": {
            "needs_background": "light"
          }
        }
      ]
    },
    {
      "cell_type": "code",
      "source": [
        "#転送されたカラムには特に注意してください。正式に譲渡された休日はその暦日になりますが、政府によって別の日付に移動されました。転送された日は、休日というよりも通常の日に似ています。実際に祝われた日を見つけるには、タイプが転送である対応する行を探します。\n",
        "train['transferred'].unique()"
      ],
      "metadata": {
        "colab": {
          "base_uri": "https://localhost:8080/"
        },
        "id": "QSBY2v-IfhEc",
        "outputId": "e4fccb0a-18e6-40ac-886a-84ecb911bb51"
      },
      "id": "QSBY2v-IfhEc",
      "execution_count": null,
      "outputs": [
        {
          "output_type": "execute_result",
          "data": {
            "text/plain": [
              "array([False, True, nan], dtype=object)"
            ]
          },
          "metadata": {},
          "execution_count": 86
=======
          "output_type": "error",
          "ename": "NameError",
          "evalue": "ignored",
          "traceback": [
            "\u001b[0;31m---------------------------------------------------------------------------\u001b[0m",
            "\u001b[0;31mNameError\u001b[0m                                 Traceback (most recent call last)",
            "\u001b[0;32m<ipython-input-84-4cd3641aacf8>\u001b[0m in \u001b[0;36m<module>\u001b[0;34m()\u001b[0m\n\u001b[0;32m----> 1\u001b[0;31m \u001b[0mfig\u001b[0m\u001b[0;34m,\u001b[0m \u001b[0max\u001b[0m \u001b[0;34m=\u001b[0m \u001b[0mplt\u001b[0m\u001b[0;34m.\u001b[0m\u001b[0msubplots\u001b[0m\u001b[0;34m(\u001b[0m\u001b[0mfigsize\u001b[0m\u001b[0;34m=\u001b[0m\u001b[0;34m(\u001b[0m\u001b[0;36m20\u001b[0m\u001b[0;34m,\u001b[0m \u001b[0;36m10\u001b[0m\u001b[0;34m)\u001b[0m\u001b[0;34m)\u001b[0m\u001b[0;34m\u001b[0m\u001b[0;34m\u001b[0m\u001b[0m\n\u001b[0m\u001b[1;32m      2\u001b[0m xlabels = ['Fundacion de Manta', 'Provincializacion de Cotopaxi',\n\u001b[1;32m      3\u001b[0m        \u001b[0;34m'Fundacion de Cuenca'\u001b[0m\u001b[0;34m,\u001b[0m \u001b[0;34m'Cantonizacion de Libertad'\u001b[0m\u001b[0;34m,\u001b[0m\u001b[0;34m\u001b[0m\u001b[0;34m\u001b[0m\u001b[0m\n\u001b[1;32m      4\u001b[0m        \u001b[0;34m'Cantonizacion de Riobamba'\u001b[0m\u001b[0;34m,\u001b[0m \u001b[0;34m'Cantonizacion del Puyo'\u001b[0m\u001b[0;34m,\u001b[0m\u001b[0;34m\u001b[0m\u001b[0;34m\u001b[0m\u001b[0m\n\u001b[1;32m      5\u001b[0m        \u001b[0;34m'Cantonizacion de Guaranda'\u001b[0m\u001b[0;34m,\u001b[0m \u001b[0;34m'Cantonizacion de Latacunga'\u001b[0m\u001b[0;34m,\u001b[0m\u001b[0;34m\u001b[0m\u001b[0;34m\u001b[0m\u001b[0m\n",
            "\u001b[0;31mNameError\u001b[0m: name 'plt' is not defined"
          ]
>>>>>>> 01e03ab (4file made)
        }
      ]
    },
    {
      "cell_type": "code",
      "source": [
        "#oil price\n",
        "train['dcoilwtico'].unique()\n"
      ],
      "metadata": {
<<<<<<< HEAD
        "colab": {
          "base_uri": "https://localhost:8080/"
        },
        "id": "XJNsB7P9rM27",
        "outputId": "31fc8675-219b-42b7-9068-ef32edae36a4"
=======
        "id": "XJNsB7P9rM27",
        "colab": {
          "base_uri": "https://localhost:8080/"
        },
        "outputId": "816a3bd9-4a33-4b3a-b804-f6e24a33e828"
>>>>>>> 01e03ab (4file made)
      },
      "id": "XJNsB7P9rM27",
      "execution_count": null,
      "outputs": [
        {
          "output_type": "execute_result",
          "data": {
            "text/plain": [
              "array([   nan,  93.14,  92.97,  93.12,  93.2 ,  93.21,  93.08,  93.81,\n",
              "        93.6 ,  94.27,  93.26,  94.28,  95.49,  95.61,  96.09,  95.06,\n",
              "        95.35,  95.15,  95.95,  97.62,  97.98,  97.65,  97.46,  96.21,\n",
              "        96.68,  96.44,  95.84,  95.71,  97.01,  97.48,  97.03,  97.3 ,\n",
              "        96.69,  94.92,  92.79,  92.74,  92.63,  92.84,  92.03,  90.71,\n",
              "        90.13,  90.88,  90.47,  91.53,  92.01,  92.07,  92.44,  92.47,\n",
              "        93.03,  93.49,  93.71,  92.46,  93.41,  94.55,  95.99,  96.53,\n",
              "        97.24,  97.1 ,  97.23,  95.02,  92.76,  93.36,  94.18,  94.59,\n",
              "        93.44,  91.23,  88.75,  88.73,  86.65,  87.83,  88.04,  88.81,\n",
              "        89.21,  91.07,  93.27,  94.09,  93.22,  90.74,  93.7 ,  95.25,\n",
              "        95.8 ,  95.28,  96.24,  95.81,  94.76,  93.96,  93.95,  94.85,\n",
              "        95.72,  96.29,  95.55,  93.98,  94.12,  93.84,  94.65,  93.13,\n",
              "        93.57,  91.93,  93.66,  94.71,  96.11,  95.82,  95.5 ,  95.98,\n",
              "        96.66,  97.83,  97.86,  98.46,  98.24,  94.89,  95.07,  95.47,\n",
              "        97.  ,  96.36,  97.94,  99.65, 101.92, 103.09, 103.03, 103.46,\n",
              "       106.41, 104.77, 105.85, 106.2 , 105.88, 106.39, 107.94, 108.  ,\n",
              "       106.61, 107.13, 105.41, 105.47, 104.76, 104.61, 103.14, 105.1 ,\n",
              "       107.93, 106.94, 105.32, 104.41, 103.45, 106.04, 106.19, 106.78,\n",
              "       106.89, 107.43, 107.58, 107.14, 104.9 , 103.93, 104.93, 106.48,\n",
              "       109.11, 110.17, 108.51, 107.98, 108.67, 107.29, 108.5 , 110.62,\n",
              "       109.62, 107.48, 107.65, 108.72, 108.31, 106.54, 105.36, 108.23,\n",
              "       106.26, 104.7 , 103.62, 103.22, 102.68, 103.1 , 102.86, 102.36,\n",
              "       102.09, 104.15, 103.29, 103.83, 103.07, 103.54, 101.63, 103.08,\n",
              "       102.17, 102.46, 101.15, 102.34, 100.72, 100.87,  99.28,  97.63,\n",
              "        96.9 ,  96.65,  97.4 ,  98.74,  98.29,  96.81,  94.56,  94.58,\n",
              "        93.4 ,  94.74,  94.25,  95.13,  93.91,  93.76,  93.8 ,  93.35,\n",
              "        93.34,  94.53,  93.86,  92.05,  92.55,  93.61,  95.83,  96.97,\n",
              "        97.14,  98.32,  97.25,  97.21,  96.27,  97.18,  96.99,  97.59,\n",
              "        98.4 ,  99.11,  98.62,  98.87,  99.18,  99.94,  98.9 ,  98.17,\n",
              "        95.14,  93.31,  91.9 ,  91.36,  92.39,  91.45,  92.15,  93.78,\n",
              "        93.54,  94.51,  96.35,  97.49,  97.34,  98.25,  97.55,  97.84,\n",
              "        99.98, 100.12,  99.96, 100.38, 100.27, 100.31, 102.54, 103.2 ,\n",
              "       102.53, 103.17, 102.2 , 102.93, 102.88, 105.34, 103.64, 101.75,\n",
              "       101.82, 102.82, 101.39, 100.29,  98.57,  99.23,  98.43, 100.08,\n",
              "       100.71,  99.68,  99.97, 100.05,  99.66, 100.61, 101.25, 101.73,\n",
              "       101.57,  99.69,  99.6 , 101.16, 100.43, 102.57, 103.55, 103.37,\n",
              "       103.68, 104.05, 103.7 , 103.71, 104.33, 104.35, 101.69, 101.47,\n",
              "       100.85, 101.13, 101.56, 100.07, 100.09,  99.74,  99.81, 101.06,\n",
              "       100.52, 100.32, 100.89, 102.01, 102.63, 101.74, 102.31, 102.95,\n",
              "       102.8 , 104.31, 104.03, 105.01, 104.78, 104.26, 103.4 , 103.34,\n",
              "       103.27, 103.32, 105.09, 105.02, 105.04, 107.2 , 107.49, 107.52,\n",
              "       106.95, 106.64, 107.08, 107.95, 106.83, 107.04, 106.49, 106.46,\n",
              "       106.07, 106.06, 105.18, 104.19, 104.06, 103.61, 101.48, 100.56,\n",
              "       101.88, 103.84, 104.59, 103.81, 102.76, 105.23, 105.68, 104.91,\n",
              "       104.29,  98.23,  98.26,  96.93,  97.61,  98.09,  97.36,  97.57,\n",
              "        95.54,  94.35,  96.4 ,  93.97,  95.39,  95.78,  92.92,  93.32,\n",
              "        92.64,  92.73,  91.71,  92.89,  92.18,  92.86,  94.91,  94.33,\n",
              "        93.07,  92.43,  91.46,  91.55,  93.59,  91.17,  91.02,  89.76,\n",
              "        90.33,  88.89,  87.29,  85.76,  85.87,  85.73,  81.72,  81.82,\n",
              "        82.33,  82.8 ,  82.76,  83.25,  80.52,  82.81,  81.27,  81.26,\n",
              "        81.36,  82.25,  81.06,  80.53,  78.77,  77.15,  78.71,  77.87,\n",
              "        77.43,  77.85,  77.16,  74.13,  75.91,  75.64,  74.55,  75.63,\n",
              "        76.52,  75.74,  74.04,  73.7 ,  65.94,  68.98,  66.99,  67.3 ,\n",
              "        66.73,  65.89,  63.13,  63.74,  60.99,  60.01,  57.81,  55.96,\n",
              "        55.97,  56.43,  54.18,  56.91,  55.25,  56.78,  55.7 ,  54.59,\n",
              "        53.46,  54.14,  53.45,  52.72,  50.05,  47.98,  48.69,  48.8 ,\n",
              "        48.35,  46.06,  45.92,  48.49,  46.37,  46.79,  47.85,  45.93,\n",
              "        45.26,  44.8 ,  45.84,  44.08,  44.12,  47.79,  49.25,  53.04,\n",
              "        48.45,  50.48,  51.66,  52.99,  50.06,  51.17,  52.66,  53.56,\n",
              "        52.13,  51.12,  49.95,  49.56,  48.48,  50.25,  47.65,  49.84,\n",
              "        49.59,  50.43,  51.53,  50.76,  49.61,  48.42,  48.06,  47.12,\n",
              "        44.88,  43.93,  43.39,  44.63,  44.02,  46.  ,  47.4 ,  47.03,\n",
              "        48.75,  51.41,  48.83,  48.66,  47.72,  50.12,  49.13,  52.08,\n",
              "        53.95,  50.44,  50.79,  51.63,  51.95,  53.3 ,  56.25,  56.69,\n",
              "        55.71,  56.37,  55.58,  56.17,  56.59,  55.98,  55.56,  57.05,\n",
              "        58.55,  59.62,  59.1 ,  58.92,  60.38,  60.93,  58.99,  59.41,\n",
              "        59.23,  60.72,  60.5 ,  59.89,  59.73,  59.44,  57.3 ,  58.96,\n",
              "        60.18,  58.88,  57.29,  57.51,  57.69,  60.25,  60.24,  61.3 ,\n",
              "        59.67,  58.  ,  59.11,  58.15,  60.15,  61.36,  60.74,  59.96,\n",
              "        59.53,  60.41,  61.05,  59.59,  58.34,  59.48,  56.94,  56.93,\n",
              "        52.48,  52.33,  51.61,  52.76,  52.74,  52.19,  53.05,  51.4 ,\n",
              "        50.9 ,  50.88,  50.11,  50.59,  49.27,  48.11,  47.17,  47.97,\n",
              "        48.77,  48.53,  47.11,  45.25,  45.75,  45.13,  44.69,  43.87,\n",
              "        44.94,  43.11,  43.22,  42.27,  42.45,  41.93,  42.58,  40.75,\n",
              "        41.  ,  40.45,  38.22,  39.15,  38.5 ,  42.47,  45.29,  49.2 ,\n",
              "        45.38,  46.3 ,  46.75,  46.02,  44.13,  45.85,  44.75,  44.07,\n",
              "        44.58,  46.93,  44.71,  46.67,  46.17,  44.53,  45.55,  44.4 ,\n",
              "        45.24,  45.06,  45.54,  46.28,  47.86,  49.46,  49.67,  47.09,\n",
              "        46.7 ,  46.63,  46.38,  47.3 ,  45.91,  45.22,  44.9 ,  43.91,\n",
              "        43.19,  43.21,  46.6 ,  46.12,  47.88,  46.32,  45.27,  44.32,\n",
              "        44.23,  42.95,  41.74,  40.69,  41.68,  40.73,  40.55,  39.39,\n",
              "        39.27,  40.89,  41.22,  40.57,  40.43,  40.58,  39.93,  41.08,\n",
              "        40.  ,  37.64,  37.46,  37.16,  36.76,  35.65,  36.31,  37.32,\n",
              "        35.55,  34.98,  34.72,  34.55,  36.12,  37.62,  36.36,  37.88,\n",
              "        36.59,  37.13,  36.81,  35.97,  33.97,  33.29,  33.2 ,  31.42,\n",
              "        30.42,  31.22,  29.45,  28.47,  26.68,  29.55,  32.07,  30.31,\n",
              "        29.54,  32.32,  33.21,  33.66,  31.62,  29.9 ,  32.29,  31.63,\n",
              "        30.86,  29.71,  27.96,  27.54,  26.19,  29.32,  29.05,  30.68,\n",
              "        30.77,  29.59,  31.37,  31.84,  30.35,  31.4 ,  31.65,  32.74,\n",
              "        34.39,  34.57,  34.56,  35.91,  37.9 ,  36.67,  37.77,  38.51,\n",
              "        37.2 ,  36.32,  38.43,  40.17,  39.47,  39.91,  41.45,  38.28,\n",
              "        38.14,  37.99,  36.91,  36.94,  35.36,  34.3 ,  34.52,  37.74,\n",
              "        37.3 ,  39.74,  40.46,  42.12,  41.7 ,  40.4 ,  40.88,  42.72,\n",
              "        43.18,  42.76,  41.67,  42.52,  46.03,  45.98,  43.65,  43.77,\n",
              "        44.33,  43.45,  44.68,  46.21,  46.64,  46.22,  48.29,  48.12,\n",
              "        48.16,  47.67,  48.04,  49.1 ,  49.  ,  49.36,  49.07,  49.14,\n",
              "        49.71,  50.37,  51.23,  50.52,  49.09,  48.89,  47.92,  46.14,\n",
              "        48.  ,  49.4 ,  48.95,  49.16,  49.34,  45.8 ,  47.93,  49.85,\n",
              "        48.27,  49.02,  46.73,  47.37,  45.37,  44.73,  46.82,  44.87,\n",
              "        45.64,  45.23,  44.64,  44.96,  43.96,  43.41,  42.4 ,  42.16,\n",
              "        41.9 ,  41.13,  41.54,  40.05,  39.5 ,  40.8 ,  41.92,  41.83,\n",
              "        43.06,  42.78,  41.75,  43.51,  44.47,  45.72,  46.57,  46.81,\n",
              "        48.2 ,  46.8 ,  47.54,  46.29,  46.97,  47.64,  43.17,  44.39,\n",
              "        44.85,  45.47,  47.63,  45.88,  44.91,  43.62,  43.85,  43.04,\n",
              "        43.34,  45.33,  46.1 ,  44.36,  45.6 ,  44.65,  47.07,  48.67,\n",
              "        49.75,  49.76,  50.72,  50.14,  50.47,  50.35,  49.97,  50.3 ,\n",
              "        51.59,  50.31,  50.61,  50.18,  49.45,  48.72,  46.83,  46.66,\n",
              "        45.32,  44.66,  45.2 ,  44.62,  43.29,  45.86,  45.56,  45.69,\n",
              "        47.48,  48.07,  46.72,  45.66,  49.41,  51.08,  51.7 ,  51.72,\n",
              "        50.95,  50.84,  51.51,  51.01,  51.93,  52.22,  51.44,  51.98,\n",
              "        52.01,  52.82,  54.01,  53.8 ,  53.75,  52.36,  53.26,  53.77,\n",
              "        53.98,  50.82,  53.01,  52.45,  51.39,  52.77,  52.38,  52.14,\n",
              "        53.24,  53.18,  52.63,  52.75,  53.9 ,  53.55,  53.81,  52.37,\n",
              "        53.84,  52.96,  53.21,  53.11,  53.41,  54.02,  53.61,  54.48,\n",
              "        53.99,  54.04,  54.  ,  53.82,  53.33,  53.19,  52.68,  49.83,\n",
              "        48.05,  47.95,  47.24,  48.34,  48.3 ,  47.02,  47.29,  47.  ,\n",
              "        48.36,  49.47,  50.54,  50.99,  51.14,  51.69,  52.25,  53.06,\n",
              "        53.38,  53.12,  52.62,  52.46,  50.49,  50.26,  49.64,  48.9 ,\n",
              "        49.22,  48.96,  49.31,  46.23,  46.46,  47.28,  47.81,  47.83,\n",
              "        48.86,  48.64,  49.04,  50.32,  50.81,  48.57,  49.58,  49.63,\n",
              "        48.32,  47.68,  48.13,  45.68,  45.82,  46.41,  44.79,  44.24,\n",
              "        42.48,  42.53,  42.86,  43.24,  44.25,  44.74,  45.11,  45.52,\n",
              "        45.48,  46.53,  46.4 ,  47.1 ,  45.78,  47.77,  48.58,  49.05,\n",
              "        49.72,  50.21,  49.19,  49.6 ,  49.03,  49.57,  49.37,  48.54,\n",
              "        48.81,  47.59,  47.57,  48.59,  47.39,  45.96,  47.26])"
            ]
          },
          "metadata": {},
<<<<<<< HEAD
          "execution_count": 82
=======
          "execution_count": 86
>>>>>>> 01e03ab (4file made)
        }
      ]
    },
    {
      "cell_type": "code",
      "source": [
        "#商品が販売されている店舗\n",
        "train['store_nbr'].unique()"
      ],
      "metadata": {
<<<<<<< HEAD
        "colab": {
          "base_uri": "https://localhost:8080/"
        },
        "id": "ldQHC5ckt5p6",
        "outputId": "dcd5b7e0-2507-4483-8cdc-e8920d5de7d8"
      },
      "id": "ldQHC5ckt5p6",
      "execution_count": null,
      "outputs": [
        {
          "output_type": "execute_result",
          "data": {
            "text/plain": [
              "array([nan, 29., 16., 12., 11., 21., 22., 28., 46., 40., 35., 34., 20.,\n",
              "       37., 14., 26.,  2., 42., 41., 25., 45., 39., 15., 24., 31., 32.,\n",
              "       10., 27., 23., 38.,  4., 17., 52., 18., 53., 30., 13., 50., 44.,\n",
              "       36., 51., 33.,  6.,  7.,  9.,  8., 54.,  3., 48., 49.,  5., 19.,\n",
              "       47.,  1., 43.])"
            ]
          },
          "metadata": {},
          "execution_count": 85
        }
      ]
=======
        "id": "ldQHC5ckt5p6"
      },
      "id": "ldQHC5ckt5p6",
      "execution_count": null,
      "outputs": []
>>>>>>> 01e03ab (4file made)
    },
    {
      "cell_type": "code",
      "source": [
        "#特定の日に店舗で宣伝されていた製品ファミリーのアイテムの総数\n",
        "train['onpromotion'].unique()"
      ],
      "metadata": {
<<<<<<< HEAD
        "colab": {
          "base_uri": "https://localhost:8080/"
        },
        "id": "uJYbSCrmupQ9",
        "outputId": "99ae42c7-bcb2-4596-c6b6-3237ca3ac581"
      },
      "id": "uJYbSCrmupQ9",
      "execution_count": null,
      "outputs": [
        {
          "output_type": "execute_result",
          "data": {
            "text/plain": [
              "array([ nan,   0.,   5.,   3.,   1.,  56.,  20.,  19.,   2.,   4.,  18.,\n",
              "        17.,  12.,   6.,   7.,  10.,   9.,  50.,  16.,  42.,   8.,  51.,\n",
              "        13.,  15.,  21.,  40.,  47.,  54.,  37.,  24.,  11.,  59.,  58.,\n",
              "        22.,  25.,  45.,  43.,  35.,  26.,  55.,  14.,  46.,  28.,  36.,\n",
              "        32.,  53.,  41.,  23.,  30.,  29.,  49.,  57.,  27.,  39.,  48.,\n",
              "        44.,  38.,  31.,  52.,  33.,  34.,  61.,  60., 113.,  70., 104.,\n",
              "       121.,  93.,  86.,  72.,  73.,  68., 102.,  92., 116., 169., 167.,\n",
              "       165., 140., 154., 133., 163., 168., 142., 186., 172., 180., 161.,\n",
              "       149., 188., 118., 181., 178., 173., 145., 105., 174.,  62.,  94.,\n",
              "       111., 107., 125., 101., 114.,  87.,  65.,  84.,  63., 131., 147.,\n",
              "       171., 170., 141., 166., 179., 151., 153., 155., 189., 192.,  67.,\n",
              "       123.,  64.,  79., 110.,  74.,  99., 135., 162., 182., 190., 194.,\n",
              "       150., 157., 117., 160.,  69., 126.,  89., 108., 164., 156., 132.,\n",
              "       176., 146., 177., 103.,  91., 112., 128.,  75., 109., 158., 196.,\n",
              "       184., 137., 187., 175., 148., 144., 119., 106.,  66.,  90., 120.,\n",
              "       100.,  98., 115., 139., 185., 152., 159., 143.,  80., 124.,  71.,\n",
              "       134., 193.,  78.,  88., 130., 122.,  81.,  97., 138., 191.,  76.,\n",
              "        96., 198.,  95.,  82., 195., 183., 200., 199., 197., 201.,  77.,\n",
              "       136.,  83., 205., 204., 202., 129., 206.,  85., 209., 207., 211.,\n",
              "       208., 203., 210., 127., 213., 212., 218., 216., 217., 214., 222.,\n",
              "       220., 223., 225., 229., 228., 224., 231., 215., 233., 230., 227.,\n",
              "       235., 221., 226., 219., 609., 261., 245., 289., 511., 710., 322.,\n",
              "       276., 551., 326., 281., 718., 304., 639., 489., 476., 299., 630.,\n",
              "       243., 446., 655., 286., 435., 633., 302., 644., 470., 332., 259.,\n",
              "       702., 520., 668., 510., 241., 300., 507., 237., 626., 317., 624.,\n",
              "       474., 672., 240., 306., 600., 383., 258., 646., 293., 444., 717.,\n",
              "       333., 279., 342., 720., 547., 452., 305., 642., 313., 252., 664.,\n",
              "       481., 277., 479., 684., 307., 264., 441., 657., 255., 312., 716.,\n",
              "       269., 528., 536., 285., 320., 726., 469., 628., 283., 464., 420.,\n",
              "       677., 247., 629., 424., 473., 290., 294., 722., 485., 543., 282.,\n",
              "       297., 719., 496., 253., 254., 678., 512., 741., 275., 234., 236.,\n",
              "       244., 239., 238., 242., 232., 249., 250., 251., 391., 539., 411.,\n",
              "       486., 407., 697., 330., 246., 467., 263., 591., 248., 425., 519.])"
            ]
          },
          "metadata": {},
          "execution_count": 88
        }
      ]
=======
        "id": "uJYbSCrmupQ9"
      },
      "id": "uJYbSCrmupQ9",
      "execution_count": null,
      "outputs": []
>>>>>>> 01e03ab (4file made)
    },
    {
      "cell_type": "code",
      "source": [
        "train['city'].unique()"
      ],
      "metadata": {
<<<<<<< HEAD
        "colab": {
          "base_uri": "https://localhost:8080/"
        },
        "id": "qNUQoq30vPUr",
        "outputId": "619cc772-7e40-492e-aa3c-5b2ee257c442"
      },
      "id": "qNUQoq30vPUr",
      "execution_count": null,
      "outputs": [
        {
          "output_type": "execute_result",
          "data": {
            "text/plain": [
              "array([nan, 'Quito', 'Santo Domingo', 'Cayambe', 'Latacunga', 'Riobamba',\n",
              "       'Ibarra', 'Guaranda', 'Puyo', 'Ambato', 'Guayaquil', 'Salinas',\n",
              "       'Daule', 'Babahoyo', 'Quevedo', 'Playas', 'Libertad', 'Cuenca',\n",
              "       'Loja', 'Machala', 'Esmeraldas', 'Manta', 'El Carmen'],\n",
              "      dtype=object)"
            ]
          },
          "metadata": {},
          "execution_count": 89
        }
      ]
=======
        "id": "qNUQoq30vPUr"
      },
      "id": "qNUQoq30vPUr",
      "execution_count": null,
      "outputs": []
>>>>>>> 01e03ab (4file made)
    },
    {
      "cell_type": "code",
      "source": [
        "fig, ax = plt.subplots(figsize=(20, 10))\n",
        "xlabels = ['Quito', 'Santo Domingo', 'Cayambe', 'Latacunga', 'Riobamba',\n",
        "       'Ibarra', 'Guaranda', 'Puyo', 'Ambato', 'Guayaquil', 'Salinas',\n",
        "       'Daule', 'Babahoyo', 'Quevedo', 'Playas', 'Libertad', 'Cuenca',\n",
        "       'Loja', 'Machala', 'Esmeraldas', 'Manta', 'El Carmen']\n",
        "ax.set_xticklabels(xlabels)\n",
        "fig.autofmt_xdate(rotation=90)\n",
        "sns.barplot(x='city', y='sales', data=train)"
      ],
      "metadata": {
<<<<<<< HEAD
        "colab": {
          "base_uri": "https://localhost:8080/",
          "height": 630
        },
        "id": "SJnHdb4ZvexH",
        "outputId": "7707d9d4-fb00-4edb-ebc1-87b2688793ae"
      },
      "id": "SJnHdb4ZvexH",
      "execution_count": null,
      "outputs": [
        {
          "output_type": "execute_result",
          "data": {
            "text/plain": [
              "<matplotlib.axes._subplots.AxesSubplot at 0x7fce378a5150>"
            ]
          },
          "metadata": {},
          "execution_count": 91
        },
        {
          "output_type": "display_data",
          "data": {
            "image/png": "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\n",
            "text/plain": [
              "<Figure size 1440x720 with 1 Axes>"
            ]
          },
          "metadata": {
            "needs_background": "light"
          }
        }
      ]
    },
    {
      "cell_type": "code",
      "source": [
        "!pip install japanize-matplotlib"
      ],
      "metadata": {
        "colab": {
          "base_uri": "https://localhost:8080/"
        },
        "id": "RNGOR4XXR3gG",
        "outputId": "d256de71-7c50-4a3c-8c94-9d940adc29a8"
      },
      "id": "RNGOR4XXR3gG",
      "execution_count": null,
      "outputs": [
        {
          "output_type": "stream",
          "name": "stdout",
          "text": [
            "Collecting japanize-matplotlib\n",
            "  Downloading japanize-matplotlib-1.1.3.tar.gz (4.1 MB)\n",
            "\u001b[K     |████████████████████████████████| 4.1 MB 5.3 MB/s \n",
            "\u001b[?25hRequirement already satisfied: matplotlib in /usr/local/lib/python3.7/dist-packages (from japanize-matplotlib) (3.2.2)\n",
            "Requirement already satisfied: pyparsing!=2.0.4,!=2.1.2,!=2.1.6,>=2.0.1 in /usr/local/lib/python3.7/dist-packages (from matplotlib->japanize-matplotlib) (3.0.7)\n",
            "Requirement already satisfied: numpy>=1.11 in /usr/local/lib/python3.7/dist-packages (from matplotlib->japanize-matplotlib) (1.21.5)\n",
            "Requirement already satisfied: kiwisolver>=1.0.1 in /usr/local/lib/python3.7/dist-packages (from matplotlib->japanize-matplotlib) (1.3.2)\n",
            "Requirement already satisfied: cycler>=0.10 in /usr/local/lib/python3.7/dist-packages (from matplotlib->japanize-matplotlib) (0.11.0)\n",
            "Requirement already satisfied: python-dateutil>=2.1 in /usr/local/lib/python3.7/dist-packages (from matplotlib->japanize-matplotlib) (2.8.2)\n",
            "Requirement already satisfied: six>=1.5 in /usr/local/lib/python3.7/dist-packages (from python-dateutil>=2.1->matplotlib->japanize-matplotlib) (1.15.0)\n",
            "Building wheels for collected packages: japanize-matplotlib\n",
            "  Building wheel for japanize-matplotlib (setup.py) ... \u001b[?25l\u001b[?25hdone\n",
            "  Created wheel for japanize-matplotlib: filename=japanize_matplotlib-1.1.3-py3-none-any.whl size=4120275 sha256=c9d87087f746534edc81f3bcadfa4f5cbe179374d3f74d79f7e17c7bf4cecba6\n",
            "  Stored in directory: /root/.cache/pip/wheels/83/97/6b/e9e0cde099cc40f972b8dd23367308f7705ae06cd6d4714658\n",
            "Successfully built japanize-matplotlib\n",
            "Installing collected packages: japanize-matplotlib\n",
            "Successfully installed japanize-matplotlib-1.1.3\n"
          ]
        }
      ]
    },
    {
      "cell_type": "code",
      "execution_count": null,
      "id": "adaa22b8",
      "metadata": {
        "id": "adaa22b8"
      },
      "outputs": [],
      "source": [
        "import matplotlib.pyplot as plt\n",
        "import seaborn as sns\n",
        "%matplotlib inline\n",
        "import numpy as np\n",
        "import japanize_matplotlib"
      ]
=======
        "id": "SJnHdb4ZvexH"
      },
      "id": "SJnHdb4ZvexH",
      "execution_count": null,
      "outputs": []
>>>>>>> 01e03ab (4file made)
    },
    {
      "cell_type": "code",
      "source": [
        "fig, ax = plt.subplots(figsize=(20, 10))\n",
        "xlabels = ['Holiday', 'Transfer', 'Additional', 'Bridge', 'Work Day',\n",
        "       'Event']\n",
        "ax.set_xticklabels(xlabels)\n",
        "fig.autofmt_xdate(rotation=90)\n",
        "sns.barplot(x='type', y='sales', data=train)"
      ],
      "metadata": {
<<<<<<< HEAD
        "colab": {
          "base_uri": "https://localhost:8080/",
          "height": 606
        },
        "id": "GOFAm6m8fRU-",
        "outputId": "01398a61-8b1c-4038-b093-edb7c28025d0"
=======
        "id": "GOFAm6m8fRU-",
        "colab": {
          "base_uri": "https://localhost:8080/",
          "height": 607
        },
        "outputId": "2ea90ff0-b46d-4b39-af4a-b7ad5ba81deb"
>>>>>>> 01e03ab (4file made)
      },
      "id": "GOFAm6m8fRU-",
      "execution_count": null,
      "outputs": [
        {
          "output_type": "execute_result",
          "data": {
            "text/plain": [
<<<<<<< HEAD
              "<matplotlib.axes._subplots.AxesSubplot at 0x7fce39cfbed0>"
            ]
          },
          "metadata": {},
          "execution_count": 70
=======
              "<matplotlib.axes._subplots.AxesSubplot at 0x7f3e28cc8a90>"
            ]
          },
          "metadata": {},
          "execution_count": 92
>>>>>>> 01e03ab (4file made)
        },
        {
          "output_type": "display_data",
          "data": {
<<<<<<< HEAD
            "image/png": "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\n",
=======
            "image/png": "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\n",
>>>>>>> 01e03ab (4file made)
            "text/plain": [
              "<Figure size 1440x720 with 1 Axes>"
            ]
          },
          "metadata": {
            "needs_background": "light"
          }
        }
      ]
    },
    {
      "cell_type": "code",
      "source": [
        "p=sns.barplot(x='locale', y='sales', data=train)\n",
        "p.set_title(\"locale別売上\")"
      ],
      "metadata": {
<<<<<<< HEAD
        "colab": {
          "base_uri": "https://localhost:8080/",
          "height": 310
        },
        "id": "7eodqrqMcDxV",
        "outputId": "2f494fba-2d61-4d4f-ee5c-8584f38edea7"
=======
        "id": "7eodqrqMcDxV",
        "colab": {
          "base_uri": "https://localhost:8080/",
          "height": 190
        },
        "outputId": "318d0213-3bf4-48b9-c70f-fb7d9d4e1901"
>>>>>>> 01e03ab (4file made)
      },
      "id": "7eodqrqMcDxV",
      "execution_count": null,
      "outputs": [
        {
<<<<<<< HEAD
          "output_type": "execute_result",
          "data": {
            "text/plain": [
              "Text(0.5, 1.0, 'locale別売上')"
            ]
          },
          "metadata": {},
          "execution_count": 67
        },
        {
          "output_type": "display_data",
          "data": {
            "image/png": "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\n",
            "text/plain": [
              "<Figure size 432x288 with 1 Axes>"
            ]
          },
          "metadata": {
            "needs_background": "light"
          }
=======
          "output_type": "error",
          "ename": "NameError",
          "evalue": "ignored",
          "traceback": [
            "\u001b[0;31m---------------------------------------------------------------------------\u001b[0m",
            "\u001b[0;31mNameError\u001b[0m                                 Traceback (most recent call last)",
            "\u001b[0;32m<ipython-input-87-469ecc31cbd9>\u001b[0m in \u001b[0;36m<module>\u001b[0;34m()\u001b[0m\n\u001b[0;32m----> 1\u001b[0;31m \u001b[0mp\u001b[0m\u001b[0;34m=\u001b[0m\u001b[0msns\u001b[0m\u001b[0;34m.\u001b[0m\u001b[0mbarplot\u001b[0m\u001b[0;34m(\u001b[0m\u001b[0mx\u001b[0m\u001b[0;34m=\u001b[0m\u001b[0;34m'locale'\u001b[0m\u001b[0;34m,\u001b[0m \u001b[0my\u001b[0m\u001b[0;34m=\u001b[0m\u001b[0;34m'sales'\u001b[0m\u001b[0;34m,\u001b[0m \u001b[0mdata\u001b[0m\u001b[0;34m=\u001b[0m\u001b[0mtrain\u001b[0m\u001b[0;34m)\u001b[0m\u001b[0;34m\u001b[0m\u001b[0;34m\u001b[0m\u001b[0m\n\u001b[0m\u001b[1;32m      2\u001b[0m \u001b[0mp\u001b[0m\u001b[0;34m.\u001b[0m\u001b[0mset_title\u001b[0m\u001b[0;34m(\u001b[0m\u001b[0;34m\"locale別売上\"\u001b[0m\u001b[0;34m)\u001b[0m\u001b[0;34m\u001b[0m\u001b[0;34m\u001b[0m\u001b[0m\n",
            "\u001b[0;31mNameError\u001b[0m: name 'sns' is not defined"
          ]
>>>>>>> 01e03ab (4file made)
        }
      ]
    },
    {
      "cell_type": "code",
      "execution_count": null,
      "id": "5f306ae6",
      "metadata": {
<<<<<<< HEAD
        "colab": {
          "base_uri": "https://localhost:8080/",
          "height": 352
        },
        "id": "5f306ae6",
        "outputId": "d5583223-6b01-4f9a-b210-ee4620d6a4e2"
      },
      "outputs": [
        {
          "output_type": "stream",
          "name": "stderr",
          "text": [
            "/usr/local/lib/python3.7/dist-packages/ipykernel_launcher.py:1: UserWarning: Boolean Series key will be reindexed to match DataFrame index.\n",
            "  \"\"\"Entry point for launching an IPython kernel.\n"
          ]
        },
        {
          "output_type": "stream",
          "name": "stdout",
          "text": [
            "HolidayのLocal割合62.0%\n"
          ]
        },
        {
          "output_type": "execute_result",
          "data": {
            "text/html": [
              "\n",
              "  <div id=\"df-d5834758-c296-4478-8c26-de19ac540285\">\n",
              "    <div class=\"colab-df-container\">\n",
              "      <div>\n",
              "<style scoped>\n",
              "    .dataframe tbody tr th:only-of-type {\n",
              "        vertical-align: middle;\n",
              "    }\n",
              "\n",
              "    .dataframe tbody tr th {\n",
              "        vertical-align: top;\n",
              "    }\n",
              "\n",
              "    .dataframe thead th {\n",
              "        text-align: right;\n",
              "    }\n",
              "</style>\n",
              "<table border=\"1\" class=\"dataframe\">\n",
              "  <thead>\n",
              "    <tr style=\"text-align: right;\">\n",
              "      <th></th>\n",
              "      <th>dcoilwtico</th>\n",
              "      <th>id</th>\n",
              "      <th>store_nbr</th>\n",
              "      <th>sales</th>\n",
              "      <th>onpromotion</th>\n",
              "      <th>transactions</th>\n",
              "      <th>cluster</th>\n",
              "      <th>Day</th>\n",
              "      <th>Week</th>\n",
              "      <th>Month</th>\n",
              "      <th>Year</th>\n",
              "      <th>Weekday</th>\n",
              "    </tr>\n",
              "  </thead>\n",
              "  <tbody>\n",
              "    <tr>\n",
              "      <th>count</th>\n",
              "      <td>201367.000000</td>\n",
              "      <td>3.047220e+05</td>\n",
              "      <td>304722.00000</td>\n",
              "      <td>304722.000000</td>\n",
              "      <td>304722.000000</td>\n",
              "      <td>273504.000000</td>\n",
              "      <td>0.0</td>\n",
              "      <td>304772.000000</td>\n",
              "      <td>304772.000000</td>\n",
              "      <td>304772.000000</td>\n",
              "      <td>304772.000000</td>\n",
              "      <td>304772.000000</td>\n",
              "    </tr>\n",
              "    <tr>\n",
              "      <th>mean</th>\n",
              "      <td>68.544673</td>\n",
              "      <td>1.529346e+06</td>\n",
              "      <td>27.50000</td>\n",
              "      <td>358.433812</td>\n",
              "      <td>2.691023</td>\n",
              "      <td>1694.734435</td>\n",
              "      <td>NaN</td>\n",
              "      <td>12.824685</td>\n",
              "      <td>28.919665</td>\n",
              "      <td>6.994530</td>\n",
              "      <td>2014.824377</td>\n",
              "      <td>2.859698</td>\n",
              "    </tr>\n",
              "    <tr>\n",
              "      <th>std</th>\n",
              "      <td>25.752912</td>\n",
              "      <td>8.580428e+05</td>\n",
              "      <td>15.58581</td>\n",
              "      <td>1153.161110</td>\n",
              "      <td>12.246435</td>\n",
              "      <td>986.219833</td>\n",
              "      <td>NaN</td>\n",
              "      <td>8.928800</td>\n",
              "      <td>13.422143</td>\n",
              "      <td>3.114842</td>\n",
              "      <td>1.335239</td>\n",
              "      <td>2.050007</td>\n",
              "    </tr>\n",
              "    <tr>\n",
              "      <th>min</th>\n",
              "      <td>27.960000</td>\n",
              "      <td>0.000000e+00</td>\n",
              "      <td>1.00000</td>\n",
              "      <td>0.000000</td>\n",
              "      <td>0.000000</td>\n",
              "      <td>346.000000</td>\n",
              "      <td>NaN</td>\n",
              "      <td>1.000000</td>\n",
              "      <td>1.000000</td>\n",
              "      <td>1.000000</td>\n",
              "      <td>2012.000000</td>\n",
              "      <td>0.000000</td>\n",
              "    </tr>\n",
              "    <tr>\n",
              "      <th>25%</th>\n",
              "      <td>46.290000</td>\n",
              "      <td>8.299662e+05</td>\n",
              "      <td>14.00000</td>\n",
              "      <td>0.000000</td>\n",
              "      <td>0.000000</td>\n",
              "      <td>1030.000000</td>\n",
              "      <td>NaN</td>\n",
              "      <td>5.000000</td>\n",
              "      <td>17.000000</td>\n",
              "      <td>4.000000</td>\n",
              "      <td>2014.000000</td>\n",
              "      <td>1.000000</td>\n",
              "    </tr>\n",
              "    <tr>\n",
              "      <th>50%</th>\n",
              "      <td>55.250000</td>\n",
              "      <td>1.553012e+06</td>\n",
              "      <td>27.50000</td>\n",
              "      <td>10.000000</td>\n",
              "      <td>0.000000</td>\n",
              "      <td>1386.000000</td>\n",
              "      <td>NaN</td>\n",
              "      <td>11.000000</td>\n",
              "      <td>27.000000</td>\n",
              "      <td>7.000000</td>\n",
              "      <td>2015.000000</td>\n",
              "      <td>3.000000</td>\n",
              "    </tr>\n",
              "    <tr>\n",
              "      <th>75%</th>\n",
              "      <td>97.010000</td>\n",
              "      <td>2.274054e+06</td>\n",
              "      <td>41.00000</td>\n",
              "      <td>189.000000</td>\n",
              "      <td>0.000000</td>\n",
              "      <td>2071.000000</td>\n",
              "      <td>NaN</td>\n",
              "      <td>23.000000</td>\n",
              "      <td>41.000000</td>\n",
              "      <td>10.000000</td>\n",
              "      <td>2016.000000</td>\n",
              "      <td>5.000000</td>\n",
              "    </tr>\n",
              "    <tr>\n",
              "      <th>max</th>\n",
              "      <td>107.430000</td>\n",
              "      <td>3.000887e+06</td>\n",
              "      <td>54.00000</td>\n",
              "      <td>89576.360000</td>\n",
              "      <td>718.000000</td>\n",
              "      <td>7524.000000</td>\n",
              "      <td>NaN</td>\n",
              "      <td>29.000000</td>\n",
              "      <td>53.000000</td>\n",
              "      <td>12.000000</td>\n",
              "      <td>2017.000000</td>\n",
              "      <td>6.000000</td>\n",
              "    </tr>\n",
              "  </tbody>\n",
              "</table>\n",
              "</div>\n",
              "      <button class=\"colab-df-convert\" onclick=\"convertToInteractive('df-d5834758-c296-4478-8c26-de19ac540285')\"\n",
              "              title=\"Convert this dataframe to an interactive table.\"\n",
              "              style=\"display:none;\">\n",
              "        \n",
              "  <svg xmlns=\"http://www.w3.org/2000/svg\" height=\"24px\"viewBox=\"0 0 24 24\"\n",
              "       width=\"24px\">\n",
              "    <path d=\"M0 0h24v24H0V0z\" fill=\"none\"/>\n",
              "    <path d=\"M18.56 5.44l.94 2.06.94-2.06 2.06-.94-2.06-.94-.94-2.06-.94 2.06-2.06.94zm-11 1L8.5 8.5l.94-2.06 2.06-.94-2.06-.94L8.5 2.5l-.94 2.06-2.06.94zm10 10l.94 2.06.94-2.06 2.06-.94-2.06-.94-.94-2.06-.94 2.06-2.06.94z\"/><path d=\"M17.41 7.96l-1.37-1.37c-.4-.4-.92-.59-1.43-.59-.52 0-1.04.2-1.43.59L10.3 9.45l-7.72 7.72c-.78.78-.78 2.05 0 2.83L4 21.41c.39.39.9.59 1.41.59.51 0 1.02-.2 1.41-.59l7.78-7.78 2.81-2.81c.8-.78.8-2.07 0-2.86zM5.41 20L4 18.59l7.72-7.72 1.47 1.35L5.41 20z\"/>\n",
              "  </svg>\n",
              "      </button>\n",
              "      \n",
              "  <style>\n",
              "    .colab-df-container {\n",
              "      display:flex;\n",
              "      flex-wrap:wrap;\n",
              "      gap: 12px;\n",
              "    }\n",
              "\n",
              "    .colab-df-convert {\n",
              "      background-color: #E8F0FE;\n",
              "      border: none;\n",
              "      border-radius: 50%;\n",
              "      cursor: pointer;\n",
              "      display: none;\n",
              "      fill: #1967D2;\n",
              "      height: 32px;\n",
              "      padding: 0 0 0 0;\n",
              "      width: 32px;\n",
              "    }\n",
              "\n",
              "    .colab-df-convert:hover {\n",
              "      background-color: #E2EBFA;\n",
              "      box-shadow: 0px 1px 2px rgba(60, 64, 67, 0.3), 0px 1px 3px 1px rgba(60, 64, 67, 0.15);\n",
              "      fill: #174EA6;\n",
              "    }\n",
              "\n",
              "    [theme=dark] .colab-df-convert {\n",
              "      background-color: #3B4455;\n",
              "      fill: #D2E3FC;\n",
              "    }\n",
              "\n",
              "    [theme=dark] .colab-df-convert:hover {\n",
              "      background-color: #434B5C;\n",
              "      box-shadow: 0px 1px 3px 1px rgba(0, 0, 0, 0.15);\n",
              "      filter: drop-shadow(0px 1px 2px rgba(0, 0, 0, 0.3));\n",
              "      fill: #FFFFFF;\n",
              "    }\n",
              "  </style>\n",
              "\n",
              "      <script>\n",
              "        const buttonEl =\n",
              "          document.querySelector('#df-d5834758-c296-4478-8c26-de19ac540285 button.colab-df-convert');\n",
              "        buttonEl.style.display =\n",
              "          google.colab.kernel.accessAllowed ? 'block' : 'none';\n",
              "\n",
              "        async function convertToInteractive(key) {\n",
              "          const element = document.querySelector('#df-d5834758-c296-4478-8c26-de19ac540285');\n",
              "          const dataTable =\n",
              "            await google.colab.kernel.invokeFunction('convertToInteractive',\n",
              "                                                     [key], {});\n",
              "          if (!dataTable) return;\n",
              "\n",
              "          const docLinkHtml = 'Like what you see? Visit the ' +\n",
              "            '<a target=\"_blank\" href=https://colab.research.google.com/notebooks/data_table.ipynb>data table notebook</a>'\n",
              "            + ' to learn more about interactive tables.';\n",
              "          element.innerHTML = '';\n",
              "          dataTable['output_type'] = 'display_data';\n",
              "          await google.colab.output.renderOutput(dataTable, element);\n",
              "          const docLink = document.createElement('div');\n",
              "          docLink.innerHTML = docLinkHtml;\n",
              "          element.appendChild(docLink);\n",
              "        }\n",
              "      </script>\n",
              "    </div>\n",
              "  </div>\n",
              "  "
            ],
            "text/plain": [
              "          dcoilwtico            id  ...           Year        Weekday\n",
              "count  201367.000000  3.047220e+05  ...  304772.000000  304772.000000\n",
              "mean       68.544673  1.529346e+06  ...    2014.824377       2.859698\n",
              "std        25.752912  8.580428e+05  ...       1.335239       2.050007\n",
              "min        27.960000  0.000000e+00  ...    2012.000000       0.000000\n",
              "25%        46.290000  8.299662e+05  ...    2014.000000       1.000000\n",
              "50%        55.250000  1.553012e+06  ...    2015.000000       3.000000\n",
              "75%        97.010000  2.274054e+06  ...    2016.000000       5.000000\n",
              "max       107.430000  3.000887e+06  ...    2017.000000       6.000000\n",
              "\n",
              "[8 rows x 12 columns]"
            ]
          },
          "metadata": {},
          "execution_count": 73
        }
      ],
=======
        "id": "5f306ae6"
      },
      "outputs": [],
>>>>>>> 01e03ab (4file made)
      "source": [
        "b=round(len(train[train['type']=='Holiday'][train['locale']=='Local'])/len(train[train['type']=='Holiday'])*100,1)\n",
        "print(\"HolidayのLocal割合{0}%\".format(b))\n",
        "# df.query(\"region==1\").describe()\n",
        "train[train['type']=='Holiday'].describe()"
      ]
    },
    {
      "cell_type": "code",
      "source": [
        "b=round(len(train[train['type']=='Bridge'][train['family']=='GROCERY I'])/len(train[train['type']=='Bridge'])*100,1)\n",
        "print(\"GROCERY I割合{0}%\".format(b))\n",
        "# df.query(\"region==1\").describe()\n",
        "train[train['type']=='Bridge'].describe()"
      ],
      "metadata": {
<<<<<<< HEAD
        "colab": {
          "base_uri": "https://localhost:8080/",
          "height": 352
        },
        "id": "vYe3lTxiXoOd",
        "outputId": "d8fa2778-20b1-4748-bc46-2613d1043413"
      },
      "id": "vYe3lTxiXoOd",
      "execution_count": null,
      "outputs": [
        {
          "output_type": "stream",
          "name": "stderr",
          "text": [
            "/usr/local/lib/python3.7/dist-packages/ipykernel_launcher.py:1: UserWarning: Boolean Series key will be reindexed to match DataFrame index.\n",
            "  \"\"\"Entry point for launching an IPython kernel.\n"
          ]
        },
        {
          "output_type": "stream",
          "name": "stdout",
          "text": [
            "GROCERY I割合3.0%\n"
          ]
        },
        {
          "output_type": "execute_result",
          "data": {
            "text/html": [
              "\n",
              "  <div id=\"df-4b98658d-d876-4cab-825c-4f01af91138d\">\n",
              "    <div class=\"colab-df-container\">\n",
              "      <div>\n",
              "<style scoped>\n",
              "    .dataframe tbody tr th:only-of-type {\n",
              "        vertical-align: middle;\n",
              "    }\n",
              "\n",
              "    .dataframe tbody tr th {\n",
              "        vertical-align: top;\n",
              "    }\n",
              "\n",
              "    .dataframe thead th {\n",
              "        text-align: right;\n",
              "    }\n",
              "</style>\n",
              "<table border=\"1\" class=\"dataframe\">\n",
              "  <thead>\n",
              "    <tr style=\"text-align: right;\">\n",
              "      <th></th>\n",
              "      <th>dcoilwtico</th>\n",
              "      <th>id</th>\n",
              "      <th>store_nbr</th>\n",
              "      <th>sales</th>\n",
              "      <th>onpromotion</th>\n",
              "      <th>transactions</th>\n",
              "      <th>cluster</th>\n",
              "    </tr>\n",
              "  </thead>\n",
              "  <tbody>\n",
              "    <tr>\n",
              "      <th>count</th>\n",
              "      <td>5346.000000</td>\n",
              "      <td>5.346000e+03</td>\n",
              "      <td>5346.000000</td>\n",
              "      <td>5346.000000</td>\n",
              "      <td>5346.000000</td>\n",
              "      <td>4884.000000</td>\n",
              "      <td>0.0</td>\n",
              "    </tr>\n",
              "    <tr>\n",
              "      <th>mean</th>\n",
              "      <td>50.460000</td>\n",
              "      <td>1.694384e+06</td>\n",
              "      <td>27.500000</td>\n",
              "      <td>446.750854</td>\n",
              "      <td>5.310325</td>\n",
              "      <td>1968.452703</td>\n",
              "      <td>NaN</td>\n",
              "    </tr>\n",
              "    <tr>\n",
              "      <th>std</th>\n",
              "      <td>4.582881</td>\n",
              "      <td>5.666850e+05</td>\n",
              "      <td>15.587242</td>\n",
              "      <td>1309.716490</td>\n",
              "      <td>14.359400</td>\n",
              "      <td>1205.290692</td>\n",
              "      <td>NaN</td>\n",
              "    </tr>\n",
              "    <tr>\n",
              "      <th>min</th>\n",
              "      <td>44.070000</td>\n",
              "      <td>1.286604e+06</td>\n",
              "      <td>1.000000</td>\n",
              "      <td>0.000000</td>\n",
              "      <td>0.000000</td>\n",
              "      <td>531.000000</td>\n",
              "      <td>NaN</td>\n",
              "    </tr>\n",
              "    <tr>\n",
              "      <th>25%</th>\n",
              "      <td>44.070000</td>\n",
              "      <td>1.287940e+06</td>\n",
              "      <td>14.000000</td>\n",
              "      <td>0.000000</td>\n",
              "      <td>0.000000</td>\n",
              "      <td>1150.500000</td>\n",
              "      <td>NaN</td>\n",
              "    </tr>\n",
              "    <tr>\n",
              "      <th>50%</th>\n",
              "      <td>52.720000</td>\n",
              "      <td>1.299968e+06</td>\n",
              "      <td>27.500000</td>\n",
              "      <td>16.000000</td>\n",
              "      <td>0.000000</td>\n",
              "      <td>1533.500000</td>\n",
              "      <td>NaN</td>\n",
              "    </tr>\n",
              "    <tr>\n",
              "      <th>75%</th>\n",
              "      <td>54.590000</td>\n",
              "      <td>2.495245e+06</td>\n",
              "      <td>41.000000</td>\n",
              "      <td>273.935000</td>\n",
              "      <td>2.000000</td>\n",
              "      <td>2423.750000</td>\n",
              "      <td>NaN</td>\n",
              "    </tr>\n",
              "    <tr>\n",
              "      <th>max</th>\n",
              "      <td>54.590000</td>\n",
              "      <td>2.496581e+06</td>\n",
              "      <td>54.000000</td>\n",
              "      <td>21367.000000</td>\n",
              "      <td>139.000000</td>\n",
              "      <td>5693.000000</td>\n",
              "      <td>NaN</td>\n",
              "    </tr>\n",
              "  </tbody>\n",
              "</table>\n",
              "</div>\n",
              "      <button class=\"colab-df-convert\" onclick=\"convertToInteractive('df-4b98658d-d876-4cab-825c-4f01af91138d')\"\n",
              "              title=\"Convert this dataframe to an interactive table.\"\n",
              "              style=\"display:none;\">\n",
              "        \n",
              "  <svg xmlns=\"http://www.w3.org/2000/svg\" height=\"24px\"viewBox=\"0 0 24 24\"\n",
              "       width=\"24px\">\n",
              "    <path d=\"M0 0h24v24H0V0z\" fill=\"none\"/>\n",
              "    <path d=\"M18.56 5.44l.94 2.06.94-2.06 2.06-.94-2.06-.94-.94-2.06-.94 2.06-2.06.94zm-11 1L8.5 8.5l.94-2.06 2.06-.94-2.06-.94L8.5 2.5l-.94 2.06-2.06.94zm10 10l.94 2.06.94-2.06 2.06-.94-2.06-.94-.94-2.06-.94 2.06-2.06.94z\"/><path d=\"M17.41 7.96l-1.37-1.37c-.4-.4-.92-.59-1.43-.59-.52 0-1.04.2-1.43.59L10.3 9.45l-7.72 7.72c-.78.78-.78 2.05 0 2.83L4 21.41c.39.39.9.59 1.41.59.51 0 1.02-.2 1.41-.59l7.78-7.78 2.81-2.81c.8-.78.8-2.07 0-2.86zM5.41 20L4 18.59l7.72-7.72 1.47 1.35L5.41 20z\"/>\n",
              "  </svg>\n",
              "      </button>\n",
              "      \n",
              "  <style>\n",
              "    .colab-df-container {\n",
              "      display:flex;\n",
              "      flex-wrap:wrap;\n",
              "      gap: 12px;\n",
              "    }\n",
              "\n",
              "    .colab-df-convert {\n",
              "      background-color: #E8F0FE;\n",
              "      border: none;\n",
              "      border-radius: 50%;\n",
              "      cursor: pointer;\n",
              "      display: none;\n",
              "      fill: #1967D2;\n",
              "      height: 32px;\n",
              "      padding: 0 0 0 0;\n",
              "      width: 32px;\n",
              "    }\n",
              "\n",
              "    .colab-df-convert:hover {\n",
              "      background-color: #E2EBFA;\n",
              "      box-shadow: 0px 1px 2px rgba(60, 64, 67, 0.3), 0px 1px 3px 1px rgba(60, 64, 67, 0.15);\n",
              "      fill: #174EA6;\n",
              "    }\n",
              "\n",
              "    [theme=dark] .colab-df-convert {\n",
              "      background-color: #3B4455;\n",
              "      fill: #D2E3FC;\n",
              "    }\n",
              "\n",
              "    [theme=dark] .colab-df-convert:hover {\n",
              "      background-color: #434B5C;\n",
              "      box-shadow: 0px 1px 3px 1px rgba(0, 0, 0, 0.15);\n",
              "      filter: drop-shadow(0px 1px 2px rgba(0, 0, 0, 0.3));\n",
              "      fill: #FFFFFF;\n",
              "    }\n",
              "  </style>\n",
              "\n",
              "      <script>\n",
              "        const buttonEl =\n",
              "          document.querySelector('#df-4b98658d-d876-4cab-825c-4f01af91138d button.colab-df-convert');\n",
              "        buttonEl.style.display =\n",
              "          google.colab.kernel.accessAllowed ? 'block' : 'none';\n",
              "\n",
              "        async function convertToInteractive(key) {\n",
              "          const element = document.querySelector('#df-4b98658d-d876-4cab-825c-4f01af91138d');\n",
              "          const dataTable =\n",
              "            await google.colab.kernel.invokeFunction('convertToInteractive',\n",
              "                                                     [key], {});\n",
              "          if (!dataTable) return;\n",
              "\n",
              "          const docLinkHtml = 'Like what you see? Visit the ' +\n",
              "            '<a target=\"_blank\" href=https://colab.research.google.com/notebooks/data_table.ipynb>data table notebook</a>'\n",
              "            + ' to learn more about interactive tables.';\n",
              "          element.innerHTML = '';\n",
              "          dataTable['output_type'] = 'display_data';\n",
              "          await google.colab.output.renderOutput(dataTable, element);\n",
              "          const docLink = document.createElement('div');\n",
              "          docLink.innerHTML = docLinkHtml;\n",
              "          element.appendChild(docLink);\n",
              "        }\n",
              "      </script>\n",
              "    </div>\n",
              "  </div>\n",
              "  "
            ],
            "text/plain": [
              "        dcoilwtico            id  ...  transactions  cluster\n",
              "count  5346.000000  5.346000e+03  ...   4884.000000      0.0\n",
              "mean     50.460000  1.694384e+06  ...   1968.452703      NaN\n",
              "std       4.582881  5.666850e+05  ...   1205.290692      NaN\n",
              "min      44.070000  1.286604e+06  ...    531.000000      NaN\n",
              "25%      44.070000  1.287940e+06  ...   1150.500000      NaN\n",
              "50%      52.720000  1.299968e+06  ...   1533.500000      NaN\n",
              "75%      54.590000  2.495245e+06  ...   2423.750000      NaN\n",
              "max      54.590000  2.496581e+06  ...   5693.000000      NaN\n",
              "\n",
              "[8 rows x 7 columns]"
            ]
          },
          "metadata": {},
          "execution_count": 31
        }
      ]
=======
        "id": "vYe3lTxiXoOd"
      },
      "id": "vYe3lTxiXoOd",
      "execution_count": null,
      "outputs": []
>>>>>>> 01e03ab (4file made)
    },
    {
      "cell_type": "code",
      "source": [
        "train['family']"
      ],
      "metadata": {
<<<<<<< HEAD
        "colab": {
          "base_uri": "https://localhost:8080/"
        },
        "id": "UY5Nwct0YWqW",
        "outputId": "cb3b7b4b-b251-4209-c97b-5c0182a517cd"
      },
      "id": "UY5Nwct0YWqW",
      "execution_count": null,
      "outputs": [
        {
          "output_type": "execute_result",
          "data": {
            "text/plain": [
              "0          NaN\n",
              "1          NaN\n",
              "2          NaN\n",
              "3          NaN\n",
              "4          NaN\n",
              "          ... \n",
              "3054476    NaN\n",
              "3054477    NaN\n",
              "3054478    NaN\n",
              "3054479    NaN\n",
              "3054480    NaN\n",
              "Name: family, Length: 3054481, dtype: object"
            ]
          },
          "metadata": {},
          "execution_count": 46
        }
      ]
=======
        "id": "UY5Nwct0YWqW"
      },
      "id": "UY5Nwct0YWqW",
      "execution_count": null,
      "outputs": []
>>>>>>> 01e03ab (4file made)
    },
    {
      "cell_type": "code",
      "source": [
        "train['type'].unique()"
      ],
      "metadata": {
<<<<<<< HEAD
        "colab": {
          "base_uri": "https://localhost:8080/"
        },
        "id": "PFRys3zfZm2T",
        "outputId": "be48e2d9-e313-4806-8e26-a7bbc809a95a"
      },
      "id": "PFRys3zfZm2T",
      "execution_count": null,
      "outputs": [
        {
          "output_type": "execute_result",
          "data": {
            "text/plain": [
              "array(['Holiday', 'Transfer', 'Additional', 'Bridge', nan, 'Work Day',\n",
              "       'Event', 'D', 'B', 'C', 'E', 'A'], dtype=object)"
            ]
          },
          "metadata": {},
          "execution_count": 45
        }
      ]
=======
        "id": "PFRys3zfZm2T"
      },
      "id": "PFRys3zfZm2T",
      "execution_count": null,
      "outputs": []
>>>>>>> 01e03ab (4file made)
    },
    {
      "cell_type": "code",
      "execution_count": null,
      "id": "29e465d4",
      "metadata": {
<<<<<<< HEAD
        "colab": {
          "base_uri": "https://localhost:8080/"
        },
        "id": "29e465d4",
        "outputId": "2fbac663-fc5d-4b5a-e45b-b9e582ac4dd7"
      },
      "outputs": [
        {
          "output_type": "stream",
          "name": "stdout",
          "text": [
            "object\n"
          ]
        }
      ],
=======
        "id": "29e465d4"
      },
      "outputs": [],
>>>>>>> 01e03ab (4file made)
      "source": [
        "print(train['date'].dtypes)"
      ]
    },
    {
      "cell_type": "code",
      "execution_count": null,
      "id": "069ba8b2",
      "metadata": {
        "id": "069ba8b2"
      },
      "outputs": [],
      "source": [
        "train['date'] = pd.to_datetime(train['date'])"
      ]
    },
    {
      "cell_type": "code",
      "execution_count": null,
      "id": "4fdd40de",
      "metadata": {
<<<<<<< HEAD
        "colab": {
          "base_uri": "https://localhost:8080/"
        },
        "id": "4fdd40de",
        "outputId": "9b2c369c-5036-443a-eac8-26b3fa916124"
      },
      "outputs": [
        {
          "output_type": "stream",
          "name": "stdout",
          "text": [
            "datetime64[ns]\n"
          ]
        }
      ],
=======
        "id": "4fdd40de"
      },
      "outputs": [],
>>>>>>> 01e03ab (4file made)
      "source": [
        "#df[date]object     ->      datetime\n",
        "print(train['date'].dtypes)"
      ]
    },
    {
      "cell_type": "code",
      "execution_count": null,
      "id": "a03f1938",
      "metadata": {
<<<<<<< HEAD
        "colab": {
          "base_uri": "https://localhost:8080/"
        },
        "id": "a03f1938",
        "outputId": "05d1b702-7a50-4a0b-ca5b-8c64130824bf"
      },
      "outputs": [
        {
          "output_type": "stream",
          "name": "stderr",
          "text": [
            "/usr/local/lib/python3.7/dist-packages/ipykernel_launcher.py:2: FutureWarning: Series.dt.weekofyear and Series.dt.week have been deprecated.  Please use Series.dt.isocalendar().week instead.\n",
            "  \n"
          ]
        }
      ],
=======
        "id": "a03f1938"
      },
      "outputs": [],
>>>>>>> 01e03ab (4file made)
      "source": [
        "train['Day'] = train['date'].dt.day\n",
        "train['Week'] = train['date'].dt.week\n",
        "train['Month'] = train['date'].dt.month\n",
        "train['Year'] = train['date'].dt.year\n",
        "train['Weekday']=train['date'].dt.weekday"
      ]
    },
    {
      "cell_type": "code",
      "execution_count": null,
      "id": "399aad4e",
      "metadata": {
<<<<<<< HEAD
        "colab": {
          "base_uri": "https://localhost:8080/"
        },
        "id": "399aad4e",
        "outputId": "455c0bfd-e11c-46b9-92ab-24c0a610b57b"
      },
      "outputs": [
        {
          "output_type": "execute_result",
          "data": {
            "text/plain": [
              "Index(['date', 'type', 'locale', 'locale_name', 'description', 'transferred',\n",
              "       'dcoilwtico', 'id', 'store_nbr', 'family', 'sales', 'onpromotion',\n",
              "       'transactions', 'city', 'state', 'cluster', 'Day', 'Week', 'Month',\n",
              "       'Year', 'Weekday'],\n",
              "      dtype='object')"
            ]
          },
          "metadata": {},
          "execution_count": 51
        }
      ],
=======
        "id": "399aad4e"
      },
      "outputs": [],
>>>>>>> 01e03ab (4file made)
      "source": [
        "train.columns"
      ]
    },
    {
      "cell_type": "code",
      "source": [
        "p=sns.lineplot(x='Year', y='sales', data=train)\n",
        "p.set_title(\"年度別売上\")"
      ],
      "metadata": {
<<<<<<< HEAD
        "colab": {
          "base_uri": "https://localhost:8080/",
          "height": 310
        },
        "id": "G7bTM6jMOpGs",
        "outputId": "0c2aabce-448b-49c2-8891-973db5256184"
      },
      "id": "G7bTM6jMOpGs",
      "execution_count": null,
      "outputs": [
        {
          "output_type": "execute_result",
          "data": {
            "text/plain": [
              "Text(0.5, 1.0, '年度別売上')"
            ]
          },
          "metadata": {},
          "execution_count": 71
        },
        {
          "output_type": "display_data",
          "data": {
            "image/png": "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\n",
            "text/plain": [
              "<Figure size 432x288 with 1 Axes>"
            ]
          },
          "metadata": {
            "needs_background": "light"
          }
        }
      ]
=======
        "id": "G7bTM6jMOpGs"
      },
      "id": "G7bTM6jMOpGs",
      "execution_count": null,
      "outputs": []
>>>>>>> 01e03ab (4file made)
    },
    {
      "cell_type": "code",
      "execution_count": null,
      "id": "7c38348c",
      "metadata": {
<<<<<<< HEAD
        "colab": {
          "base_uri": "https://localhost:8080/",
          "height": 293
        },
        "id": "7c38348c",
        "outputId": "fd271afd-d602-453f-b72d-a8e472b52052"
      },
      "outputs": [
        {
          "output_type": "display_data",
          "data": {
            "image/png": "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\n",
            "text/plain": [
              "<Figure size 432x288 with 1 Axes>"
            ]
          },
          "metadata": {
            "needs_background": "light"
          }
        }
      ],
=======
        "id": "7c38348c"
      },
      "outputs": [],
>>>>>>> 01e03ab (4file made)
      "source": [
        "p=sns.lineplot(x='Month', y='sales', data=train)\n",
        "p.set_title(\"月別売上\")\n",
        "\n",
        "# 目盛り調整のticker追加\n",
        "import matplotlib.ticker as ticker\n",
        "# axesを取得\n",
        "ax = plt.gca()\n",
        "# x軸(xaxis)に対して、1ごと目盛りを入れる\n",
        "ax.xaxis.set_major_locator(ticker.MultipleLocator(1))\n",
        " \n",
        "# グラフ表示\n",
        "plt.show()"
      ]
    },
    {
      "cell_type": "code",
      "source": [
        "#月曜日を表す0から、日曜日を表す6\n",
        "p=sns.lineplot(x='Weekday', y='sales', data=train)\n",
        "p.set_title(\"曜日別売上\")"
      ],
      "metadata": {
<<<<<<< HEAD
        "colab": {
          "base_uri": "https://localhost:8080/",
          "height": 310
        },
        "id": "SpkS4VUiOoVK",
        "outputId": "75a9eaeb-5aea-48eb-d3e9-35f87d6b79f4"
      },
      "id": "SpkS4VUiOoVK",
      "execution_count": null,
      "outputs": [
        {
          "output_type": "execute_result",
          "data": {
            "text/plain": [
              "Text(0.5, 1.0, '曜日別売上')"
            ]
          },
          "metadata": {},
          "execution_count": 60
        },
        {
          "output_type": "display_data",
          "data": {
            "image/png": "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\n",
            "text/plain": [
              "<Figure size 432x288 with 1 Axes>"
            ]
          },
          "metadata": {
            "needs_background": "light"
          }
        }
      ]
=======
        "id": "SpkS4VUiOoVK"
      },
      "id": "SpkS4VUiOoVK",
      "execution_count": null,
      "outputs": []
>>>>>>> 01e03ab (4file made)
    },
    {
      "cell_type": "code",
      "source": [
        "train['family'].unique()"
      ],
      "metadata": {
<<<<<<< HEAD
        "colab": {
          "base_uri": "https://localhost:8080/"
        },
        "id": "Sf9hht3WLge4",
        "outputId": "c859b3aa-2a43-42a4-8b26-d71a719bade8"
      },
      "id": "Sf9hht3WLge4",
      "execution_count": null,
      "outputs": [
        {
          "output_type": "execute_result",
          "data": {
            "text/plain": [
              "array([nan, 'HOME AND KITCHEN I', 'GROCERY II', 'GROCERY I',\n",
              "       'HOME APPLIANCES', 'FROZEN FOODS', 'EGGS', 'HOME AND KITCHEN II',\n",
              "       'HARDWARE', 'BREAD/BAKERY', 'LADIESWEAR', 'DAIRY', 'CLEANING',\n",
              "       'CELEBRATION', 'BOOKS', 'BEVERAGES', 'BEAUTY', 'BABY CARE',\n",
              "       'HOME CARE', 'AUTOMOTIVE', 'PET SUPPLIES', 'PERSONAL CARE',\n",
              "       'MEATS', 'MAGAZINES', 'LIQUOR,WINE,BEER', 'LINGERIE',\n",
              "       'LAWN AND GARDEN', 'PLAYERS AND ELECTRONICS', 'DELI', 'SEAFOOD',\n",
              "       'POULTRY', 'PREPARED FOODS', 'PRODUCE',\n",
              "       'SCHOOL AND OFFICE SUPPLIES'], dtype=object)"
            ]
          },
          "metadata": {},
          "execution_count": 55
        }
      ]
=======
        "id": "Sf9hht3WLge4"
      },
      "id": "Sf9hht3WLge4",
      "execution_count": null,
      "outputs": []
>>>>>>> 01e03ab (4file made)
    },
    {
      "cell_type": "code",
      "source": [
        "fig, ax = plt.subplots(figsize=(20, 10))\n",
        "xlabels = ['HOME AND KITCHEN I', 'GROCERY II', 'GROCERY I',\n",
        "       'HOME APPLIANCES', 'FROZEN FOODS', 'EGGS', 'HOME AND KITCHEN II',\n",
        "       'HARDWARE', 'BREAD/BAKERY', 'LADIESWEAR', 'DAIRY', 'CLEANING',\n",
        "       'CELEBRATION', 'BOOKS', 'BEVERAGES', 'BEAUTY', 'BABY CARE',\n",
        "       'HOME CARE', 'AUTOMOTIVE', 'PET SUPPLIES', 'PERSONAL CARE',\n",
        "       'MEATS', 'MAGAZINES', 'LIQUOR,WINE,BEER', 'LINGERIE',\n",
        "       'LAWN AND GARDEN', 'PLAYERS AND ELECTRONICS', 'DELI', 'SEAFOOD',\n",
        "       'POULTRY', 'PREPARED FOODS', 'PRODUCE',\n",
        "       'SCHOOL AND OFFICE SUPPLIES']\n",
        "ax.set_xticklabels(xlabels)\n",
        "fig.autofmt_xdate(rotation=90)\n",
        "sns.barplot(x='family', y='sales', data=train)"
      ],
      "metadata": {
<<<<<<< HEAD
        "colab": {
          "base_uri": "https://localhost:8080/",
          "height": 715
        },
        "id": "nJOp2zVjHB0T",
        "outputId": "086d9945-b5f3-459c-9d40-c49db79d1a22"
      },
      "id": "nJOp2zVjHB0T",
      "execution_count": null,
      "outputs": [
        {
          "output_type": "execute_result",
          "data": {
            "text/plain": [
              "<matplotlib.axes._subplots.AxesSubplot at 0x7fce3943fc10>"
            ]
          },
          "metadata": {},
          "execution_count": 72
        },
        {
          "output_type": "display_data",
          "data": {
            "image/png": "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\n",
            "text/plain": [
              "<Figure size 1440x720 with 1 Axes>"
            ]
          },
          "metadata": {
            "needs_background": "light"
          }
        }
      ]
=======
        "id": "nJOp2zVjHB0T"
      },
      "id": "nJOp2zVjHB0T",
      "execution_count": null,
      "outputs": []
>>>>>>> 01e03ab (4file made)
    },
    {
      "cell_type": "code",
      "source": [
        ""
      ],
      "metadata": {
        "id": "K5Rx17PoFhrm"
      },
      "id": "K5Rx17PoFhrm",
      "execution_count": null,
      "outputs": []
    }
  ],
  "metadata": {
    "kernelspec": {
      "display_name": "Python 3.6.13 64-bit (conda)",
      "language": "python",
      "name": "python3613jvsc74a57bd07711b2567a732f63a8eb658637a0b16d8853d5439f9b2c03e15434db31b47f0c"
    },
    "language_info": {
      "codemirror_mode": {
        "name": "ipython",
        "version": 3
      },
      "file_extension": ".py",
      "mimetype": "text/x-python",
      "name": "python",
      "nbconvert_exporter": "python",
      "pygments_lexer": "ipython3",
      "version": "3.6.13"
    },
    "colab": {
      "name": "store_sales_visualizating.ipynb",
      "provenance": [],
      "collapsed_sections": []
    },
    "accelerator": "GPU"
  },
  "nbformat": 4,
  "nbformat_minor": 5
}